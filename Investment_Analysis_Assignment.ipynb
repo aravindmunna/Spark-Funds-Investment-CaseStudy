{
 "cells": [
  {
   "cell_type": "markdown",
   "metadata": {},
   "source": [
    "### Project Brief\n",
    "\n",
    "Spark Funds wants to make investments in a few companies. The CEO of Spark Funds wants to understand the global trends in investments so that she can take the investment decisions effectively."
   ]
  },
  {
   "cell_type": "markdown",
   "metadata": {},
   "source": [
    "#### Spark Funds has two minor constraints for investments:\n",
    "\n",
    "- It wants to invest between 5 to 15 million USD per round of investment\n",
    "\n",
    "- It wants to invest only in English-speaking countries because of the ease of communication with the companies it would invest in\n"
   ]
  },
  {
   "cell_type": "code",
   "execution_count": 1,
   "metadata": {},
   "outputs": [
    {
     "data": {
      "text/plain": [
       "['Countries_where_English_is_an_official_language.pdf',\n",
       " 'rounds2.csv',\n",
       " 'mapping.csv',\n",
       " 'companies.txt']"
      ]
     },
     "execution_count": 1,
     "metadata": {},
     "output_type": "execute_result"
    }
   ],
   "source": [
    "# Note that all source file to be placed under the data folder in present directory.\n",
    "import os\n",
    "os.listdir(\"data/\")"
   ]
  },
  {
   "cell_type": "code",
   "execution_count": 2,
   "metadata": {},
   "outputs": [
    {
     "name": "stdout",
     "output_type": "stream",
     "text": [
      "1\n",
      "ListofcountrieswhereEnglishisanofficiallanguage\n",
      "AfricaBotswanaCameroonEthiopiaEritrea\n",
      "TheGambiaGhanaKenyaLesothoLiberiaMalawiMauritiusNamibiaNigeriaRwandaSeychellesSierraLeone\n",
      "SouthAfricaSouthSudanSudanSwazilandTanzaniaUgandaZambiaZimbabwe\n",
      "AmericasAntiguaandBarbudaTheBahamas\n",
      "BarbadosBelizeCanadaDominicaGrenadaGuyanaJamaicaSaintKittsandNevisSaintLuciaSaintVincentandtheGrenadinesTrinidadandTobago\n",
      "UnitedStates\n",
      "\n",
      "AsiaIndiaPakistanPhilippinesSingaporeAustralia/OceaniaAustraliaFijiKiribatiMarshallIslandsFederatedStates\n",
      "ofMicronesiaNauruNewZealand\n",
      "PalauPapuaNewGuineaSamoaSolomonIslands\n",
      "TongaTuvaluVanuatu\n",
      "EuropeIrelandMaltaUnitedKingdom\n",
      "\n"
     ]
    }
   ],
   "source": [
    "import PyPDF2\n",
    "\n",
    "# reading the pdf file\n",
    "pdf_object = open('data/Countries_where_English_is_an_official_language.pdf', 'rb')\n",
    "pdf_reader = PyPDF2.PdfFileReader(pdf_object)\n",
    "\n",
    "# Number of pages in the PDF file\n",
    "print(pdf_reader.numPages)\n",
    "\n",
    "# get a certain page's text\n",
    "page_object = pdf_reader.getPage(0)\n",
    "\n",
    "# Extract text from the page_object\n",
    "print(page_object.extractText())"
   ]
  },
  {
   "cell_type": "markdown",
   "metadata": {},
   "source": [
    "#### The data is very much unstructured and will not be able to read them into a table. We will lookup later to see if this info needs to be converted to structred format.\n"
   ]
  },
  {
   "cell_type": "code",
   "execution_count": 3,
   "metadata": {
    "collapsed": true
   },
   "outputs": [],
   "source": [
    "import pandas as pd\n",
    "pd.options.display.float_format = '{:,.2f}'.format\n",
    "# Lets load the companies and rounds into dataframes\n",
    "companies = pd.read_csv(\"data/companies.txt\", sep=\"\\t\", encoding = \"ISO-8859-1\")\n",
    "rounds = pd.read_csv(\"data/rounds2.csv\", encoding = \"ISO-8859-1\")"
   ]
  },
  {
   "cell_type": "markdown",
   "metadata": {},
   "source": [
    "Lets explore the data"
   ]
  },
  {
   "cell_type": "code",
   "execution_count": 4,
   "metadata": {},
   "outputs": [
    {
     "name": "stdout",
     "output_type": "stream",
     "text": [
      "<class 'pandas.core.frame.DataFrame'>\n",
      "RangeIndex: 66368 entries, 0 to 66367\n",
      "Data columns (total 10 columns):\n",
      "permalink        66368 non-null object\n",
      "name             66367 non-null object\n",
      "homepage_url     61310 non-null object\n",
      "category_list    63220 non-null object\n",
      "status           66368 non-null object\n",
      "country_code     59410 non-null object\n",
      "state_code       57821 non-null object\n",
      "region           58338 non-null object\n",
      "city             58340 non-null object\n",
      "founded_at       51147 non-null object\n",
      "dtypes: object(10)\n",
      "memory usage: 5.1+ MB\n"
     ]
    }
   ],
   "source": [
    "companies.info()"
   ]
  },
  {
   "cell_type": "code",
   "execution_count": 5,
   "metadata": {},
   "outputs": [
    {
     "name": "stdout",
     "output_type": "stream",
     "text": [
      "<class 'pandas.core.frame.DataFrame'>\n",
      "RangeIndex: 114949 entries, 0 to 114948\n",
      "Data columns (total 6 columns):\n",
      "company_permalink          114949 non-null object\n",
      "funding_round_permalink    114949 non-null object\n",
      "funding_round_type         114949 non-null object\n",
      "funding_round_code         31140 non-null object\n",
      "funded_at                  114949 non-null object\n",
      "raised_amount_usd          94959 non-null float64\n",
      "dtypes: float64(1), object(5)\n",
      "memory usage: 5.3+ MB\n"
     ]
    }
   ],
   "source": [
    "rounds.info()"
   ]
  },
  {
   "cell_type": "code",
   "execution_count": 6,
   "metadata": {},
   "outputs": [
    {
     "data": {
      "text/html": [
       "<div>\n",
       "<style>\n",
       "    .dataframe thead tr:only-child th {\n",
       "        text-align: right;\n",
       "    }\n",
       "\n",
       "    .dataframe thead th {\n",
       "        text-align: left;\n",
       "    }\n",
       "\n",
       "    .dataframe tbody tr th {\n",
       "        vertical-align: top;\n",
       "    }\n",
       "</style>\n",
       "<table border=\"1\" class=\"dataframe\">\n",
       "  <thead>\n",
       "    <tr style=\"text-align: right;\">\n",
       "      <th></th>\n",
       "      <th>permalink</th>\n",
       "      <th>name</th>\n",
       "      <th>homepage_url</th>\n",
       "      <th>category_list</th>\n",
       "      <th>status</th>\n",
       "      <th>country_code</th>\n",
       "      <th>state_code</th>\n",
       "      <th>region</th>\n",
       "      <th>city</th>\n",
       "      <th>founded_at</th>\n",
       "    </tr>\n",
       "  </thead>\n",
       "  <tbody>\n",
       "    <tr>\n",
       "      <th>count</th>\n",
       "      <td>66368</td>\n",
       "      <td>66367</td>\n",
       "      <td>61310</td>\n",
       "      <td>63220</td>\n",
       "      <td>66368</td>\n",
       "      <td>59410</td>\n",
       "      <td>57821</td>\n",
       "      <td>58338</td>\n",
       "      <td>58340</td>\n",
       "      <td>51147</td>\n",
       "    </tr>\n",
       "    <tr>\n",
       "      <th>unique</th>\n",
       "      <td>66368</td>\n",
       "      <td>66102</td>\n",
       "      <td>61191</td>\n",
       "      <td>27296</td>\n",
       "      <td>4</td>\n",
       "      <td>137</td>\n",
       "      <td>311</td>\n",
       "      <td>1092</td>\n",
       "      <td>5111</td>\n",
       "      <td>3978</td>\n",
       "    </tr>\n",
       "    <tr>\n",
       "      <th>top</th>\n",
       "      <td>/Organization/Healthexpense-Inc-</td>\n",
       "      <td>Spire</td>\n",
       "      <td>http://www.askforoffer.com</td>\n",
       "      <td>Software</td>\n",
       "      <td>operating</td>\n",
       "      <td>USA</td>\n",
       "      <td>CA</td>\n",
       "      <td>SF Bay Area</td>\n",
       "      <td>San Francisco</td>\n",
       "      <td>01-01-2012</td>\n",
       "    </tr>\n",
       "    <tr>\n",
       "      <th>freq</th>\n",
       "      <td>1</td>\n",
       "      <td>4</td>\n",
       "      <td>5</td>\n",
       "      <td>3995</td>\n",
       "      <td>53034</td>\n",
       "      <td>37601</td>\n",
       "      <td>12900</td>\n",
       "      <td>8804</td>\n",
       "      <td>3526</td>\n",
       "      <td>2730</td>\n",
       "    </tr>\n",
       "  </tbody>\n",
       "</table>\n",
       "</div>"
      ],
      "text/plain": [
       "                               permalink   name                homepage_url  \\\n",
       "count                              66368  66367                       61310   \n",
       "unique                             66368  66102                       61191   \n",
       "top     /Organization/Healthexpense-Inc-  Spire  http://www.askforoffer.com   \n",
       "freq                                   1      4                           5   \n",
       "\n",
       "       category_list     status country_code state_code       region  \\\n",
       "count          63220      66368        59410      57821        58338   \n",
       "unique         27296          4          137        311         1092   \n",
       "top         Software  operating          USA         CA  SF Bay Area   \n",
       "freq            3995      53034        37601      12900         8804   \n",
       "\n",
       "                 city  founded_at  \n",
       "count           58340       51147  \n",
       "unique           5111        3978  \n",
       "top     San Francisco  01-01-2012  \n",
       "freq             3526        2730  "
      ]
     },
     "execution_count": 6,
     "metadata": {},
     "output_type": "execute_result"
    }
   ],
   "source": [
    "companies.describe()"
   ]
  },
  {
   "cell_type": "code",
   "execution_count": 7,
   "metadata": {},
   "outputs": [
    {
     "data": {
      "text/html": [
       "<div>\n",
       "<style>\n",
       "    .dataframe thead tr:only-child th {\n",
       "        text-align: right;\n",
       "    }\n",
       "\n",
       "    .dataframe thead th {\n",
       "        text-align: left;\n",
       "    }\n",
       "\n",
       "    .dataframe tbody tr th {\n",
       "        vertical-align: top;\n",
       "    }\n",
       "</style>\n",
       "<table border=\"1\" class=\"dataframe\">\n",
       "  <thead>\n",
       "    <tr style=\"text-align: right;\">\n",
       "      <th></th>\n",
       "      <th>raised_amount_usd</th>\n",
       "    </tr>\n",
       "  </thead>\n",
       "  <tbody>\n",
       "    <tr>\n",
       "      <th>count</th>\n",
       "      <td>94,959.00</td>\n",
       "    </tr>\n",
       "    <tr>\n",
       "      <th>mean</th>\n",
       "      <td>10,426,869.33</td>\n",
       "    </tr>\n",
       "    <tr>\n",
       "      <th>std</th>\n",
       "      <td>114,821,247.98</td>\n",
       "    </tr>\n",
       "    <tr>\n",
       "      <th>min</th>\n",
       "      <td>0.00</td>\n",
       "    </tr>\n",
       "    <tr>\n",
       "      <th>25%</th>\n",
       "      <td>322,500.00</td>\n",
       "    </tr>\n",
       "    <tr>\n",
       "      <th>50%</th>\n",
       "      <td>1,680,511.00</td>\n",
       "    </tr>\n",
       "    <tr>\n",
       "      <th>75%</th>\n",
       "      <td>7,000,000.00</td>\n",
       "    </tr>\n",
       "    <tr>\n",
       "      <th>max</th>\n",
       "      <td>21,271,935,000.00</td>\n",
       "    </tr>\n",
       "  </tbody>\n",
       "</table>\n",
       "</div>"
      ],
      "text/plain": [
       "       raised_amount_usd\n",
       "count          94,959.00\n",
       "mean       10,426,869.33\n",
       "std       114,821,247.98\n",
       "min                 0.00\n",
       "25%           322,500.00\n",
       "50%         1,680,511.00\n",
       "75%         7,000,000.00\n",
       "max    21,271,935,000.00"
      ]
     },
     "execution_count": 7,
     "metadata": {},
     "output_type": "execute_result"
    }
   ],
   "source": [
    "rounds.describe()"
   ]
  },
  {
   "cell_type": "code",
   "execution_count": 8,
   "metadata": {},
   "outputs": [
    {
     "data": {
      "text/html": [
       "<div>\n",
       "<style>\n",
       "    .dataframe thead tr:only-child th {\n",
       "        text-align: right;\n",
       "    }\n",
       "\n",
       "    .dataframe thead th {\n",
       "        text-align: left;\n",
       "    }\n",
       "\n",
       "    .dataframe tbody tr th {\n",
       "        vertical-align: top;\n",
       "    }\n",
       "</style>\n",
       "<table border=\"1\" class=\"dataframe\">\n",
       "  <thead>\n",
       "    <tr style=\"text-align: right;\">\n",
       "      <th></th>\n",
       "      <th>permalink</th>\n",
       "      <th>name</th>\n",
       "      <th>homepage_url</th>\n",
       "      <th>category_list</th>\n",
       "      <th>status</th>\n",
       "      <th>country_code</th>\n",
       "      <th>state_code</th>\n",
       "      <th>region</th>\n",
       "      <th>city</th>\n",
       "      <th>founded_at</th>\n",
       "    </tr>\n",
       "  </thead>\n",
       "  <tbody>\n",
       "    <tr>\n",
       "      <th>0</th>\n",
       "      <td>/Organization/-Fame</td>\n",
       "      <td>#fame</td>\n",
       "      <td>http://livfame.com</td>\n",
       "      <td>Media</td>\n",
       "      <td>operating</td>\n",
       "      <td>IND</td>\n",
       "      <td>16</td>\n",
       "      <td>Mumbai</td>\n",
       "      <td>Mumbai</td>\n",
       "      <td>NaN</td>\n",
       "    </tr>\n",
       "    <tr>\n",
       "      <th>1</th>\n",
       "      <td>/Organization/-Qounter</td>\n",
       "      <td>:Qounter</td>\n",
       "      <td>http://www.qounter.com</td>\n",
       "      <td>Application Platforms|Real Time|Social Network...</td>\n",
       "      <td>operating</td>\n",
       "      <td>USA</td>\n",
       "      <td>DE</td>\n",
       "      <td>DE - Other</td>\n",
       "      <td>Delaware City</td>\n",
       "      <td>04-09-2014</td>\n",
       "    </tr>\n",
       "    <tr>\n",
       "      <th>2</th>\n",
       "      <td>/Organization/-The-One-Of-Them-Inc-</td>\n",
       "      <td>(THE) ONE of THEM,Inc.</td>\n",
       "      <td>http://oneofthem.jp</td>\n",
       "      <td>Apps|Games|Mobile</td>\n",
       "      <td>operating</td>\n",
       "      <td>NaN</td>\n",
       "      <td>NaN</td>\n",
       "      <td>NaN</td>\n",
       "      <td>NaN</td>\n",
       "      <td>NaN</td>\n",
       "    </tr>\n",
       "    <tr>\n",
       "      <th>3</th>\n",
       "      <td>/Organization/0-6-Com</td>\n",
       "      <td>0-6.com</td>\n",
       "      <td>http://www.0-6.com</td>\n",
       "      <td>Curated Web</td>\n",
       "      <td>operating</td>\n",
       "      <td>CHN</td>\n",
       "      <td>22</td>\n",
       "      <td>Beijing</td>\n",
       "      <td>Beijing</td>\n",
       "      <td>01-01-2007</td>\n",
       "    </tr>\n",
       "    <tr>\n",
       "      <th>4</th>\n",
       "      <td>/Organization/004-Technologies</td>\n",
       "      <td>004 Technologies</td>\n",
       "      <td>http://004gmbh.de/en/004-interact</td>\n",
       "      <td>Software</td>\n",
       "      <td>operating</td>\n",
       "      <td>USA</td>\n",
       "      <td>IL</td>\n",
       "      <td>Springfield, Illinois</td>\n",
       "      <td>Champaign</td>\n",
       "      <td>01-01-2010</td>\n",
       "    </tr>\n",
       "  </tbody>\n",
       "</table>\n",
       "</div>"
      ],
      "text/plain": [
       "                             permalink                    name  \\\n",
       "0                  /Organization/-Fame                   #fame   \n",
       "1               /Organization/-Qounter                :Qounter   \n",
       "2  /Organization/-The-One-Of-Them-Inc-  (THE) ONE of THEM,Inc.   \n",
       "3                /Organization/0-6-Com                 0-6.com   \n",
       "4       /Organization/004-Technologies        004 Technologies   \n",
       "\n",
       "                        homepage_url  \\\n",
       "0                 http://livfame.com   \n",
       "1             http://www.qounter.com   \n",
       "2                http://oneofthem.jp   \n",
       "3                 http://www.0-6.com   \n",
       "4  http://004gmbh.de/en/004-interact   \n",
       "\n",
       "                                       category_list     status country_code  \\\n",
       "0                                              Media  operating          IND   \n",
       "1  Application Platforms|Real Time|Social Network...  operating          USA   \n",
       "2                                  Apps|Games|Mobile  operating          NaN   \n",
       "3                                        Curated Web  operating          CHN   \n",
       "4                                           Software  operating          USA   \n",
       "\n",
       "  state_code                 region           city  founded_at  \n",
       "0         16                 Mumbai         Mumbai         NaN  \n",
       "1         DE             DE - Other  Delaware City  04-09-2014  \n",
       "2        NaN                    NaN            NaN         NaN  \n",
       "3         22                Beijing        Beijing  01-01-2007  \n",
       "4         IL  Springfield, Illinois      Champaign  01-01-2010  "
      ]
     },
     "execution_count": 8,
     "metadata": {},
     "output_type": "execute_result"
    }
   ],
   "source": [
    "companies.head(5)"
   ]
  },
  {
   "cell_type": "code",
   "execution_count": 9,
   "metadata": {},
   "outputs": [
    {
     "data": {
      "text/html": [
       "<div>\n",
       "<style>\n",
       "    .dataframe thead tr:only-child th {\n",
       "        text-align: right;\n",
       "    }\n",
       "\n",
       "    .dataframe thead th {\n",
       "        text-align: left;\n",
       "    }\n",
       "\n",
       "    .dataframe tbody tr th {\n",
       "        vertical-align: top;\n",
       "    }\n",
       "</style>\n",
       "<table border=\"1\" class=\"dataframe\">\n",
       "  <thead>\n",
       "    <tr style=\"text-align: right;\">\n",
       "      <th></th>\n",
       "      <th>company_permalink</th>\n",
       "      <th>funding_round_permalink</th>\n",
       "      <th>funding_round_type</th>\n",
       "      <th>funding_round_code</th>\n",
       "      <th>funded_at</th>\n",
       "      <th>raised_amount_usd</th>\n",
       "    </tr>\n",
       "  </thead>\n",
       "  <tbody>\n",
       "    <tr>\n",
       "      <th>0</th>\n",
       "      <td>/organization/-fame</td>\n",
       "      <td>/funding-round/9a01d05418af9f794eebff7ace91f638</td>\n",
       "      <td>venture</td>\n",
       "      <td>B</td>\n",
       "      <td>05-01-2015</td>\n",
       "      <td>10,000,000.00</td>\n",
       "    </tr>\n",
       "    <tr>\n",
       "      <th>1</th>\n",
       "      <td>/ORGANIZATION/-QOUNTER</td>\n",
       "      <td>/funding-round/22dacff496eb7acb2b901dec1dfe5633</td>\n",
       "      <td>venture</td>\n",
       "      <td>A</td>\n",
       "      <td>14-10-2014</td>\n",
       "      <td>nan</td>\n",
       "    </tr>\n",
       "    <tr>\n",
       "      <th>2</th>\n",
       "      <td>/organization/-qounter</td>\n",
       "      <td>/funding-round/b44fbb94153f6cdef13083530bb48030</td>\n",
       "      <td>seed</td>\n",
       "      <td>NaN</td>\n",
       "      <td>01-03-2014</td>\n",
       "      <td>700,000.00</td>\n",
       "    </tr>\n",
       "    <tr>\n",
       "      <th>3</th>\n",
       "      <td>/ORGANIZATION/-THE-ONE-OF-THEM-INC-</td>\n",
       "      <td>/funding-round/650b8f704416801069bb178a1418776b</td>\n",
       "      <td>venture</td>\n",
       "      <td>B</td>\n",
       "      <td>30-01-2014</td>\n",
       "      <td>3,406,878.00</td>\n",
       "    </tr>\n",
       "    <tr>\n",
       "      <th>4</th>\n",
       "      <td>/organization/0-6-com</td>\n",
       "      <td>/funding-round/5727accaeaa57461bd22a9bdd945382d</td>\n",
       "      <td>venture</td>\n",
       "      <td>A</td>\n",
       "      <td>19-03-2008</td>\n",
       "      <td>2,000,000.00</td>\n",
       "    </tr>\n",
       "  </tbody>\n",
       "</table>\n",
       "</div>"
      ],
      "text/plain": [
       "                     company_permalink  \\\n",
       "0                  /organization/-fame   \n",
       "1               /ORGANIZATION/-QOUNTER   \n",
       "2               /organization/-qounter   \n",
       "3  /ORGANIZATION/-THE-ONE-OF-THEM-INC-   \n",
       "4                /organization/0-6-com   \n",
       "\n",
       "                           funding_round_permalink funding_round_type  \\\n",
       "0  /funding-round/9a01d05418af9f794eebff7ace91f638            venture   \n",
       "1  /funding-round/22dacff496eb7acb2b901dec1dfe5633            venture   \n",
       "2  /funding-round/b44fbb94153f6cdef13083530bb48030               seed   \n",
       "3  /funding-round/650b8f704416801069bb178a1418776b            venture   \n",
       "4  /funding-round/5727accaeaa57461bd22a9bdd945382d            venture   \n",
       "\n",
       "  funding_round_code   funded_at  raised_amount_usd  \n",
       "0                  B  05-01-2015      10,000,000.00  \n",
       "1                  A  14-10-2014                nan  \n",
       "2                NaN  01-03-2014         700,000.00  \n",
       "3                  B  30-01-2014       3,406,878.00  \n",
       "4                  A  19-03-2008       2,000,000.00  "
      ]
     },
     "execution_count": 9,
     "metadata": {},
     "output_type": "execute_result"
    }
   ],
   "source": [
    "rounds.head(5)"
   ]
  },
  {
   "cell_type": "code",
   "execution_count": 10,
   "metadata": {},
   "outputs": [
    {
     "name": "stdout",
     "output_type": "stream",
     "text": [
      "66103\n"
     ]
    }
   ],
   "source": [
    "# Lets determine the unique company name\n",
    "print(len(companies.name.unique()))"
   ]
  },
  {
   "cell_type": "code",
   "execution_count": 11,
   "metadata": {},
   "outputs": [
    {
     "name": "stdout",
     "output_type": "stream",
     "text": [
      "66368\n"
     ]
    }
   ],
   "source": [
    "print(len(companies.permalink.unique()))"
   ]
  },
  {
   "cell_type": "code",
   "execution_count": 12,
   "metadata": {},
   "outputs": [
    {
     "name": "stdout",
     "output_type": "stream",
     "text": [
      "90247\n"
     ]
    }
   ],
   "source": [
    "print(len(rounds.company_permalink.unique()))"
   ]
  },
  {
   "cell_type": "code",
   "execution_count": 13,
   "metadata": {},
   "outputs": [
    {
     "name": "stdout",
     "output_type": "stream",
     "text": [
      "66370\n"
     ]
    }
   ],
   "source": [
    "# It is observed that the company_permalink is case sensitive in the source data, normalize and get unique count\n",
    "print(len(rounds['company_permalink'].str.lower().unique()))"
   ]
  },
  {
   "cell_type": "markdown",
   "metadata": {
    "collapsed": true
   },
   "source": [
    "** Lets view rows with same company name. This is just to ensure that the number or unique company name is less than the number of unique permalink **\n",
    "\n"
   ]
  },
  {
   "cell_type": "code",
   "execution_count": 14,
   "metadata": {},
   "outputs": [
    {
     "data": {
      "text/html": [
       "<div>\n",
       "<style>\n",
       "    .dataframe thead tr:only-child th {\n",
       "        text-align: right;\n",
       "    }\n",
       "\n",
       "    .dataframe thead th {\n",
       "        text-align: left;\n",
       "    }\n",
       "\n",
       "    .dataframe tbody tr th {\n",
       "        vertical-align: top;\n",
       "    }\n",
       "</style>\n",
       "<table border=\"1\" class=\"dataframe\">\n",
       "  <thead>\n",
       "    <tr style=\"text-align: right;\">\n",
       "      <th></th>\n",
       "      <th>permalink</th>\n",
       "      <th>name</th>\n",
       "      <th>homepage_url</th>\n",
       "      <th>category_list</th>\n",
       "      <th>status</th>\n",
       "      <th>country_code</th>\n",
       "      <th>state_code</th>\n",
       "      <th>region</th>\n",
       "      <th>city</th>\n",
       "      <th>founded_at</th>\n",
       "    </tr>\n",
       "  </thead>\n",
       "  <tbody>\n",
       "    <tr>\n",
       "      <th>281</th>\n",
       "      <td>/Organization/3Divaz-2</td>\n",
       "      <td>3DIVAZ</td>\n",
       "      <td>http://www.3divaz.ch/Home</td>\n",
       "      <td>NaN</td>\n",
       "      <td>closed</td>\n",
       "      <td>NaN</td>\n",
       "      <td>NaN</td>\n",
       "      <td>NaN</td>\n",
       "      <td>NaN</td>\n",
       "      <td>01-07-2014</td>\n",
       "    </tr>\n",
       "    <tr>\n",
       "      <th>282</th>\n",
       "      <td>/Organization/3Divaz-3</td>\n",
       "      <td>3DIVAZ</td>\n",
       "      <td>http://www.3divaz.ch/Home</td>\n",
       "      <td>NaN</td>\n",
       "      <td>operating</td>\n",
       "      <td>CHE</td>\n",
       "      <td>1</td>\n",
       "      <td>CHE - Other</td>\n",
       "      <td>Wildegg</td>\n",
       "      <td>01-07-2014</td>\n",
       "    </tr>\n",
       "    <tr>\n",
       "      <th>3942</th>\n",
       "      <td>/Organization/Aps</td>\n",
       "      <td>APS</td>\n",
       "      <td>http://www.aps.com</td>\n",
       "      <td>Clean Technology</td>\n",
       "      <td>operating</td>\n",
       "      <td>NaN</td>\n",
       "      <td>NaN</td>\n",
       "      <td>NaN</td>\n",
       "      <td>NaN</td>\n",
       "      <td>NaN</td>\n",
       "    </tr>\n",
       "    <tr>\n",
       "      <th>3943</th>\n",
       "      <td>/Organization/Aps-Llc</td>\n",
       "      <td>APS</td>\n",
       "      <td>NaN</td>\n",
       "      <td>Real Estate</td>\n",
       "      <td>operating</td>\n",
       "      <td>USA</td>\n",
       "      <td>GA</td>\n",
       "      <td>Macon</td>\n",
       "      <td>Griffin</td>\n",
       "      <td>31-03-2011</td>\n",
       "    </tr>\n",
       "    <tr>\n",
       "      <th>3982</th>\n",
       "      <td>/Organization/Apx</td>\n",
       "      <td>APX</td>\n",
       "      <td>http://www.apxgroup.com</td>\n",
       "      <td>Clean Technology</td>\n",
       "      <td>operating</td>\n",
       "      <td>NLD</td>\n",
       "      <td>7</td>\n",
       "      <td>Amsterdam</td>\n",
       "      <td>Amsterdam</td>\n",
       "      <td>01-01-1999</td>\n",
       "    </tr>\n",
       "    <tr>\n",
       "      <th>3983</th>\n",
       "      <td>/Organization/Apx-2</td>\n",
       "      <td>APX</td>\n",
       "      <td>http://www.apx.com/</td>\n",
       "      <td>Energy Management|Environmental Innovation</td>\n",
       "      <td>operating</td>\n",
       "      <td>USA</td>\n",
       "      <td>CA</td>\n",
       "      <td>SF Bay Area</td>\n",
       "      <td>San Jose</td>\n",
       "      <td>NaN</td>\n",
       "    </tr>\n",
       "    <tr>\n",
       "      <th>1526</th>\n",
       "      <td>/Organization/Adtena</td>\n",
       "      <td>Adtena</td>\n",
       "      <td>http://adtena.com/</td>\n",
       "      <td>Ad Targeting|Advertising|Mobile Advertising</td>\n",
       "      <td>operating</td>\n",
       "      <td>NaN</td>\n",
       "      <td>NaN</td>\n",
       "      <td>NaN</td>\n",
       "      <td>NaN</td>\n",
       "      <td>NaN</td>\n",
       "    </tr>\n",
       "    <tr>\n",
       "      <th>1527</th>\n",
       "      <td>/Organization/Adtena-2</td>\n",
       "      <td>Adtena</td>\n",
       "      <td>http://adtena.com</td>\n",
       "      <td>NaN</td>\n",
       "      <td>closed</td>\n",
       "      <td>NaN</td>\n",
       "      <td>NaN</td>\n",
       "      <td>NaN</td>\n",
       "      <td>NaN</td>\n",
       "      <td>15-11-2014</td>\n",
       "    </tr>\n",
       "    <tr>\n",
       "      <th>1995</th>\n",
       "      <td>/Organization/Agora-3</td>\n",
       "      <td>Agora</td>\n",
       "      <td>http://www.agora.io/</td>\n",
       "      <td>Mobile|Mobile Software Tools|VoIP</td>\n",
       "      <td>operating</td>\n",
       "      <td>USA</td>\n",
       "      <td>CA</td>\n",
       "      <td>SF Bay Area</td>\n",
       "      <td>Palo Alto</td>\n",
       "      <td>01-01-2014</td>\n",
       "    </tr>\n",
       "    <tr>\n",
       "      <th>1996</th>\n",
       "      <td>/Organization/Agora-6</td>\n",
       "      <td>Agora</td>\n",
       "      <td>https://www.agora.co</td>\n",
       "      <td>Android|Apps|Internet|Mobile</td>\n",
       "      <td>operating</td>\n",
       "      <td>USA</td>\n",
       "      <td>NY</td>\n",
       "      <td>New York City</td>\n",
       "      <td>New York</td>\n",
       "      <td>01-07-2013</td>\n",
       "    </tr>\n",
       "    <tr>\n",
       "      <th>3005</th>\n",
       "      <td>/Organization/Amicus</td>\n",
       "      <td>Amicus</td>\n",
       "      <td>http://amicushq.com</td>\n",
       "      <td>Colleges|Innovation Management|Nonprofits|Poli...</td>\n",
       "      <td>operating</td>\n",
       "      <td>USA</td>\n",
       "      <td>NY</td>\n",
       "      <td>New York City</td>\n",
       "      <td>New York</td>\n",
       "      <td>01-01-2011</td>\n",
       "    </tr>\n",
       "    <tr>\n",
       "      <th>3006</th>\n",
       "      <td>/Organization/Amicus-Co</td>\n",
       "      <td>Amicus</td>\n",
       "      <td>http://www.amicus.co</td>\n",
       "      <td>Apps|Mobile|Mobile Commerce</td>\n",
       "      <td>operating</td>\n",
       "      <td>IND</td>\n",
       "      <td>7</td>\n",
       "      <td>New Delhi</td>\n",
       "      <td>New Delhi</td>\n",
       "      <td>01-01-2015</td>\n",
       "    </tr>\n",
       "    <tr>\n",
       "      <th>3090</th>\n",
       "      <td>/Organization/Amplitude</td>\n",
       "      <td>Amplitude</td>\n",
       "      <td>http://amplitude.com</td>\n",
       "      <td>Analytics|Big Data|Mobile Analytics|SaaS</td>\n",
       "      <td>operating</td>\n",
       "      <td>USA</td>\n",
       "      <td>CA</td>\n",
       "      <td>SF Bay Area</td>\n",
       "      <td>San Francisco</td>\n",
       "      <td>01-01-2012</td>\n",
       "    </tr>\n",
       "    <tr>\n",
       "      <th>3091</th>\n",
       "      <td>/Organization/Amplitude-2</td>\n",
       "      <td>Amplitude</td>\n",
       "      <td>http://amplitude-technologies.com/</td>\n",
       "      <td>Electronics</td>\n",
       "      <td>operating</td>\n",
       "      <td>FRA</td>\n",
       "      <td>A8</td>\n",
       "      <td>Ãâ°vry</td>\n",
       "      <td>Ãvry</td>\n",
       "      <td>01-01-2001</td>\n",
       "    </tr>\n",
       "    <tr>\n",
       "      <th>3256</th>\n",
       "      <td>/Organization/Anews</td>\n",
       "      <td>Anews, Inc.</td>\n",
       "      <td>http://www.anews.com/</td>\n",
       "      <td>Blogging Platforms|Digital Media|News|Personal...</td>\n",
       "      <td>operating</td>\n",
       "      <td>RUS</td>\n",
       "      <td>NaN</td>\n",
       "      <td>NaN</td>\n",
       "      <td>NaN</td>\n",
       "      <td>01-07-2013</td>\n",
       "    </tr>\n",
       "    <tr>\n",
       "      <th>3257</th>\n",
       "      <td>/Organization/Anews-Inc</td>\n",
       "      <td>Anews, Inc.</td>\n",
       "      <td>http://www.anews.com</td>\n",
       "      <td>Blogging Platforms|News|Social Media|Social Ne...</td>\n",
       "      <td>operating</td>\n",
       "      <td>USA</td>\n",
       "      <td>CA</td>\n",
       "      <td>SF Bay Area</td>\n",
       "      <td>Palo Alto</td>\n",
       "      <td>01-07-2013</td>\n",
       "    </tr>\n",
       "    <tr>\n",
       "      <th>3965</th>\n",
       "      <td>/Organization/Aptible</td>\n",
       "      <td>Aptible</td>\n",
       "      <td>https://www.aptible.com</td>\n",
       "      <td>Enterprise Software|Health and Insurance|Healt...</td>\n",
       "      <td>operating</td>\n",
       "      <td>USA</td>\n",
       "      <td>CA</td>\n",
       "      <td>SF Bay Area</td>\n",
       "      <td>San Francisco</td>\n",
       "      <td>01-04-2013</td>\n",
       "    </tr>\n",
       "    <tr>\n",
       "      <th>3966</th>\n",
       "      <td>/Organization/Aptible-2</td>\n",
       "      <td>Aptible</td>\n",
       "      <td>NaN</td>\n",
       "      <td>NaN</td>\n",
       "      <td>closed</td>\n",
       "      <td>NaN</td>\n",
       "      <td>NaN</td>\n",
       "      <td>NaN</td>\n",
       "      <td>NaN</td>\n",
       "      <td>NaN</td>\n",
       "    </tr>\n",
       "    <tr>\n",
       "      <th>4120</th>\n",
       "      <td>/Organization/Archive</td>\n",
       "      <td>Archive</td>\n",
       "      <td>NaN</td>\n",
       "      <td>NaN</td>\n",
       "      <td>acquired</td>\n",
       "      <td>USA</td>\n",
       "      <td>CA</td>\n",
       "      <td>Anaheim</td>\n",
       "      <td>Costa Mesa</td>\n",
       "      <td>01-01-1980</td>\n",
       "    </tr>\n",
       "    <tr>\n",
       "      <th>4121</th>\n",
       "      <td>/Organization/Archive-2</td>\n",
       "      <td>Archive</td>\n",
       "      <td>http://www.archive.com</td>\n",
       "      <td>Apps|B2B|Service Providers</td>\n",
       "      <td>closed</td>\n",
       "      <td>USA</td>\n",
       "      <td>CA</td>\n",
       "      <td>Los Angeles</td>\n",
       "      <td>Culver City</td>\n",
       "      <td>NaN</td>\n",
       "    </tr>\n",
       "    <tr>\n",
       "      <th>4168</th>\n",
       "      <td>/Organization/Ardian</td>\n",
       "      <td>Ardian</td>\n",
       "      <td>http://www.ardian.com</td>\n",
       "      <td>Investment Management</td>\n",
       "      <td>operating</td>\n",
       "      <td>FRA</td>\n",
       "      <td>A8</td>\n",
       "      <td>Paris</td>\n",
       "      <td>Paris</td>\n",
       "      <td>01-01-1996</td>\n",
       "    </tr>\n",
       "    <tr>\n",
       "      <th>4169</th>\n",
       "      <td>/Organization/Ardian-Inc</td>\n",
       "      <td>Ardian</td>\n",
       "      <td>http://www.ardian.com</td>\n",
       "      <td>Health Care</td>\n",
       "      <td>acquired</td>\n",
       "      <td>USA</td>\n",
       "      <td>CA</td>\n",
       "      <td>SF Bay Area</td>\n",
       "      <td>Mountain View</td>\n",
       "      <td>01-01-2003</td>\n",
       "    </tr>\n",
       "    <tr>\n",
       "      <th>4481</th>\n",
       "      <td>/Organization/Arvegenix</td>\n",
       "      <td>Arvegenix</td>\n",
       "      <td>http://www.arvegenix.com/</td>\n",
       "      <td>Fuels|Nutrition|Oil|Renewable Energies</td>\n",
       "      <td>operating</td>\n",
       "      <td>USA</td>\n",
       "      <td>MO</td>\n",
       "      <td>St. Louis</td>\n",
       "      <td>St Louis</td>\n",
       "      <td>01-01-2013</td>\n",
       "    </tr>\n",
       "    <tr>\n",
       "      <th>4482</th>\n",
       "      <td>/Organization/Arvegenix-2</td>\n",
       "      <td>Arvegenix</td>\n",
       "      <td>http://www.arvegenix.com/</td>\n",
       "      <td>Industrial|Oil|Renewable Energies</td>\n",
       "      <td>operating</td>\n",
       "      <td>USA</td>\n",
       "      <td>MO</td>\n",
       "      <td>St. Louis</td>\n",
       "      <td>St Louis</td>\n",
       "      <td>NaN</td>\n",
       "    </tr>\n",
       "    <tr>\n",
       "      <th>4991</th>\n",
       "      <td>/Organization/Augur</td>\n",
       "      <td>Augur</td>\n",
       "      <td>http://augur.io</td>\n",
       "      <td>Advertising|Cyber Security|Developer APIs|Mobile</td>\n",
       "      <td>operating</td>\n",
       "      <td>USA</td>\n",
       "      <td>CO</td>\n",
       "      <td>Denver</td>\n",
       "      <td>Boulder</td>\n",
       "      <td>03-05-2013</td>\n",
       "    </tr>\n",
       "    <tr>\n",
       "      <th>4992</th>\n",
       "      <td>/Organization/Augur-2</td>\n",
       "      <td>Augur</td>\n",
       "      <td>http://www.augur.net</td>\n",
       "      <td>Bitcoin|Business Services|Internet|Market Rese...</td>\n",
       "      <td>operating</td>\n",
       "      <td>USA</td>\n",
       "      <td>CA</td>\n",
       "      <td>SF Bay Area</td>\n",
       "      <td>San Francisco</td>\n",
       "      <td>01-01-2015</td>\n",
       "    </tr>\n",
       "    <tr>\n",
       "      <th>4995</th>\n",
       "      <td>/Organization/August</td>\n",
       "      <td>August</td>\n",
       "      <td>http://www.august.com</td>\n",
       "      <td>Home Automation|Internet of Things|Security|Te...</td>\n",
       "      <td>operating</td>\n",
       "      <td>USA</td>\n",
       "      <td>CA</td>\n",
       "      <td>SF Bay Area</td>\n",
       "      <td>San Francisco</td>\n",
       "      <td>29-11-2012</td>\n",
       "    </tr>\n",
       "    <tr>\n",
       "      <th>4996</th>\n",
       "      <td>/Organization/August-2</td>\n",
       "      <td>August</td>\n",
       "      <td>http://www.agst.co</td>\n",
       "      <td>Digital Media|Social Media</td>\n",
       "      <td>operating</td>\n",
       "      <td>USA</td>\n",
       "      <td>CA</td>\n",
       "      <td>Anaheim</td>\n",
       "      <td>Newport Beach</td>\n",
       "      <td>26-08-2014</td>\n",
       "    </tr>\n",
       "    <tr>\n",
       "      <th>5146</th>\n",
       "      <td>/Organization/Autopilot</td>\n",
       "      <td>Autopilot</td>\n",
       "      <td>http://www.autopilot.io</td>\n",
       "      <td>Automotive|Limousines|Public Transportation|Re...</td>\n",
       "      <td>closed</td>\n",
       "      <td>USA</td>\n",
       "      <td>NC</td>\n",
       "      <td>Charlotte</td>\n",
       "      <td>Charlotte</td>\n",
       "      <td>01-06-2012</td>\n",
       "    </tr>\n",
       "    <tr>\n",
       "      <th>5147</th>\n",
       "      <td>/Organization/Autopilot-2</td>\n",
       "      <td>Autopilot</td>\n",
       "      <td>http://www.autopilothq.com</td>\n",
       "      <td>Lead Management|SaaS|Sales and Marketing|Small...</td>\n",
       "      <td>operating</td>\n",
       "      <td>USA</td>\n",
       "      <td>CA</td>\n",
       "      <td>SF Bay Area</td>\n",
       "      <td>San Francisco</td>\n",
       "      <td>13-02-2013</td>\n",
       "    </tr>\n",
       "    <tr>\n",
       "      <th>...</th>\n",
       "      <td>...</td>\n",
       "      <td>...</td>\n",
       "      <td>...</td>\n",
       "      <td>...</td>\n",
       "      <td>...</td>\n",
       "      <td>...</td>\n",
       "      <td>...</td>\n",
       "      <td>...</td>\n",
       "      <td>...</td>\n",
       "      <td>...</td>\n",
       "    </tr>\n",
       "    <tr>\n",
       "      <th>61726</th>\n",
       "      <td>/Organization/Via-Transportation</td>\n",
       "      <td>Via</td>\n",
       "      <td>http://www.ridewithvia.com</td>\n",
       "      <td>Apps|Real Time|Software|Technology|Transportation</td>\n",
       "      <td>operating</td>\n",
       "      <td>USA</td>\n",
       "      <td>NY</td>\n",
       "      <td>New York City</td>\n",
       "      <td>New York</td>\n",
       "      <td>01-01-2012</td>\n",
       "    </tr>\n",
       "    <tr>\n",
       "      <th>61733</th>\n",
       "      <td>/Organization/Viacell</td>\n",
       "      <td>ViaCell</td>\n",
       "      <td>http://www.viacellinc.com</td>\n",
       "      <td>Biotechnology</td>\n",
       "      <td>ipo</td>\n",
       "      <td>USA</td>\n",
       "      <td>MA</td>\n",
       "      <td>Boston</td>\n",
       "      <td>Cambridge</td>\n",
       "      <td>01-01-1993</td>\n",
       "    </tr>\n",
       "    <tr>\n",
       "      <th>61736</th>\n",
       "      <td>/Organization/Viacord-2</td>\n",
       "      <td>ViaCell</td>\n",
       "      <td>http://www.viacord.com/</td>\n",
       "      <td>Biotechnology</td>\n",
       "      <td>operating</td>\n",
       "      <td>USA</td>\n",
       "      <td>MA</td>\n",
       "      <td>Boston</td>\n",
       "      <td>Boston</td>\n",
       "      <td>NaN</td>\n",
       "    </tr>\n",
       "    <tr>\n",
       "      <th>62899</th>\n",
       "      <td>/Organization/Wacai</td>\n",
       "      <td>Wacai</td>\n",
       "      <td>http://www.wacai.com</td>\n",
       "      <td>Software</td>\n",
       "      <td>operating</td>\n",
       "      <td>CHN</td>\n",
       "      <td>2</td>\n",
       "      <td>Hangzhou</td>\n",
       "      <td>Hangzhou</td>\n",
       "      <td>01-01-2008</td>\n",
       "    </tr>\n",
       "    <tr>\n",
       "      <th>62919</th>\n",
       "      <td>/Organization/Waicai</td>\n",
       "      <td>Wacai</td>\n",
       "      <td>http://www.wacai.com</td>\n",
       "      <td>Finance|FinTech</td>\n",
       "      <td>operating</td>\n",
       "      <td>CHN</td>\n",
       "      <td>2</td>\n",
       "      <td>Hangzhou</td>\n",
       "      <td>Hangzhou</td>\n",
       "      <td>NaN</td>\n",
       "    </tr>\n",
       "    <tr>\n",
       "      <th>63284</th>\n",
       "      <td>/Organization/Weave</td>\n",
       "      <td>Weave</td>\n",
       "      <td>http://www.getweave.com</td>\n",
       "      <td>Dental|Medical|Telecommunications|Veterinary</td>\n",
       "      <td>operating</td>\n",
       "      <td>USA</td>\n",
       "      <td>UT</td>\n",
       "      <td>Salt Lake City</td>\n",
       "      <td>Lehi</td>\n",
       "      <td>01-12-2011</td>\n",
       "    </tr>\n",
       "    <tr>\n",
       "      <th>63285</th>\n",
       "      <td>/Organization/Weave-2</td>\n",
       "      <td>Weave</td>\n",
       "      <td>http://weave.in</td>\n",
       "      <td>Location Based Services|Mobile|Professional Ne...</td>\n",
       "      <td>operating</td>\n",
       "      <td>USA</td>\n",
       "      <td>CA</td>\n",
       "      <td>SF Bay Area</td>\n",
       "      <td>San Francisco</td>\n",
       "      <td>01-01-2013</td>\n",
       "    </tr>\n",
       "    <tr>\n",
       "      <th>63550</th>\n",
       "      <td>/Organization/Wello</td>\n",
       "      <td>Wello</td>\n",
       "      <td>http://www.wello.com</td>\n",
       "      <td>Fitness|Health and Wellness|Training</td>\n",
       "      <td>operating</td>\n",
       "      <td>USA</td>\n",
       "      <td>CA</td>\n",
       "      <td>SF Bay Area</td>\n",
       "      <td>San Francisco</td>\n",
       "      <td>01-01-2011</td>\n",
       "    </tr>\n",
       "    <tr>\n",
       "      <th>63551</th>\n",
       "      <td>/Organization/Wello-2</td>\n",
       "      <td>Wello</td>\n",
       "      <td>NaN</td>\n",
       "      <td>NaN</td>\n",
       "      <td>operating</td>\n",
       "      <td>NaN</td>\n",
       "      <td>NaN</td>\n",
       "      <td>NaN</td>\n",
       "      <td>NaN</td>\n",
       "      <td>NaN</td>\n",
       "    </tr>\n",
       "    <tr>\n",
       "      <th>64136</th>\n",
       "      <td>/Organization/Wise-Connect</td>\n",
       "      <td>Wise Connect</td>\n",
       "      <td>http://wiseconnectinc.com</td>\n",
       "      <td>Recruiting|Services|Technology|Wireless</td>\n",
       "      <td>operating</td>\n",
       "      <td>USA</td>\n",
       "      <td>GA</td>\n",
       "      <td>Atlanta</td>\n",
       "      <td>Atlanta</td>\n",
       "      <td>NaN</td>\n",
       "    </tr>\n",
       "    <tr>\n",
       "      <th>64150</th>\n",
       "      <td>/Organization/Wisenetworks</td>\n",
       "      <td>Wise Connect</td>\n",
       "      <td>http://www.wiseconnect.pt</td>\n",
       "      <td>Agriculture|Mobile</td>\n",
       "      <td>operating</td>\n",
       "      <td>PRT</td>\n",
       "      <td>14</td>\n",
       "      <td>Porto</td>\n",
       "      <td>Porto</td>\n",
       "      <td>01-05-2012</td>\n",
       "    </tr>\n",
       "    <tr>\n",
       "      <th>64275</th>\n",
       "      <td>/Organization/Wonder-2</td>\n",
       "      <td>Wonder</td>\n",
       "      <td>https://askwonder.com/</td>\n",
       "      <td>Doctors|Internet|Search</td>\n",
       "      <td>operating</td>\n",
       "      <td>NaN</td>\n",
       "      <td>NaN</td>\n",
       "      <td>NaN</td>\n",
       "      <td>NaN</td>\n",
       "      <td>01-10-2012</td>\n",
       "    </tr>\n",
       "    <tr>\n",
       "      <th>64276</th>\n",
       "      <td>/Organization/Wonder-3</td>\n",
       "      <td>Wonder</td>\n",
       "      <td>NaN</td>\n",
       "      <td>NaN</td>\n",
       "      <td>closed</td>\n",
       "      <td>NaN</td>\n",
       "      <td>NaN</td>\n",
       "      <td>NaN</td>\n",
       "      <td>NaN</td>\n",
       "      <td>NaN</td>\n",
       "    </tr>\n",
       "    <tr>\n",
       "      <th>64340</th>\n",
       "      <td>/Organization/Worcester-Polytechnic-Institute</td>\n",
       "      <td>Worcester Polytechnic Institute</td>\n",
       "      <td>http://www.wpi.edu</td>\n",
       "      <td>Education</td>\n",
       "      <td>operating</td>\n",
       "      <td>USA</td>\n",
       "      <td>MA</td>\n",
       "      <td>Worcester</td>\n",
       "      <td>Worcester</td>\n",
       "      <td>1865-01-01</td>\n",
       "    </tr>\n",
       "    <tr>\n",
       "      <th>64341</th>\n",
       "      <td>/Organization/Worcester-Polytechnic-Institute-3</td>\n",
       "      <td>Worcester Polytechnic Institute</td>\n",
       "      <td>http://www.wpi.edu/</td>\n",
       "      <td>NaN</td>\n",
       "      <td>operating</td>\n",
       "      <td>USA</td>\n",
       "      <td>MA</td>\n",
       "      <td>Worcester</td>\n",
       "      <td>Worcester</td>\n",
       "      <td>01-01-2014</td>\n",
       "    </tr>\n",
       "    <tr>\n",
       "      <th>8949</th>\n",
       "      <td>/Organization/Businesscard2</td>\n",
       "      <td>Workface</td>\n",
       "      <td>http://workface.com/</td>\n",
       "      <td>Business Services|Curated Web|Gadget|SaaS|Sale...</td>\n",
       "      <td>operating</td>\n",
       "      <td>USA</td>\n",
       "      <td>MN</td>\n",
       "      <td>Minneapolis</td>\n",
       "      <td>Minneapolis</td>\n",
       "      <td>01-08-2006</td>\n",
       "    </tr>\n",
       "    <tr>\n",
       "      <th>64375</th>\n",
       "      <td>/Organization/Workface</td>\n",
       "      <td>Workface</td>\n",
       "      <td>http://www.workface.com</td>\n",
       "      <td>Chat|Enterprises|Identity|Software|Video</td>\n",
       "      <td>operating</td>\n",
       "      <td>USA</td>\n",
       "      <td>MN</td>\n",
       "      <td>Minneapolis</td>\n",
       "      <td>Minneapolis</td>\n",
       "      <td>01-10-2007</td>\n",
       "    </tr>\n",
       "    <tr>\n",
       "      <th>64481</th>\n",
       "      <td>/Organization/Wormhole</td>\n",
       "      <td>Wormhole</td>\n",
       "      <td>http://www.uzoo.cn/</td>\n",
       "      <td>Apps</td>\n",
       "      <td>closed</td>\n",
       "      <td>CHN</td>\n",
       "      <td>22</td>\n",
       "      <td>Beijing</td>\n",
       "      <td>Beijing</td>\n",
       "      <td>NaN</td>\n",
       "    </tr>\n",
       "    <tr>\n",
       "      <th>64482</th>\n",
       "      <td>/Organization/Wormhole-It</td>\n",
       "      <td>Wormhole</td>\n",
       "      <td>http://www.wormholeit.com</td>\n",
       "      <td>College Campuses|Corporate Training|EdTech|Edu...</td>\n",
       "      <td>operating</td>\n",
       "      <td>ARG</td>\n",
       "      <td>7</td>\n",
       "      <td>Buenos Aires</td>\n",
       "      <td>Buenos Aires</td>\n",
       "      <td>28-11-2007</td>\n",
       "    </tr>\n",
       "    <tr>\n",
       "      <th>64570</th>\n",
       "      <td>/Organization/Wunder</td>\n",
       "      <td>Wunder</td>\n",
       "      <td>https://www.WunderCapital.com</td>\n",
       "      <td>Commercial Solar|Crowdfunding|Energy|Finance T...</td>\n",
       "      <td>operating</td>\n",
       "      <td>USA</td>\n",
       "      <td>CO</td>\n",
       "      <td>Denver</td>\n",
       "      <td>Boulder</td>\n",
       "      <td>NaN</td>\n",
       "    </tr>\n",
       "    <tr>\n",
       "      <th>64571</th>\n",
       "      <td>/Organization/Wunder-3</td>\n",
       "      <td>Wunder</td>\n",
       "      <td>NaN</td>\n",
       "      <td>Alumni</td>\n",
       "      <td>operating</td>\n",
       "      <td>NaN</td>\n",
       "      <td>NaN</td>\n",
       "      <td>NaN</td>\n",
       "      <td>NaN</td>\n",
       "      <td>NaN</td>\n",
       "    </tr>\n",
       "    <tr>\n",
       "      <th>64572</th>\n",
       "      <td>/Organization/Wundercar</td>\n",
       "      <td>Wunder</td>\n",
       "      <td>http://www.wunder.org</td>\n",
       "      <td>Apps|Emerging Markets|Marketplaces|Mobile Comm...</td>\n",
       "      <td>operating</td>\n",
       "      <td>DEU</td>\n",
       "      <td>4</td>\n",
       "      <td>Hamburg</td>\n",
       "      <td>Hamburg</td>\n",
       "      <td>01-11-2013</td>\n",
       "    </tr>\n",
       "    <tr>\n",
       "      <th>65897</th>\n",
       "      <td>/Organization/Zesty</td>\n",
       "      <td>Zesty</td>\n",
       "      <td>http://www.zesty.co.uk</td>\n",
       "      <td>Curated Web|Health Care|Healthcare Services|On...</td>\n",
       "      <td>operating</td>\n",
       "      <td>GBR</td>\n",
       "      <td>H9</td>\n",
       "      <td>London</td>\n",
       "      <td>London</td>\n",
       "      <td>01-05-2013</td>\n",
       "    </tr>\n",
       "    <tr>\n",
       "      <th>65899</th>\n",
       "      <td>/Organization/Zestyapp</td>\n",
       "      <td>Zesty</td>\n",
       "      <td>http://www.zesty.com/</td>\n",
       "      <td>Health and Wellness|Logistics|Organic Food|Spe...</td>\n",
       "      <td>operating</td>\n",
       "      <td>USA</td>\n",
       "      <td>CA</td>\n",
       "      <td>SF Bay Area</td>\n",
       "      <td>San Francisco</td>\n",
       "      <td>04-11-2013</td>\n",
       "    </tr>\n",
       "    <tr>\n",
       "      <th>66028</th>\n",
       "      <td>/Organization/Zingbox</td>\n",
       "      <td>ZingBox</td>\n",
       "      <td>http://www.zingbox.com/</td>\n",
       "      <td>Leisure|Music|Music Services</td>\n",
       "      <td>operating</td>\n",
       "      <td>USA</td>\n",
       "      <td>CA</td>\n",
       "      <td>SF Bay Area</td>\n",
       "      <td>Mountain View</td>\n",
       "      <td>NaN</td>\n",
       "    </tr>\n",
       "    <tr>\n",
       "      <th>66029</th>\n",
       "      <td>/Organization/Zingbox-2</td>\n",
       "      <td>ZingBox</td>\n",
       "      <td>NaN</td>\n",
       "      <td>Services|Solar</td>\n",
       "      <td>operating</td>\n",
       "      <td>NaN</td>\n",
       "      <td>NaN</td>\n",
       "      <td>NaN</td>\n",
       "      <td>NaN</td>\n",
       "      <td>NaN</td>\n",
       "    </tr>\n",
       "    <tr>\n",
       "      <th>17442</th>\n",
       "      <td>/Organization/Eegeo</td>\n",
       "      <td>eeGeo</td>\n",
       "      <td>http://www.eegeo.com</td>\n",
       "      <td>Apps|Software|Technology</td>\n",
       "      <td>operating</td>\n",
       "      <td>GBR</td>\n",
       "      <td>U3</td>\n",
       "      <td>Dundee</td>\n",
       "      <td>Dundee</td>\n",
       "      <td>NaN</td>\n",
       "    </tr>\n",
       "    <tr>\n",
       "      <th>30620</th>\n",
       "      <td>/Organization/Kimble</td>\n",
       "      <td>eeGeo</td>\n",
       "      <td>NaN</td>\n",
       "      <td>Computers|Entertainment|Social Games</td>\n",
       "      <td>operating</td>\n",
       "      <td>GBR</td>\n",
       "      <td>U3</td>\n",
       "      <td>Dundee</td>\n",
       "      <td>Dundee</td>\n",
       "      <td>NaN</td>\n",
       "    </tr>\n",
       "    <tr>\n",
       "      <th>49053</th>\n",
       "      <td>/Organization/Rumr</td>\n",
       "      <td>rumr</td>\n",
       "      <td>http://www.rumr.co</td>\n",
       "      <td>Real Estate</td>\n",
       "      <td>operating</td>\n",
       "      <td>USA</td>\n",
       "      <td>NY</td>\n",
       "      <td>New York City</td>\n",
       "      <td>Brooklyn</td>\n",
       "      <td>01-08-2013</td>\n",
       "    </tr>\n",
       "    <tr>\n",
       "      <th>49054</th>\n",
       "      <td>/Organization/Rumr-Anonymous-Messenger</td>\n",
       "      <td>rumr</td>\n",
       "      <td>http://www.rumrapp.com</td>\n",
       "      <td>Chat|Identity|Messaging</td>\n",
       "      <td>operating</td>\n",
       "      <td>USA</td>\n",
       "      <td>CA</td>\n",
       "      <td>Los Angeles</td>\n",
       "      <td>Los Angeles</td>\n",
       "      <td>01-10-2013</td>\n",
       "    </tr>\n",
       "  </tbody>\n",
       "</table>\n",
       "<p>504 rows × 10 columns</p>\n",
       "</div>"
      ],
      "text/plain": [
       "                                             permalink  \\\n",
       "281                             /Organization/3Divaz-2   \n",
       "282                             /Organization/3Divaz-3   \n",
       "3942                                 /Organization/Aps   \n",
       "3943                             /Organization/Aps-Llc   \n",
       "3982                                 /Organization/Apx   \n",
       "3983                               /Organization/Apx-2   \n",
       "1526                              /Organization/Adtena   \n",
       "1527                            /Organization/Adtena-2   \n",
       "1995                             /Organization/Agora-3   \n",
       "1996                             /Organization/Agora-6   \n",
       "3005                              /Organization/Amicus   \n",
       "3006                           /Organization/Amicus-Co   \n",
       "3090                           /Organization/Amplitude   \n",
       "3091                         /Organization/Amplitude-2   \n",
       "3256                               /Organization/Anews   \n",
       "3257                           /Organization/Anews-Inc   \n",
       "3965                             /Organization/Aptible   \n",
       "3966                           /Organization/Aptible-2   \n",
       "4120                             /Organization/Archive   \n",
       "4121                           /Organization/Archive-2   \n",
       "4168                              /Organization/Ardian   \n",
       "4169                          /Organization/Ardian-Inc   \n",
       "4481                           /Organization/Arvegenix   \n",
       "4482                         /Organization/Arvegenix-2   \n",
       "4991                               /Organization/Augur   \n",
       "4992                             /Organization/Augur-2   \n",
       "4995                              /Organization/August   \n",
       "4996                            /Organization/August-2   \n",
       "5146                           /Organization/Autopilot   \n",
       "5147                         /Organization/Autopilot-2   \n",
       "...                                                ...   \n",
       "61726                 /Organization/Via-Transportation   \n",
       "61733                            /Organization/Viacell   \n",
       "61736                          /Organization/Viacord-2   \n",
       "62899                              /Organization/Wacai   \n",
       "62919                             /Organization/Waicai   \n",
       "63284                              /Organization/Weave   \n",
       "63285                            /Organization/Weave-2   \n",
       "63550                              /Organization/Wello   \n",
       "63551                            /Organization/Wello-2   \n",
       "64136                       /Organization/Wise-Connect   \n",
       "64150                       /Organization/Wisenetworks   \n",
       "64275                           /Organization/Wonder-2   \n",
       "64276                           /Organization/Wonder-3   \n",
       "64340    /Organization/Worcester-Polytechnic-Institute   \n",
       "64341  /Organization/Worcester-Polytechnic-Institute-3   \n",
       "8949                       /Organization/Businesscard2   \n",
       "64375                           /Organization/Workface   \n",
       "64481                           /Organization/Wormhole   \n",
       "64482                        /Organization/Wormhole-It   \n",
       "64570                             /Organization/Wunder   \n",
       "64571                           /Organization/Wunder-3   \n",
       "64572                          /Organization/Wundercar   \n",
       "65897                              /Organization/Zesty   \n",
       "65899                           /Organization/Zestyapp   \n",
       "66028                            /Organization/Zingbox   \n",
       "66029                          /Organization/Zingbox-2   \n",
       "17442                              /Organization/Eegeo   \n",
       "30620                             /Organization/Kimble   \n",
       "49053                               /Organization/Rumr   \n",
       "49054           /Organization/Rumr-Anonymous-Messenger   \n",
       "\n",
       "                                  name                        homepage_url  \\\n",
       "281                             3DIVAZ           http://www.3divaz.ch/Home   \n",
       "282                             3DIVAZ           http://www.3divaz.ch/Home   \n",
       "3942                               APS                  http://www.aps.com   \n",
       "3943                               APS                                 NaN   \n",
       "3982                               APX             http://www.apxgroup.com   \n",
       "3983                               APX                 http://www.apx.com/   \n",
       "1526                            Adtena                  http://adtena.com/   \n",
       "1527                            Adtena                   http://adtena.com   \n",
       "1995                             Agora                http://www.agora.io/   \n",
       "1996                             Agora                https://www.agora.co   \n",
       "3005                            Amicus                 http://amicushq.com   \n",
       "3006                            Amicus                http://www.amicus.co   \n",
       "3090                         Amplitude                http://amplitude.com   \n",
       "3091                         Amplitude  http://amplitude-technologies.com/   \n",
       "3256                       Anews, Inc.               http://www.anews.com/   \n",
       "3257                       Anews, Inc.                http://www.anews.com   \n",
       "3965                           Aptible             https://www.aptible.com   \n",
       "3966                           Aptible                                 NaN   \n",
       "4120                           Archive                                 NaN   \n",
       "4121                           Archive              http://www.archive.com   \n",
       "4168                            Ardian               http://www.ardian.com   \n",
       "4169                            Ardian               http://www.ardian.com   \n",
       "4481                         Arvegenix           http://www.arvegenix.com/   \n",
       "4482                         Arvegenix           http://www.arvegenix.com/   \n",
       "4991                             Augur                     http://augur.io   \n",
       "4992                             Augur                http://www.augur.net   \n",
       "4995                            August               http://www.august.com   \n",
       "4996                            August                  http://www.agst.co   \n",
       "5146                         Autopilot             http://www.autopilot.io   \n",
       "5147                         Autopilot          http://www.autopilothq.com   \n",
       "...                                ...                                 ...   \n",
       "61726                              Via          http://www.ridewithvia.com   \n",
       "61733                          ViaCell           http://www.viacellinc.com   \n",
       "61736                          ViaCell             http://www.viacord.com/   \n",
       "62899                            Wacai                http://www.wacai.com   \n",
       "62919                            Wacai                http://www.wacai.com   \n",
       "63284                            Weave             http://www.getweave.com   \n",
       "63285                            Weave                     http://weave.in   \n",
       "63550                            Wello                http://www.wello.com   \n",
       "63551                            Wello                                 NaN   \n",
       "64136                     Wise Connect           http://wiseconnectinc.com   \n",
       "64150                     Wise Connect           http://www.wiseconnect.pt   \n",
       "64275                           Wonder              https://askwonder.com/   \n",
       "64276                           Wonder                                 NaN   \n",
       "64340  Worcester Polytechnic Institute                  http://www.wpi.edu   \n",
       "64341  Worcester Polytechnic Institute                 http://www.wpi.edu/   \n",
       "8949                          Workface                http://workface.com/   \n",
       "64375                         Workface             http://www.workface.com   \n",
       "64481                         Wormhole                 http://www.uzoo.cn/   \n",
       "64482                         Wormhole           http://www.wormholeit.com   \n",
       "64570                           Wunder       https://www.WunderCapital.com   \n",
       "64571                           Wunder                                 NaN   \n",
       "64572                           Wunder               http://www.wunder.org   \n",
       "65897                            Zesty              http://www.zesty.co.uk   \n",
       "65899                            Zesty               http://www.zesty.com/   \n",
       "66028                          ZingBox             http://www.zingbox.com/   \n",
       "66029                          ZingBox                                 NaN   \n",
       "17442                            eeGeo                http://www.eegeo.com   \n",
       "30620                            eeGeo                                 NaN   \n",
       "49053                             rumr                  http://www.rumr.co   \n",
       "49054                             rumr              http://www.rumrapp.com   \n",
       "\n",
       "                                           category_list     status  \\\n",
       "281                                                  NaN     closed   \n",
       "282                                                  NaN  operating   \n",
       "3942                                    Clean Technology  operating   \n",
       "3943                                         Real Estate  operating   \n",
       "3982                                    Clean Technology  operating   \n",
       "3983          Energy Management|Environmental Innovation  operating   \n",
       "1526         Ad Targeting|Advertising|Mobile Advertising  operating   \n",
       "1527                                                 NaN     closed   \n",
       "1995                   Mobile|Mobile Software Tools|VoIP  operating   \n",
       "1996                        Android|Apps|Internet|Mobile  operating   \n",
       "3005   Colleges|Innovation Management|Nonprofits|Poli...  operating   \n",
       "3006                         Apps|Mobile|Mobile Commerce  operating   \n",
       "3090            Analytics|Big Data|Mobile Analytics|SaaS  operating   \n",
       "3091                                         Electronics  operating   \n",
       "3256   Blogging Platforms|Digital Media|News|Personal...  operating   \n",
       "3257   Blogging Platforms|News|Social Media|Social Ne...  operating   \n",
       "3965   Enterprise Software|Health and Insurance|Healt...  operating   \n",
       "3966                                                 NaN     closed   \n",
       "4120                                                 NaN   acquired   \n",
       "4121                          Apps|B2B|Service Providers     closed   \n",
       "4168                               Investment Management  operating   \n",
       "4169                                         Health Care   acquired   \n",
       "4481              Fuels|Nutrition|Oil|Renewable Energies  operating   \n",
       "4482                   Industrial|Oil|Renewable Energies  operating   \n",
       "4991    Advertising|Cyber Security|Developer APIs|Mobile  operating   \n",
       "4992   Bitcoin|Business Services|Internet|Market Rese...  operating   \n",
       "4995   Home Automation|Internet of Things|Security|Te...  operating   \n",
       "4996                          Digital Media|Social Media  operating   \n",
       "5146   Automotive|Limousines|Public Transportation|Re...     closed   \n",
       "5147   Lead Management|SaaS|Sales and Marketing|Small...  operating   \n",
       "...                                                  ...        ...   \n",
       "61726  Apps|Real Time|Software|Technology|Transportation  operating   \n",
       "61733                                      Biotechnology        ipo   \n",
       "61736                                      Biotechnology  operating   \n",
       "62899                                           Software  operating   \n",
       "62919                                    Finance|FinTech  operating   \n",
       "63284       Dental|Medical|Telecommunications|Veterinary  operating   \n",
       "63285  Location Based Services|Mobile|Professional Ne...  operating   \n",
       "63550               Fitness|Health and Wellness|Training  operating   \n",
       "63551                                                NaN  operating   \n",
       "64136            Recruiting|Services|Technology|Wireless  operating   \n",
       "64150                                 Agriculture|Mobile  operating   \n",
       "64275                            Doctors|Internet|Search  operating   \n",
       "64276                                                NaN     closed   \n",
       "64340                                          Education  operating   \n",
       "64341                                                NaN  operating   \n",
       "8949   Business Services|Curated Web|Gadget|SaaS|Sale...  operating   \n",
       "64375           Chat|Enterprises|Identity|Software|Video  operating   \n",
       "64481                                               Apps     closed   \n",
       "64482  College Campuses|Corporate Training|EdTech|Edu...  operating   \n",
       "64570  Commercial Solar|Crowdfunding|Energy|Finance T...  operating   \n",
       "64571                                             Alumni  operating   \n",
       "64572  Apps|Emerging Markets|Marketplaces|Mobile Comm...  operating   \n",
       "65897  Curated Web|Health Care|Healthcare Services|On...  operating   \n",
       "65899  Health and Wellness|Logistics|Organic Food|Spe...  operating   \n",
       "66028                       Leisure|Music|Music Services  operating   \n",
       "66029                                     Services|Solar  operating   \n",
       "17442                           Apps|Software|Technology  operating   \n",
       "30620               Computers|Entertainment|Social Games  operating   \n",
       "49053                                        Real Estate  operating   \n",
       "49054                            Chat|Identity|Messaging  operating   \n",
       "\n",
       "      country_code state_code          region           city  founded_at  \n",
       "281            NaN        NaN             NaN            NaN  01-07-2014  \n",
       "282            CHE          1     CHE - Other        Wildegg  01-07-2014  \n",
       "3942           NaN        NaN             NaN            NaN         NaN  \n",
       "3943           USA         GA           Macon        Griffin  31-03-2011  \n",
       "3982           NLD          7       Amsterdam      Amsterdam  01-01-1999  \n",
       "3983           USA         CA     SF Bay Area       San Jose         NaN  \n",
       "1526           NaN        NaN             NaN            NaN         NaN  \n",
       "1527           NaN        NaN             NaN            NaN  15-11-2014  \n",
       "1995           USA         CA     SF Bay Area      Palo Alto  01-01-2014  \n",
       "1996           USA         NY   New York City       New York  01-07-2013  \n",
       "3005           USA         NY   New York City       New York  01-01-2011  \n",
       "3006           IND          7       New Delhi      New Delhi  01-01-2015  \n",
       "3090           USA         CA     SF Bay Area  San Francisco  01-01-2012  \n",
       "3091           FRA         A8        Ãâ°vry          Ãvry  01-01-2001  \n",
       "3256           RUS        NaN             NaN            NaN  01-07-2013  \n",
       "3257           USA         CA     SF Bay Area      Palo Alto  01-07-2013  \n",
       "3965           USA         CA     SF Bay Area  San Francisco  01-04-2013  \n",
       "3966           NaN        NaN             NaN            NaN         NaN  \n",
       "4120           USA         CA         Anaheim     Costa Mesa  01-01-1980  \n",
       "4121           USA         CA     Los Angeles    Culver City         NaN  \n",
       "4168           FRA         A8           Paris          Paris  01-01-1996  \n",
       "4169           USA         CA     SF Bay Area  Mountain View  01-01-2003  \n",
       "4481           USA         MO       St. Louis       St Louis  01-01-2013  \n",
       "4482           USA         MO       St. Louis       St Louis         NaN  \n",
       "4991           USA         CO          Denver        Boulder  03-05-2013  \n",
       "4992           USA         CA     SF Bay Area  San Francisco  01-01-2015  \n",
       "4995           USA         CA     SF Bay Area  San Francisco  29-11-2012  \n",
       "4996           USA         CA         Anaheim  Newport Beach  26-08-2014  \n",
       "5146           USA         NC       Charlotte      Charlotte  01-06-2012  \n",
       "5147           USA         CA     SF Bay Area  San Francisco  13-02-2013  \n",
       "...            ...        ...             ...            ...         ...  \n",
       "61726          USA         NY   New York City       New York  01-01-2012  \n",
       "61733          USA         MA          Boston      Cambridge  01-01-1993  \n",
       "61736          USA         MA          Boston         Boston         NaN  \n",
       "62899          CHN          2        Hangzhou       Hangzhou  01-01-2008  \n",
       "62919          CHN          2        Hangzhou       Hangzhou         NaN  \n",
       "63284          USA         UT  Salt Lake City           Lehi  01-12-2011  \n",
       "63285          USA         CA     SF Bay Area  San Francisco  01-01-2013  \n",
       "63550          USA         CA     SF Bay Area  San Francisco  01-01-2011  \n",
       "63551          NaN        NaN             NaN            NaN         NaN  \n",
       "64136          USA         GA         Atlanta        Atlanta         NaN  \n",
       "64150          PRT         14           Porto          Porto  01-05-2012  \n",
       "64275          NaN        NaN             NaN            NaN  01-10-2012  \n",
       "64276          NaN        NaN             NaN            NaN         NaN  \n",
       "64340          USA         MA       Worcester      Worcester  1865-01-01  \n",
       "64341          USA         MA       Worcester      Worcester  01-01-2014  \n",
       "8949           USA         MN     Minneapolis    Minneapolis  01-08-2006  \n",
       "64375          USA         MN     Minneapolis    Minneapolis  01-10-2007  \n",
       "64481          CHN         22         Beijing        Beijing         NaN  \n",
       "64482          ARG          7    Buenos Aires   Buenos Aires  28-11-2007  \n",
       "64570          USA         CO          Denver        Boulder         NaN  \n",
       "64571          NaN        NaN             NaN            NaN         NaN  \n",
       "64572          DEU          4         Hamburg        Hamburg  01-11-2013  \n",
       "65897          GBR         H9          London         London  01-05-2013  \n",
       "65899          USA         CA     SF Bay Area  San Francisco  04-11-2013  \n",
       "66028          USA         CA     SF Bay Area  Mountain View         NaN  \n",
       "66029          NaN        NaN             NaN            NaN         NaN  \n",
       "17442          GBR         U3          Dundee         Dundee         NaN  \n",
       "30620          GBR         U3          Dundee         Dundee         NaN  \n",
       "49053          USA         NY   New York City       Brooklyn  01-08-2013  \n",
       "49054          USA         CA     Los Angeles    Los Angeles  01-10-2013  \n",
       "\n",
       "[504 rows x 10 columns]"
      ]
     },
     "execution_count": 14,
     "metadata": {},
     "output_type": "execute_result"
    }
   ],
   "source": [
    "pd.concat(names for _, names in companies.groupby(\"name\") if len(names) > 1)"
   ]
  },
  {
   "cell_type": "markdown",
   "metadata": {},
   "source": [
    "** This data shows that the same compnay exisits under different category and/or country, so we will not worry about it as we will be looking more closely using permalink and investment realted to company that each exist as seprate entity **"
   ]
  },
  {
   "cell_type": "code",
   "execution_count": 15,
   "metadata": {},
   "outputs": [
    {
     "name": "stdout",
     "output_type": "stream",
     "text": [
      "66368\n"
     ]
    }
   ],
   "source": [
    "# Lets clean up the fileds on which we are going to merge the tables\n",
    "companies['permalink'] = companies['permalink'].str.lower()\n",
    "# now the unique count should be same without having to use lower\n",
    "print(len(companies.permalink.unique()))"
   ]
  },
  {
   "cell_type": "code",
   "execution_count": 16,
   "metadata": {},
   "outputs": [
    {
     "name": "stdout",
     "output_type": "stream",
     "text": [
      "66370\n"
     ]
    }
   ],
   "source": [
    "rounds['permalink'] = rounds['company_permalink'].str.lower()\n",
    "# now the unique count should be same without having to use lower\n",
    "print(len(rounds.permalink.unique()))"
   ]
  },
  {
   "cell_type": "markdown",
   "metadata": {},
   "source": [
    "**(66370 - 66368) **\n",
    "So there are 2 compaines information missing that have information in rounds2 table."
   ]
  },
  {
   "cell_type": "code",
   "execution_count": 17,
   "metadata": {},
   "outputs": [
    {
     "data": {
      "text/html": [
       "<div>\n",
       "<style>\n",
       "    .dataframe thead tr:only-child th {\n",
       "        text-align: right;\n",
       "    }\n",
       "\n",
       "    .dataframe thead th {\n",
       "        text-align: left;\n",
       "    }\n",
       "\n",
       "    .dataframe tbody tr th {\n",
       "        vertical-align: top;\n",
       "    }\n",
       "</style>\n",
       "<table border=\"1\" class=\"dataframe\">\n",
       "  <thead>\n",
       "    <tr style=\"text-align: right;\">\n",
       "      <th></th>\n",
       "      <th>company_permalink</th>\n",
       "      <th>funding_round_permalink</th>\n",
       "      <th>funding_round_type</th>\n",
       "      <th>funding_round_code</th>\n",
       "      <th>funded_at</th>\n",
       "      <th>raised_amount_usd</th>\n",
       "      <th>permalink</th>\n",
       "      <th>name</th>\n",
       "      <th>homepage_url</th>\n",
       "      <th>category_list</th>\n",
       "      <th>status</th>\n",
       "      <th>country_code</th>\n",
       "      <th>state_code</th>\n",
       "      <th>region</th>\n",
       "      <th>city</th>\n",
       "      <th>founded_at</th>\n",
       "      <th>_merge</th>\n",
       "    </tr>\n",
       "  </thead>\n",
       "  <tbody>\n",
       "    <tr>\n",
       "      <th>29597</th>\n",
       "      <td>/ORGANIZATION/E-CÃBICA</td>\n",
       "      <td>/funding-round/8491f74869e4fe8ba9c378394f8fbdea</td>\n",
       "      <td>seed</td>\n",
       "      <td>NaN</td>\n",
       "      <td>01-02-2015</td>\n",
       "      <td>nan</td>\n",
       "      <td>/organization/e-cãbica</td>\n",
       "      <td>NaN</td>\n",
       "      <td>NaN</td>\n",
       "      <td>NaN</td>\n",
       "      <td>NaN</td>\n",
       "      <td>NaN</td>\n",
       "      <td>NaN</td>\n",
       "      <td>NaN</td>\n",
       "      <td>NaN</td>\n",
       "      <td>NaN</td>\n",
       "      <td>left_only</td>\n",
       "    </tr>\n",
       "    <tr>\n",
       "      <th>31863</th>\n",
       "      <td>/ORGANIZATION/ENERGYSTONE-GAMES-ÇµÇ³Æ¸¸Æ</td>\n",
       "      <td>/funding-round/b89553f3d2279c5683ae93f45a21cfe0</td>\n",
       "      <td>seed</td>\n",
       "      <td>NaN</td>\n",
       "      <td>09-08-2014</td>\n",
       "      <td>nan</td>\n",
       "      <td>/organization/energystone-games-çµç³æ¸¸æ</td>\n",
       "      <td>NaN</td>\n",
       "      <td>NaN</td>\n",
       "      <td>NaN</td>\n",
       "      <td>NaN</td>\n",
       "      <td>NaN</td>\n",
       "      <td>NaN</td>\n",
       "      <td>NaN</td>\n",
       "      <td>NaN</td>\n",
       "      <td>NaN</td>\n",
       "      <td>left_only</td>\n",
       "    </tr>\n",
       "    <tr>\n",
       "      <th>45176</th>\n",
       "      <td>/organization/huizuche-com-æ ç§ÿè½¦</td>\n",
       "      <td>/funding-round/8f8a32dbeeb0f831a78702f83af78a36</td>\n",
       "      <td>seed</td>\n",
       "      <td>NaN</td>\n",
       "      <td>18-09-2014</td>\n",
       "      <td>nan</td>\n",
       "      <td>/organization/huizuche-com-æ ç§ÿè½¦</td>\n",
       "      <td>NaN</td>\n",
       "      <td>NaN</td>\n",
       "      <td>NaN</td>\n",
       "      <td>NaN</td>\n",
       "      <td>NaN</td>\n",
       "      <td>NaN</td>\n",
       "      <td>NaN</td>\n",
       "      <td>NaN</td>\n",
       "      <td>NaN</td>\n",
       "      <td>left_only</td>\n",
       "    </tr>\n",
       "    <tr>\n",
       "      <th>58473</th>\n",
       "      <td>/ORGANIZATION/MAGNET-TECH-Ç£Ç³Ç§Æ</td>\n",
       "      <td>/funding-round/8fc91fbb32bc95e97f151dd0cb4166bf</td>\n",
       "      <td>seed</td>\n",
       "      <td>NaN</td>\n",
       "      <td>16-08-2014</td>\n",
       "      <td>1,625,585.00</td>\n",
       "      <td>/organization/magnet-tech-ç£ç³ç§æ</td>\n",
       "      <td>NaN</td>\n",
       "      <td>NaN</td>\n",
       "      <td>NaN</td>\n",
       "      <td>NaN</td>\n",
       "      <td>NaN</td>\n",
       "      <td>NaN</td>\n",
       "      <td>NaN</td>\n",
       "      <td>NaN</td>\n",
       "      <td>NaN</td>\n",
       "      <td>left_only</td>\n",
       "    </tr>\n",
       "    <tr>\n",
       "      <th>101036</th>\n",
       "      <td>/organization/tipcat-interactive-æ²èÿä¿¡æ¯ç...</td>\n",
       "      <td>/funding-round/41005928a1439cb2d706a43cb661f60f</td>\n",
       "      <td>seed</td>\n",
       "      <td>NaN</td>\n",
       "      <td>06-09-2010</td>\n",
       "      <td>nan</td>\n",
       "      <td>/organization/tipcat-interactive-æ²èÿä¿¡æ¯ç...</td>\n",
       "      <td>NaN</td>\n",
       "      <td>NaN</td>\n",
       "      <td>NaN</td>\n",
       "      <td>NaN</td>\n",
       "      <td>NaN</td>\n",
       "      <td>NaN</td>\n",
       "      <td>NaN</td>\n",
       "      <td>NaN</td>\n",
       "      <td>NaN</td>\n",
       "      <td>left_only</td>\n",
       "    </tr>\n",
       "    <tr>\n",
       "      <th>109969</th>\n",
       "      <td>/ORGANIZATION/WEICHE-TECH-ÅÈ½¦Ç§Æ</td>\n",
       "      <td>/funding-round/f74e457f838b81fa0b29649740f186d8</td>\n",
       "      <td>venture</td>\n",
       "      <td>A</td>\n",
       "      <td>06-09-2015</td>\n",
       "      <td>nan</td>\n",
       "      <td>/organization/weiche-tech-åè½¦ç§æ</td>\n",
       "      <td>NaN</td>\n",
       "      <td>NaN</td>\n",
       "      <td>NaN</td>\n",
       "      <td>NaN</td>\n",
       "      <td>NaN</td>\n",
       "      <td>NaN</td>\n",
       "      <td>NaN</td>\n",
       "      <td>NaN</td>\n",
       "      <td>NaN</td>\n",
       "      <td>left_only</td>\n",
       "    </tr>\n",
       "    <tr>\n",
       "      <th>113839</th>\n",
       "      <td>/ORGANIZATION/ZENGAME-Ç¦",
       "Æ¸¸Ç§Æ</td>\n",
       "      <td>/funding-round/6ba28fb4f3eadf5a9c6c81bc5dde6cdf</td>\n",
       "      <td>seed</td>\n",
       "      <td>NaN</td>\n",
       "      <td>17-07-2010</td>\n",
       "      <td>nan</td>\n",
       "      <td>/organization/zengame-ç¦",
       "æ¸¸ç§æ</td>\n",
       "      <td>NaN</td>\n",
       "      <td>NaN</td>\n",
       "      <td>NaN</td>\n",
       "      <td>NaN</td>\n",
       "      <td>NaN</td>\n",
       "      <td>NaN</td>\n",
       "      <td>NaN</td>\n",
       "      <td>NaN</td>\n",
       "      <td>NaN</td>\n",
       "      <td>left_only</td>\n",
       "    </tr>\n",
       "  </tbody>\n",
       "</table>\n",
       "</div>"
      ],
      "text/plain": [
       "                                        company_permalink  \\\n",
       "29597                             /ORGANIZATION/E-CÃBICA   \n",
       "31863        /ORGANIZATION/ENERGYSTONE-GAMES-ÇµÇ³Æ¸¸Æ   \n",
       "45176                /organization/huizuche-com-æ ç§ÿè½¦   \n",
       "58473              /ORGANIZATION/MAGNET-TECH-Ç£Ç³Ç§Æ   \n",
       "101036  /organization/tipcat-interactive-æ²èÿä¿¡æ¯ç...   \n",
       "109969             /ORGANIZATION/WEICHE-TECH-ÅÈ½¦Ç§Æ   \n",
       "113839                 /ORGANIZATION/ZENGAME-Ç¦\n",
       "Æ¸¸Ç§Æ   \n",
       "\n",
       "                                funding_round_permalink funding_round_type  \\\n",
       "29597   /funding-round/8491f74869e4fe8ba9c378394f8fbdea               seed   \n",
       "31863   /funding-round/b89553f3d2279c5683ae93f45a21cfe0               seed   \n",
       "45176   /funding-round/8f8a32dbeeb0f831a78702f83af78a36               seed   \n",
       "58473   /funding-round/8fc91fbb32bc95e97f151dd0cb4166bf               seed   \n",
       "101036  /funding-round/41005928a1439cb2d706a43cb661f60f               seed   \n",
       "109969  /funding-round/f74e457f838b81fa0b29649740f186d8            venture   \n",
       "113839  /funding-round/6ba28fb4f3eadf5a9c6c81bc5dde6cdf               seed   \n",
       "\n",
       "       funding_round_code   funded_at  raised_amount_usd  \\\n",
       "29597                 NaN  01-02-2015                nan   \n",
       "31863                 NaN  09-08-2014                nan   \n",
       "45176                 NaN  18-09-2014                nan   \n",
       "58473                 NaN  16-08-2014       1,625,585.00   \n",
       "101036                NaN  06-09-2010                nan   \n",
       "109969                  A  06-09-2015                nan   \n",
       "113839                NaN  17-07-2010                nan   \n",
       "\n",
       "                                                permalink name homepage_url  \\\n",
       "29597                             /organization/e-cãbica  NaN          NaN   \n",
       "31863        /organization/energystone-games-çµç³æ¸¸æ  NaN          NaN   \n",
       "45176                /organization/huizuche-com-æ ç§ÿè½¦  NaN          NaN   \n",
       "58473              /organization/magnet-tech-ç£ç³ç§æ  NaN          NaN   \n",
       "101036  /organization/tipcat-interactive-æ²èÿä¿¡æ¯ç...  NaN          NaN   \n",
       "109969             /organization/weiche-tech-åè½¦ç§æ  NaN          NaN   \n",
       "113839                 /organization/zengame-ç¦\n",
       "æ¸¸ç§æ  NaN          NaN   \n",
       "\n",
       "       category_list status country_code state_code region city founded_at  \\\n",
       "29597            NaN    NaN          NaN        NaN    NaN  NaN        NaN   \n",
       "31863            NaN    NaN          NaN        NaN    NaN  NaN        NaN   \n",
       "45176            NaN    NaN          NaN        NaN    NaN  NaN        NaN   \n",
       "58473            NaN    NaN          NaN        NaN    NaN  NaN        NaN   \n",
       "101036           NaN    NaN          NaN        NaN    NaN  NaN        NaN   \n",
       "109969           NaN    NaN          NaN        NaN    NaN  NaN        NaN   \n",
       "113839           NaN    NaN          NaN        NaN    NaN  NaN        NaN   \n",
       "\n",
       "           _merge  \n",
       "29597   left_only  \n",
       "31863   left_only  \n",
       "45176   left_only  \n",
       "58473   left_only  \n",
       "101036  left_only  \n",
       "109969  left_only  \n",
       "113839  left_only  "
      ]
     },
     "execution_count": 17,
     "metadata": {},
     "output_type": "execute_result"
    }
   ],
   "source": [
    "round_left_join = pd.merge(rounds, companies, how='left', on='permalink', indicator=True)\n",
    "left_only = round_left_join[round_left_join['_merge'] != 'both']\n",
    "left_only"
   ]
  },
  {
   "cell_type": "code",
   "execution_count": 18,
   "metadata": {},
   "outputs": [
    {
     "data": {
      "text/plain": [
       "7"
      ]
     },
     "execution_count": 18,
     "metadata": {},
     "output_type": "execute_result"
    }
   ],
   "source": [
    "# number of entires on the rounds2 table with no matching entires in company table\n",
    "len(left_only)"
   ]
  },
  {
   "cell_type": "code",
   "execution_count": 19,
   "metadata": {},
   "outputs": [
    {
     "data": {
      "text/plain": [
       "114949"
      ]
     },
     "execution_count": 19,
     "metadata": {},
     "output_type": "execute_result"
    }
   ],
   "source": [
    "# Total number of rows on the rounds table\n",
    "len(rounds)"
   ]
  },
  {
   "cell_type": "markdown",
   "metadata": {},
   "source": [
    "So there should be **(114949-7)** rows in our merged table."
   ]
  },
  {
   "cell_type": "markdown",
   "metadata": {},
   "source": [
    "## Merging rounds2 to companies table"
   ]
  },
  {
   "cell_type": "code",
   "execution_count": 20,
   "metadata": {},
   "outputs": [
    {
     "data": {
      "text/html": [
       "<div>\n",
       "<style>\n",
       "    .dataframe thead tr:only-child th {\n",
       "        text-align: right;\n",
       "    }\n",
       "\n",
       "    .dataframe thead th {\n",
       "        text-align: left;\n",
       "    }\n",
       "\n",
       "    .dataframe tbody tr th {\n",
       "        vertical-align: top;\n",
       "    }\n",
       "</style>\n",
       "<table border=\"1\" class=\"dataframe\">\n",
       "  <thead>\n",
       "    <tr style=\"text-align: right;\">\n",
       "      <th></th>\n",
       "      <th>company_permalink</th>\n",
       "      <th>funding_round_permalink</th>\n",
       "      <th>funding_round_type</th>\n",
       "      <th>funding_round_code</th>\n",
       "      <th>funded_at</th>\n",
       "      <th>raised_amount_usd</th>\n",
       "      <th>permalink</th>\n",
       "      <th>name</th>\n",
       "      <th>homepage_url</th>\n",
       "      <th>category_list</th>\n",
       "      <th>status</th>\n",
       "      <th>country_code</th>\n",
       "      <th>state_code</th>\n",
       "      <th>region</th>\n",
       "      <th>city</th>\n",
       "      <th>founded_at</th>\n",
       "    </tr>\n",
       "  </thead>\n",
       "  <tbody>\n",
       "    <tr>\n",
       "      <th>0</th>\n",
       "      <td>/organization/-fame</td>\n",
       "      <td>/funding-round/9a01d05418af9f794eebff7ace91f638</td>\n",
       "      <td>venture</td>\n",
       "      <td>B</td>\n",
       "      <td>05-01-2015</td>\n",
       "      <td>10,000,000.00</td>\n",
       "      <td>/organization/-fame</td>\n",
       "      <td>#fame</td>\n",
       "      <td>http://livfame.com</td>\n",
       "      <td>Media</td>\n",
       "      <td>operating</td>\n",
       "      <td>IND</td>\n",
       "      <td>16</td>\n",
       "      <td>Mumbai</td>\n",
       "      <td>Mumbai</td>\n",
       "      <td>NaN</td>\n",
       "    </tr>\n",
       "    <tr>\n",
       "      <th>1</th>\n",
       "      <td>/ORGANIZATION/-QOUNTER</td>\n",
       "      <td>/funding-round/22dacff496eb7acb2b901dec1dfe5633</td>\n",
       "      <td>venture</td>\n",
       "      <td>A</td>\n",
       "      <td>14-10-2014</td>\n",
       "      <td>nan</td>\n",
       "      <td>/organization/-qounter</td>\n",
       "      <td>:Qounter</td>\n",
       "      <td>http://www.qounter.com</td>\n",
       "      <td>Application Platforms|Real Time|Social Network...</td>\n",
       "      <td>operating</td>\n",
       "      <td>USA</td>\n",
       "      <td>DE</td>\n",
       "      <td>DE - Other</td>\n",
       "      <td>Delaware City</td>\n",
       "      <td>04-09-2014</td>\n",
       "    </tr>\n",
       "    <tr>\n",
       "      <th>2</th>\n",
       "      <td>/organization/-qounter</td>\n",
       "      <td>/funding-round/b44fbb94153f6cdef13083530bb48030</td>\n",
       "      <td>seed</td>\n",
       "      <td>NaN</td>\n",
       "      <td>01-03-2014</td>\n",
       "      <td>700,000.00</td>\n",
       "      <td>/organization/-qounter</td>\n",
       "      <td>:Qounter</td>\n",
       "      <td>http://www.qounter.com</td>\n",
       "      <td>Application Platforms|Real Time|Social Network...</td>\n",
       "      <td>operating</td>\n",
       "      <td>USA</td>\n",
       "      <td>DE</td>\n",
       "      <td>DE - Other</td>\n",
       "      <td>Delaware City</td>\n",
       "      <td>04-09-2014</td>\n",
       "    </tr>\n",
       "    <tr>\n",
       "      <th>3</th>\n",
       "      <td>/ORGANIZATION/-THE-ONE-OF-THEM-INC-</td>\n",
       "      <td>/funding-round/650b8f704416801069bb178a1418776b</td>\n",
       "      <td>venture</td>\n",
       "      <td>B</td>\n",
       "      <td>30-01-2014</td>\n",
       "      <td>3,406,878.00</td>\n",
       "      <td>/organization/-the-one-of-them-inc-</td>\n",
       "      <td>(THE) ONE of THEM,Inc.</td>\n",
       "      <td>http://oneofthem.jp</td>\n",
       "      <td>Apps|Games|Mobile</td>\n",
       "      <td>operating</td>\n",
       "      <td>NaN</td>\n",
       "      <td>NaN</td>\n",
       "      <td>NaN</td>\n",
       "      <td>NaN</td>\n",
       "      <td>NaN</td>\n",
       "    </tr>\n",
       "    <tr>\n",
       "      <th>4</th>\n",
       "      <td>/organization/0-6-com</td>\n",
       "      <td>/funding-round/5727accaeaa57461bd22a9bdd945382d</td>\n",
       "      <td>venture</td>\n",
       "      <td>A</td>\n",
       "      <td>19-03-2008</td>\n",
       "      <td>2,000,000.00</td>\n",
       "      <td>/organization/0-6-com</td>\n",
       "      <td>0-6.com</td>\n",
       "      <td>http://www.0-6.com</td>\n",
       "      <td>Curated Web</td>\n",
       "      <td>operating</td>\n",
       "      <td>CHN</td>\n",
       "      <td>22</td>\n",
       "      <td>Beijing</td>\n",
       "      <td>Beijing</td>\n",
       "      <td>01-01-2007</td>\n",
       "    </tr>\n",
       "  </tbody>\n",
       "</table>\n",
       "</div>"
      ],
      "text/plain": [
       "                     company_permalink  \\\n",
       "0                  /organization/-fame   \n",
       "1               /ORGANIZATION/-QOUNTER   \n",
       "2               /organization/-qounter   \n",
       "3  /ORGANIZATION/-THE-ONE-OF-THEM-INC-   \n",
       "4                /organization/0-6-com   \n",
       "\n",
       "                           funding_round_permalink funding_round_type  \\\n",
       "0  /funding-round/9a01d05418af9f794eebff7ace91f638            venture   \n",
       "1  /funding-round/22dacff496eb7acb2b901dec1dfe5633            venture   \n",
       "2  /funding-round/b44fbb94153f6cdef13083530bb48030               seed   \n",
       "3  /funding-round/650b8f704416801069bb178a1418776b            venture   \n",
       "4  /funding-round/5727accaeaa57461bd22a9bdd945382d            venture   \n",
       "\n",
       "  funding_round_code   funded_at  raised_amount_usd  \\\n",
       "0                  B  05-01-2015      10,000,000.00   \n",
       "1                  A  14-10-2014                nan   \n",
       "2                NaN  01-03-2014         700,000.00   \n",
       "3                  B  30-01-2014       3,406,878.00   \n",
       "4                  A  19-03-2008       2,000,000.00   \n",
       "\n",
       "                             permalink                    name  \\\n",
       "0                  /organization/-fame                   #fame   \n",
       "1               /organization/-qounter                :Qounter   \n",
       "2               /organization/-qounter                :Qounter   \n",
       "3  /organization/-the-one-of-them-inc-  (THE) ONE of THEM,Inc.   \n",
       "4                /organization/0-6-com                 0-6.com   \n",
       "\n",
       "             homepage_url                                      category_list  \\\n",
       "0      http://livfame.com                                              Media   \n",
       "1  http://www.qounter.com  Application Platforms|Real Time|Social Network...   \n",
       "2  http://www.qounter.com  Application Platforms|Real Time|Social Network...   \n",
       "3     http://oneofthem.jp                                  Apps|Games|Mobile   \n",
       "4      http://www.0-6.com                                        Curated Web   \n",
       "\n",
       "      status country_code state_code      region           city  founded_at  \n",
       "0  operating          IND         16      Mumbai         Mumbai         NaN  \n",
       "1  operating          USA         DE  DE - Other  Delaware City  04-09-2014  \n",
       "2  operating          USA         DE  DE - Other  Delaware City  04-09-2014  \n",
       "3  operating          NaN        NaN         NaN            NaN         NaN  \n",
       "4  operating          CHN         22     Beijing        Beijing  01-01-2007  "
      ]
     },
     "execution_count": 20,
     "metadata": {},
     "output_type": "execute_result"
    }
   ],
   "source": [
    "master_frame = pd.merge(rounds, companies , how='inner', on='permalink')\n",
    "master_frame.head()"
   ]
  },
  {
   "cell_type": "code",
   "execution_count": 21,
   "metadata": {},
   "outputs": [
    {
     "data": {
      "text/plain": [
       "(114942, 16)"
      ]
     },
     "execution_count": 21,
     "metadata": {},
     "output_type": "execute_result"
    }
   ],
   "source": [
    "# total entire in the merged table\n",
    "master_frame.shape"
   ]
  },
  {
   "cell_type": "code",
   "execution_count": 22,
   "metadata": {},
   "outputs": [
    {
     "name": "stdout",
     "output_type": "stream",
     "text": [
      "<class 'pandas.core.frame.DataFrame'>\n",
      "Int64Index: 114942 entries, 0 to 114941\n",
      "Data columns (total 16 columns):\n",
      "company_permalink          114942 non-null object\n",
      "funding_round_permalink    114942 non-null object\n",
      "funding_round_type         114942 non-null object\n",
      "funding_round_code         31139 non-null object\n",
      "funded_at                  114942 non-null object\n",
      "raised_amount_usd          94958 non-null float64\n",
      "permalink                  114942 non-null object\n",
      "name                       114941 non-null object\n",
      "homepage_url               108810 non-null object\n",
      "category_list              111535 non-null object\n",
      "status                     114942 non-null object\n",
      "country_code               106271 non-null object\n",
      "state_code                 104003 non-null object\n",
      "region                     104782 non-null object\n",
      "city                       104785 non-null object\n",
      "founded_at                 94422 non-null object\n",
      "dtypes: float64(1), object(15)\n",
      "memory usage: 14.9+ MB\n"
     ]
    }
   ],
   "source": [
    "master_frame.info()"
   ]
  },
  {
   "cell_type": "code",
   "execution_count": 23,
   "metadata": {},
   "outputs": [
    {
     "data": {
      "text/plain": [
       "company_permalink          False\n",
       "funding_round_permalink    False\n",
       "funding_round_type         False\n",
       "funding_round_code          True\n",
       "funded_at                  False\n",
       "raised_amount_usd           True\n",
       "permalink                  False\n",
       "name                        True\n",
       "homepage_url                True\n",
       "category_list               True\n",
       "status                     False\n",
       "country_code                True\n",
       "state_code                  True\n",
       "region                      True\n",
       "city                        True\n",
       "founded_at                  True\n",
       "dtype: bool"
      ]
     },
     "execution_count": 23,
     "metadata": {},
     "output_type": "execute_result"
    }
   ],
   "source": [
    "# Let's evaulate what columns have missing data\n",
    "master_frame.isnull().any()"
   ]
  },
  {
   "cell_type": "code",
   "execution_count": 24,
   "metadata": {},
   "outputs": [
    {
     "data": {
      "text/plain": [
       "company_permalink              0\n",
       "funding_round_permalink        0\n",
       "funding_round_type             0\n",
       "funding_round_code         83803\n",
       "funded_at                      0\n",
       "raised_amount_usd          19984\n",
       "permalink                      0\n",
       "name                           1\n",
       "homepage_url                6132\n",
       "category_list               3407\n",
       "status                         0\n",
       "country_code                8671\n",
       "state_code                 10939\n",
       "region                     10160\n",
       "city                       10157\n",
       "founded_at                 20520\n",
       "dtype: int64"
      ]
     },
     "execution_count": 24,
     "metadata": {},
     "output_type": "execute_result"
    }
   ],
   "source": [
    "# summing up the missing values (column-wise)\n",
    "master_frame.isnull().sum()"
   ]
  },
  {
   "cell_type": "code",
   "execution_count": 25,
   "metadata": {},
   "outputs": [
    {
     "data": {
      "text/plain": [
       "company_permalink          0.00\n",
       "funding_round_permalink    0.00\n",
       "funding_round_type         0.00\n",
       "funding_round_code        72.91\n",
       "funded_at                  0.00\n",
       "raised_amount_usd         17.39\n",
       "permalink                  0.00\n",
       "name                       0.00\n",
       "homepage_url               5.33\n",
       "category_list              2.96\n",
       "status                     0.00\n",
       "country_code               7.54\n",
       "state_code                 9.52\n",
       "region                     8.84\n",
       "city                       8.84\n",
       "founded_at                17.85\n",
       "dtype: float64"
      ]
     },
     "execution_count": 25,
     "metadata": {},
     "output_type": "execute_result"
    }
   ],
   "source": [
    "# Evaulate missing data in terms of percentage\n",
    "round(100*(master_frame.isnull().sum()/len(master_frame.index)), 2)"
   ]
  },
  {
   "cell_type": "code",
   "execution_count": 26,
   "metadata": {},
   "outputs": [
    {
     "data": {
      "text/plain": [
       "funding_round_permalink    0.00\n",
       "funding_round_type         0.00\n",
       "funded_at                  0.00\n",
       "raised_amount_usd         17.39\n",
       "permalink                  0.00\n",
       "name                       0.00\n",
       "homepage_url               5.33\n",
       "category_list              2.96\n",
       "status                     0.00\n",
       "country_code               7.54\n",
       "state_code                 9.52\n",
       "region                     8.84\n",
       "city                       8.84\n",
       "dtype: float64"
      ]
     },
     "execution_count": 26,
     "metadata": {},
     "output_type": "execute_result"
    }
   ],
   "source": [
    "# removing non-contributing and duplicate columns \n",
    "master_frame = master_frame.drop('funding_round_code', axis=1)\n",
    "master_frame = master_frame.drop('founded_at', axis=1)\n",
    "master_frame = master_frame.drop('company_permalink', axis=1)\n",
    "\n",
    "# Views missing data report post initial cleanup \n",
    "round(100*(master_frame.isnull().sum()/len(master_frame.index)), 2)"
   ]
  },
  {
   "cell_type": "markdown",
   "metadata": {},
   "source": [
    "It would be ideal to remove the rows for which the raised_amount_usd is Nan. Wihtout this info the row data is almost useless to our analysis."
   ]
  },
  {
   "cell_type": "code",
   "execution_count": 27,
   "metadata": {},
   "outputs": [
    {
     "data": {
      "text/plain": [
       "funding_round_permalink   0.00\n",
       "funding_round_type        0.00\n",
       "funded_at                 0.00\n",
       "raised_amount_usd         0.00\n",
       "permalink                 0.00\n",
       "name                      0.00\n",
       "homepage_url              4.56\n",
       "category_list             1.10\n",
       "status                    0.00\n",
       "country_code              6.16\n",
       "state_code                8.01\n",
       "region                    7.42\n",
       "city                      7.42\n",
       "dtype: float64"
      ]
     },
     "execution_count": 27,
     "metadata": {},
     "output_type": "execute_result"
    }
   ],
   "source": [
    "import numpy as np\n",
    "\n",
    "# removing NaN raised_amount_usd rows\n",
    "master_frame = master_frame[~np.isnan(master_frame['raised_amount_usd'])]\n",
    "\n",
    "# Missing data report post row deletion \n",
    "round(100*(master_frame.isnull().sum()/len(master_frame.index)), 2)\n"
   ]
  },
  {
   "cell_type": "markdown",
   "metadata": {},
   "source": [
    "At this point we have 6 columns with missing data. \n",
    "** I would be hesitent to remove any more row data as we have the raised_amount_usd info for all remaining rows. **\n",
    "We could ignore the missing values of state_code, region and city as they do not bring any value for our final analysis\n"
   ]
  },
  {
   "cell_type": "code",
   "execution_count": 28,
   "metadata": {},
   "outputs": [
    {
     "data": {
      "text/plain": [
       "(0, 13)"
      ]
     },
     "execution_count": 28,
     "metadata": {},
     "output_type": "execute_result"
    }
   ],
   "source": [
    "master_frame[master_frame.isnull().sum(axis=1) > 6].shape"
   ]
  },
  {
   "cell_type": "markdown",
   "metadata": {},
   "source": [
    "There are no rows missing all the 6 fields data. So we can safely say we have arrived at our gold master data"
   ]
  },
  {
   "cell_type": "code",
   "execution_count": 29,
   "metadata": {},
   "outputs": [
    {
     "data": {
      "text/plain": [
       "191"
      ]
     },
     "execution_count": 29,
     "metadata": {},
     "output_type": "execute_result"
    }
   ],
   "source": [
    "# count the number of rows having > 5 missing values\n",
    "# using len(master_frame.index)\n",
    "len(master_frame[master_frame.isnull().sum(axis=1) > 5].index)"
   ]
  },
  {
   "cell_type": "code",
   "execution_count": 30,
   "metadata": {},
   "outputs": [
    {
     "data": {
      "text/plain": [
       "0.20114155732007835"
      ]
     },
     "execution_count": 30,
     "metadata": {},
     "output_type": "execute_result"
    }
   ],
   "source": [
    "# calculate the percentage\n",
    "100*(len(master_frame[master_frame.isnull().sum(axis=1) > 5].index) / len(master_frame.index))"
   ]
  },
  {
   "cell_type": "code",
   "execution_count": 31,
   "metadata": {},
   "outputs": [
    {
     "data": {
      "text/plain": [
       "funding_round_permalink   0.00\n",
       "funding_round_type        0.00\n",
       "funded_at                 0.00\n",
       "raised_amount_usd         0.00\n",
       "permalink                 0.00\n",
       "name                      0.00\n",
       "category_list             1.10\n",
       "status                    0.00\n",
       "country_code              6.16\n",
       "dtype: float64"
      ]
     },
     "execution_count": 31,
     "metadata": {},
     "output_type": "execute_result"
    }
   ],
   "source": [
    "# lets furture remove some of the columns which does not contribute to our current analysis\n",
    "master_frame = master_frame.drop('homepage_url', axis=1)\n",
    "master_frame = master_frame.drop('state_code', axis=1)\n",
    "master_frame = master_frame.drop('region', axis=1)\n",
    "master_frame = master_frame.drop('city', axis=1)\n",
    "\n",
    "# Missing data report post cleanup \n",
    "round(100*(master_frame.isnull().sum()/len(master_frame.index)), 2)"
   ]
  },
  {
   "cell_type": "code",
   "execution_count": 32,
   "metadata": {},
   "outputs": [
    {
     "data": {
      "text/plain": [
       "0.8261384002366411"
      ]
     },
     "execution_count": 32,
     "metadata": {},
     "output_type": "execute_result"
    }
   ],
   "source": [
    "# fraction of rows lost\n",
    "len(master_frame.index)/114942"
   ]
  },
  {
   "cell_type": "markdown",
   "metadata": {},
   "source": [
    "we have lost about 18% of the source data after data cleaning"
   ]
  },
  {
   "cell_type": "code",
   "execution_count": 33,
   "metadata": {},
   "outputs": [
    {
     "data": {
      "text/plain": [
       "count             93914\n",
       "unique            23484\n",
       "top       Biotechnology\n",
       "freq               7773\n",
       "Name: category_list, dtype: object"
      ]
     },
     "execution_count": 33,
     "metadata": {},
     "output_type": "execute_result"
    }
   ],
   "source": [
    "master_frame['category_list'].describe()"
   ]
  },
  {
   "cell_type": "code",
   "execution_count": 34,
   "metadata": {},
   "outputs": [
    {
     "data": {
      "text/plain": [
       "count           94,958.00\n",
       "mean        10,426,962.02\n",
       "std        114,821,849.03\n",
       "min                  0.00\n",
       "25%            322,500.00\n",
       "50%          1,680,521.00\n",
       "75%          7,000,000.00\n",
       "max     21,271,935,000.00\n",
       "Name: raised_amount_usd, dtype: float64"
      ]
     },
     "execution_count": 34,
     "metadata": {},
     "output_type": "execute_result"
    }
   ],
   "source": [
    "master_frame['raised_amount_usd'].describe()"
   ]
  },
  {
   "cell_type": "code",
   "execution_count": 35,
   "metadata": {},
   "outputs": [
    {
     "data": {
      "text/plain": [
       "funding_round_permalink   0.00\n",
       "funding_round_type        0.00\n",
       "funded_at                 0.00\n",
       "raised_amount_usd         0.00\n",
       "permalink                 0.00\n",
       "name                      0.00\n",
       "category_list             0.00\n",
       "status                    0.00\n",
       "country_code              0.00\n",
       "dtype: float64"
      ]
     },
     "execution_count": 35,
     "metadata": {},
     "output_type": "execute_result"
    }
   ],
   "source": [
    "# imputing NaNs by UNK - as unknow for now\n",
    "master_frame.loc[pd.isnull(master_frame['country_code']), ['country_code']] = 'UNK'\n",
    "# imputing NaNs by undefined - for now for category_list\n",
    "master_frame.loc[pd.isnull(master_frame['category_list']), ['category_list']] = \"undefined\"\n",
    "round(100*(master_frame.isnull().sum()/len(master_frame.index)), 2)"
   ]
  },
  {
   "cell_type": "markdown",
   "metadata": {},
   "source": [
    "The funding types such as seed, venture, angel, etc. depend on the type of the company (startup, corporate, etc.), its stage (early stage startup, funded startup, etc.), the amount of funding (a few million USD to a billion USD), and so on. For example, seed, angel and venture are three common stages of startup funding.\n",
    "\n",
    "Seed/angel funding refer to early stage startups whereas venture funding occurs after seed or angel stage/s and involves a relatively higher amount of investment.\n",
    "Private equity type investments are associated with much larger companies and involve much higher investments than venture type. Startups which have grown in scale may also receive private equity funding. This means that if a company has reached the venture stage, it would have already passed through the angel or seed stage/s.\n",
    " \n",
    "\n",
    "Spark Funds wants to choose one of these four investment types for each potential investment they will make.\n",
    "\n",
    " \n",
    "\n",
    "Considering the constraints of Spark Funds, you have to decide one funding type which is most suitable for them.\n",
    "\n",
    "Calculate the most representative value of the investment amount for each of the four funding types (venture, angel, seed, and private equity).\n",
    "\n",
    "Based on the most representative investment amount calculated above, which investment type do you think is the most suitable for Spark Funds?"
   ]
  },
  {
   "cell_type": "code",
   "execution_count": 36,
   "metadata": {},
   "outputs": [
    {
     "data": {
      "text/plain": [
       "funding_round_type\n",
       "post_ipo_debt           168,704,571.82\n",
       "post_ipo_equity          82,182,493.87\n",
       "secondary_market         79,649,630.10\n",
       "private_equity           73,308,593.03\n",
       "undisclosed              19,242,370.23\n",
       "debt_financing           17,043,526.02\n",
       "venture                  11,748,949.13\n",
       "grant                     4,300,576.34\n",
       "convertible_note          1,453,438.54\n",
       "product_crowdfunding      1,363,131.07\n",
       "angel                       958,694.47\n",
       "seed                        719,779.62\n",
       "equity_crowdfunding         538,368.21\n",
       "non_equity_assistance       411,203.05\n",
       "Name: raised_amount_usd, dtype: float64"
      ]
     },
     "execution_count": 36,
     "metadata": {},
     "output_type": "execute_result"
    }
   ],
   "source": [
    "master_frame.groupby('funding_round_type')['raised_amount_usd'].mean().sort_values(ascending=False)\n",
    "# averages"
   ]
  },
  {
   "cell_type": "code",
   "execution_count": 37,
   "metadata": {},
   "outputs": [
    {
     "data": {
      "text/plain": [
       "funding_round_type\n",
       "secondary_market        32,600,000.00\n",
       "private_equity          20,000,000.00\n",
       "post_ipo_debt           19,950,000.00\n",
       "post_ipo_equity         12,262,852.50\n",
       "venture                  5,000,000.00\n",
       "debt_financing           1,100,000.00\n",
       "undisclosed              1,018,680.00\n",
       "angel                      400,000.00\n",
       "seed                       275,000.00\n",
       "convertible_note           272,000.00\n",
       "grant                      201,684.00\n",
       "product_crowdfunding       183,915.00\n",
       "equity_crowdfunding        100,000.00\n",
       "non_equity_assistance       60,000.00\n",
       "Name: raised_amount_usd, dtype: float64"
      ]
     },
     "execution_count": 37,
     "metadata": {},
     "output_type": "execute_result"
    }
   ],
   "source": [
    "master_frame.groupby('funding_round_type')['raised_amount_usd'].median().sort_values(ascending=False)\n",
    "# medians"
   ]
  },
  {
   "cell_type": "code",
   "execution_count": 38,
   "metadata": {
    "collapsed": true
   },
   "outputs": [],
   "source": [
    "import matplotlib.pyplot as plt\n",
    "\n",
    "# the commonly used alias for seaborn is sns\n",
    "import seaborn as sns\n",
    "\n",
    "# set a seaborn style of your taste\n",
    "sns.set_style(\"whitegrid\")"
   ]
  },
  {
   "cell_type": "code",
   "execution_count": 39,
   "metadata": {},
   "outputs": [
    {
     "data": {
      "image/png": "[encoded data removed]",
      "text/plain": [
       "<matplotlib.figure.Figure at 0x7f4531f76be0>"
      ]
     },
     "metadata": {},
     "output_type": "display_data"
    }
   ],
   "source": [
    "sns.boxplot(y=master_frame['raised_amount_usd'])\n",
    "plt.yscale('log')\n",
    "plt.show()"
   ]
  },
  {
   "cell_type": "code",
   "execution_count": 40,
   "metadata": {},
   "outputs": [
    {
     "data": {
      "image/png": "[encoded data removed]",
      "text/plain": [
       "<matplotlib.figure.Figure at 0x7f4529bb51d0>"
      ]
     },
     "metadata": {},
     "output_type": "display_data"
    }
   ],
   "source": [
    "# boxplot of a variable across various funding categories\n",
    "plt.figure(figsize=(25, 10))\n",
    "sns.boxplot(x='funding_round_type', y='raised_amount_usd', data=master_frame)\n",
    "plt.yscale('log')\n",
    "plt.show()"
   ]
  },
  {
   "cell_type": "code",
   "execution_count": 41,
   "metadata": {},
   "outputs": [
    {
     "data": {
      "image/png": "[encoded data removed]",
      "text/plain": [
       "<matplotlib.figure.Figure at 0x7f4529873b70>"
      ]
     },
     "metadata": {},
     "output_type": "display_data"
    }
   ],
   "source": [
    "# bar plot with default statistic=mean\n",
    "plt.figure(figsize=(25, 10))\n",
    "sns.barplot(x='funding_round_type', y='raised_amount_usd', data=master_frame)\n",
    "plt.show()"
   ]
  },
  {
   "cell_type": "code",
   "execution_count": 42,
   "metadata": {},
   "outputs": [
    {
     "data": {
      "image/png": "[encoded data removed]",
      "text/plain": [
       "<matplotlib.figure.Figure at 0x7f452993acf8>"
      ]
     },
     "metadata": {},
     "output_type": "display_data"
    }
   ],
   "source": [
    "# bar plot with default statistic=mean\n",
    "plt.figure(figsize=(25, 10))\n",
    "sns.barplot(y='funding_round_type', x='raised_amount_usd', data=master_frame)\n",
    "plt.show()"
   ]
  },
  {
   "cell_type": "code",
   "execution_count": 43,
   "metadata": {},
   "outputs": [
    {
     "data": {
      "image/png": "[encoded data removed]",
      "text/plain": [
       "<matplotlib.figure.Figure at 0x7f452969cd30>"
      ]
     },
     "metadata": {},
     "output_type": "display_data"
    }
   ],
   "source": [
    "# Plotting categorical variable across the y-axis\n",
    "plt.figure(figsize=(20, 15))\n",
    "sns.barplot(x='raised_amount_usd', y=\"funding_round_type\", data=master_frame, estimator=np.median)\n",
    "plt.show()"
   ]
  },
  {
   "cell_type": "code",
   "execution_count": 44,
   "metadata": {},
   "outputs": [
    {
     "data": {
      "image/png": "[encoded data removed]",
      "text/plain": [
       "<matplotlib.figure.Figure at 0x7f45296a1240>"
      ]
     },
     "metadata": {},
     "output_type": "display_data"
    }
   ],
   "source": [
    "# Plotting count across a categorical variable \n",
    "plt.figure(figsize=(20, 15))\n",
    "sns.countplot(y=\"funding_round_type\", data=master_frame)\n",
    "plt.show()"
   ]
  },
  {
   "cell_type": "code",
   "execution_count": 45,
   "metadata": {},
   "outputs": [
    {
     "data": {
      "image/png": "[encoded data removed]",
      "text/plain": [
       "<matplotlib.figure.Figure at 0x7f4529b91a20>"
      ]
     },
     "metadata": {},
     "output_type": "display_data"
    }
   ],
   "source": [
    "#Lets now restrict our master frame to only contain the 4 type of funding rounds\n",
    "\n",
    "master_frame = master_frame[master_frame['funding_round_type'].isin(['venture', 'angel', 'seed', 'private_equity'])]\n",
    "\n",
    "# boxplot of a variable across various funding categories\n",
    "plt.figure(figsize=(15, 10))\n",
    "sns.boxplot(x='funding_round_type', y='raised_amount_usd', data=master_frame)\n",
    "plt.yscale('log')\n",
    "plt.show()"
   ]
  },
  {
   "cell_type": "code",
   "execution_count": 46,
   "metadata": {},
   "outputs": [
    {
     "data": {
      "image/png": "[encoded data removed]",
      "text/plain": [
       "<matplotlib.figure.Figure at 0x7f45296835c0>"
      ]
     },
     "metadata": {},
     "output_type": "display_data"
    }
   ],
   "source": [
    "# bar plot with default statistic=mean\n",
    "plt.figure(figsize=(10, 8))\n",
    "sns.barplot(x='funding_round_type', y='raised_amount_usd', data=master_frame)\n",
    "plt.show()"
   ]
  },
  {
   "cell_type": "code",
   "execution_count": 47,
   "metadata": {},
   "outputs": [
    {
     "data": {
      "text/plain": [
       "funding_round_type\n",
       "private_equity   73,308,593.03\n",
       "venture          11,748,949.13\n",
       "angel               958,694.47\n",
       "seed                719,779.62\n",
       "Name: raised_amount_usd, dtype: float64"
      ]
     },
     "execution_count": 47,
     "metadata": {},
     "output_type": "execute_result"
    }
   ],
   "source": [
    "master_frame.groupby('funding_round_type')['raised_amount_usd'].mean().sort_values(ascending=False)\n",
    "#averages."
   ]
  },
  {
   "cell_type": "code",
   "execution_count": 48,
   "metadata": {},
   "outputs": [
    {
     "data": {
      "text/plain": [
       "funding_round_type\n",
       "private_equity   20,000,000.00\n",
       "venture           5,000,000.00\n",
       "angel               400,000.00\n",
       "seed                275,000.00\n",
       "Name: raised_amount_usd, dtype: float64"
      ]
     },
     "execution_count": 48,
     "metadata": {},
     "output_type": "execute_result"
    }
   ],
   "source": [
    "master_frame.groupby('funding_round_type')['raised_amount_usd'].median().sort_values(ascending=False)\n",
    "#averages."
   ]
  },
  {
   "cell_type": "code",
   "execution_count": 49,
   "metadata": {},
   "outputs": [
    {
     "data": {
      "image/png": "[encoded data removed]",
      "text/plain": [
       "<matplotlib.figure.Figure at 0x7f4529b30860>"
      ]
     },
     "metadata": {},
     "output_type": "display_data"
    }
   ],
   "source": [
    "# Plotting categorical variable across the y-axis\n",
    "plt.figure(figsize=(10, 8))\n",
    "sns.barplot(x='raised_amount_usd', y=\"funding_round_type\", data=master_frame, estimator=np.median)\n",
    "plt.show()"
   ]
  },
  {
   "cell_type": "code",
   "execution_count": 50,
   "metadata": {},
   "outputs": [
    {
     "data": {
      "image/png": "[encoded data removed]",
      "text/plain": [
       "<matplotlib.figure.Figure at 0x7f45299c4710>"
      ]
     },
     "metadata": {},
     "output_type": "display_data"
    }
   ],
   "source": [
    "# Plotting count across a categorical variable \n",
    "plt.figure(figsize=(10, 8))\n",
    "sns.countplot(y=\"funding_round_type\", data=master_frame)\n",
    "plt.show()"
   ]
  },
  {
   "cell_type": "code",
   "execution_count": 51,
   "metadata": {},
   "outputs": [
    {
     "data": {
      "image/png": "[encoded data removed]",
      "text/plain": [
       "<matplotlib.figure.Figure at 0x7f452982a908>"
      ]
     },
     "metadata": {},
     "output_type": "display_data"
    }
   ],
   "source": [
    "# Create 2 subplots for mean and median respectively\n",
    "\n",
    "# increase figure size \n",
    "plt.figure(figsize=(12, 6))\n",
    "\n",
    "# subplot 1: statistic=mean\n",
    "plt.subplot(1, 2, 1)\n",
    "sns.barplot(x='funding_round_type', y='raised_amount_usd', data=master_frame)\n",
    "plt.title(\"Average\")\n",
    "\n",
    "# subplot 2: statistic=median\n",
    "plt.subplot(1, 2, 2)\n",
    "sns.barplot(x='funding_round_type', y='raised_amount_usd', data=master_frame, estimator=np.median)\n",
    "plt.title(\"Median\")\n",
    "\n",
    "plt.show()"
   ]
  },
  {
   "cell_type": "code",
   "execution_count": 52,
   "metadata": {},
   "outputs": [
    {
     "data": {
      "image/png": "[encoded data removed]",
      "text/plain": [
       "<matplotlib.figure.Figure at 0x7f4529ad82e8>"
      ]
     },
     "metadata": {},
     "output_type": "display_data"
    }
   ],
   "source": [
    "plt.figure(figsize=(12, 6))\n",
    "plt.subplot(1, 2, 1)\n",
    "sns.countplot(x=\"funding_round_type\", data=master_frame)\n",
    "plt.title(\"# of Investments\")\n",
    "plt.subplot(1, 2, 2)\n",
    "sns.barplot(y='raised_amount_usd', x=\"funding_round_type\", data=master_frame, estimator=np.mean)\n",
    "plt.title(\"Average\")\n",
    "plt.show()"
   ]
  },
  {
   "cell_type": "markdown",
   "metadata": {},
   "source": [
    "### From above chart it seems that many are investing in venture and they fall in the bracket of 5 to 15 million which spark fund have budgeted for. "
   ]
  },
  {
   "cell_type": "code",
   "execution_count": 53,
   "metadata": {},
   "outputs": [
    {
     "data": {
      "text/html": [
       "<div>\n",
       "<style>\n",
       "    .dataframe thead tr:only-child th {\n",
       "        text-align: right;\n",
       "    }\n",
       "\n",
       "    .dataframe thead th {\n",
       "        text-align: left;\n",
       "    }\n",
       "\n",
       "    .dataframe tbody tr th {\n",
       "        vertical-align: top;\n",
       "    }\n",
       "</style>\n",
       "<table border=\"1\" class=\"dataframe\">\n",
       "  <thead>\n",
       "    <tr style=\"text-align: right;\">\n",
       "      <th></th>\n",
       "      <th>raised_amount_usd</th>\n",
       "    </tr>\n",
       "  </thead>\n",
       "  <tbody>\n",
       "    <tr>\n",
       "      <th>count</th>\n",
       "      <td>50,228.00</td>\n",
       "    </tr>\n",
       "    <tr>\n",
       "      <th>mean</th>\n",
       "      <td>11,748,949.13</td>\n",
       "    </tr>\n",
       "    <tr>\n",
       "      <th>std</th>\n",
       "      <td>86,352,066.56</td>\n",
       "    </tr>\n",
       "    <tr>\n",
       "      <th>min</th>\n",
       "      <td>0.00</td>\n",
       "    </tr>\n",
       "    <tr>\n",
       "      <th>25%</th>\n",
       "      <td>1,600,901.75</td>\n",
       "    </tr>\n",
       "    <tr>\n",
       "      <th>50%</th>\n",
       "      <td>5,000,000.00</td>\n",
       "    </tr>\n",
       "    <tr>\n",
       "      <th>75%</th>\n",
       "      <td>12,000,000.00</td>\n",
       "    </tr>\n",
       "    <tr>\n",
       "      <th>max</th>\n",
       "      <td>17,600,000,000.00</td>\n",
       "    </tr>\n",
       "  </tbody>\n",
       "</table>\n",
       "</div>"
      ],
      "text/plain": [
       "       raised_amount_usd\n",
       "count          50,228.00\n",
       "mean       11,748,949.13\n",
       "std        86,352,066.56\n",
       "min                 0.00\n",
       "25%         1,600,901.75\n",
       "50%         5,000,000.00\n",
       "75%        12,000,000.00\n",
       "max    17,600,000,000.00"
      ]
     },
     "execution_count": 53,
     "metadata": {},
     "output_type": "execute_result"
    }
   ],
   "source": [
    "# Let's purge our data to only include venture type\n",
    "master_frame = master_frame[master_frame['funding_round_type'].isin(['venture'])]\n",
    "master_frame.describe()"
   ]
  },
  {
   "cell_type": "code",
   "execution_count": 54,
   "metadata": {},
   "outputs": [
    {
     "data": {
      "text/html": [
       "<div>\n",
       "<style>\n",
       "    .dataframe thead tr:only-child th {\n",
       "        text-align: right;\n",
       "    }\n",
       "\n",
       "    .dataframe thead th {\n",
       "        text-align: left;\n",
       "    }\n",
       "\n",
       "    .dataframe tbody tr th {\n",
       "        vertical-align: top;\n",
       "    }\n",
       "</style>\n",
       "<table border=\"1\" class=\"dataframe\">\n",
       "  <thead>\n",
       "    <tr style=\"text-align: right;\">\n",
       "      <th></th>\n",
       "      <th>funding_round_permalink</th>\n",
       "      <th>funding_round_type</th>\n",
       "      <th>funded_at</th>\n",
       "      <th>raised_amount_usd</th>\n",
       "      <th>permalink</th>\n",
       "      <th>name</th>\n",
       "      <th>category_list</th>\n",
       "      <th>status</th>\n",
       "      <th>country_code</th>\n",
       "    </tr>\n",
       "  </thead>\n",
       "  <tbody>\n",
       "    <tr>\n",
       "      <th>0</th>\n",
       "      <td>/funding-round/9a01d05418af9f794eebff7ace91f638</td>\n",
       "      <td>venture</td>\n",
       "      <td>05-01-2015</td>\n",
       "      <td>10,000,000.00</td>\n",
       "      <td>/organization/-fame</td>\n",
       "      <td>#fame</td>\n",
       "      <td>Media</td>\n",
       "      <td>operating</td>\n",
       "      <td>IND</td>\n",
       "    </tr>\n",
       "    <tr>\n",
       "      <th>3</th>\n",
       "      <td>/funding-round/650b8f704416801069bb178a1418776b</td>\n",
       "      <td>venture</td>\n",
       "      <td>30-01-2014</td>\n",
       "      <td>3,406,878.00</td>\n",
       "      <td>/organization/-the-one-of-them-inc-</td>\n",
       "      <td>(THE) ONE of THEM,Inc.</td>\n",
       "      <td>Apps|Games|Mobile</td>\n",
       "      <td>operating</td>\n",
       "      <td>UNK</td>\n",
       "    </tr>\n",
       "    <tr>\n",
       "      <th>4</th>\n",
       "      <td>/funding-round/5727accaeaa57461bd22a9bdd945382d</td>\n",
       "      <td>venture</td>\n",
       "      <td>19-03-2008</td>\n",
       "      <td>2,000,000.00</td>\n",
       "      <td>/organization/0-6-com</td>\n",
       "      <td>0-6.com</td>\n",
       "      <td>Curated Web</td>\n",
       "      <td>operating</td>\n",
       "      <td>CHN</td>\n",
       "    </tr>\n",
       "    <tr>\n",
       "      <th>8</th>\n",
       "      <td>/funding-round/954b9499724b946ad8c396a57a5f3b72</td>\n",
       "      <td>venture</td>\n",
       "      <td>21-12-2009</td>\n",
       "      <td>719,491.00</td>\n",
       "      <td>/organization/0ndine-biomedical-inc</td>\n",
       "      <td>Ondine Biomedical Inc.</td>\n",
       "      <td>Biotechnology</td>\n",
       "      <td>operating</td>\n",
       "      <td>CAN</td>\n",
       "    </tr>\n",
       "    <tr>\n",
       "      <th>10</th>\n",
       "      <td>/funding-round/3bb2ee4a2d89251a10aaa735b1180e44</td>\n",
       "      <td>venture</td>\n",
       "      <td>09-11-2015</td>\n",
       "      <td>20,000,000.00</td>\n",
       "      <td>/organization/0xdata</td>\n",
       "      <td>H2O.ai</td>\n",
       "      <td>Analytics</td>\n",
       "      <td>operating</td>\n",
       "      <td>USA</td>\n",
       "    </tr>\n",
       "  </tbody>\n",
       "</table>\n",
       "</div>"
      ],
      "text/plain": [
       "                            funding_round_permalink funding_round_type  \\\n",
       "0   /funding-round/9a01d05418af9f794eebff7ace91f638            venture   \n",
       "3   /funding-round/650b8f704416801069bb178a1418776b            venture   \n",
       "4   /funding-round/5727accaeaa57461bd22a9bdd945382d            venture   \n",
       "8   /funding-round/954b9499724b946ad8c396a57a5f3b72            venture   \n",
       "10  /funding-round/3bb2ee4a2d89251a10aaa735b1180e44            venture   \n",
       "\n",
       "     funded_at  raised_amount_usd                            permalink  \\\n",
       "0   05-01-2015      10,000,000.00                  /organization/-fame   \n",
       "3   30-01-2014       3,406,878.00  /organization/-the-one-of-them-inc-   \n",
       "4   19-03-2008       2,000,000.00                /organization/0-6-com   \n",
       "8   21-12-2009         719,491.00  /organization/0ndine-biomedical-inc   \n",
       "10  09-11-2015      20,000,000.00                 /organization/0xdata   \n",
       "\n",
       "                      name      category_list     status country_code  \n",
       "0                    #fame              Media  operating          IND  \n",
       "3   (THE) ONE of THEM,Inc.  Apps|Games|Mobile  operating          UNK  \n",
       "4                  0-6.com        Curated Web  operating          CHN  \n",
       "8   Ondine Biomedical Inc.      Biotechnology  operating          CAN  \n",
       "10                  H2O.ai          Analytics  operating          USA  "
      ]
     },
     "execution_count": 54,
     "metadata": {},
     "output_type": "execute_result"
    }
   ],
   "source": [
    "master_frame.head()"
   ]
  },
  {
   "cell_type": "code",
   "execution_count": 55,
   "metadata": {},
   "outputs": [
    {
     "data": {
      "text/plain": [
       "count     50228\n",
       "unique       98\n",
       "top         USA\n",
       "freq      36139\n",
       "Name: country_code, dtype: object"
      ]
     },
     "execution_count": 55,
     "metadata": {},
     "output_type": "execute_result"
    }
   ],
   "source": [
    "master_frame['country_code'].describe()"
   ]
  },
  {
   "cell_type": "markdown",
   "metadata": {},
   "source": [
    "### Spark Funds wants to invest in countries with the highest amount of funding for the chosen investment type. This is a part of its broader strategy to invest where most investments are occurring."
   ]
  },
  {
   "cell_type": "code",
   "execution_count": 56,
   "metadata": {},
   "outputs": [
    {
     "data": {
      "text/plain": [
       "country_code\n",
       "USA   422,510,842,796.00\n",
       "CHN    39,835,418,773.00\n",
       "UNK    25,506,108,414.00\n",
       "GBR    20,245,627,416.00\n",
       "IND    14,391,858,718.00\n",
       "CAN     9,583,332,317.00\n",
       "FRA     7,259,536,732.00\n",
       "ISR     6,907,514,579.00\n",
       "DEU     6,346,959,822.00\n",
       "JPN     3,363,676,611.00\n",
       "SWE     3,254,952,563.00\n",
       "NLD     2,939,403,619.00\n",
       "CHE     2,827,560,264.00\n",
       "SGP     2,793,917,856.00\n",
       "ESP     1,835,831,452.00\n",
       "Name: raised_amount_usd, dtype: float64"
      ]
     },
     "execution_count": 56,
     "metadata": {},
     "output_type": "execute_result"
    }
   ],
   "source": [
    "master_frame.groupby('country_code')['raised_amount_usd'].sum().sort_values(ascending=False).head(15)"
   ]
  },
  {
   "cell_type": "markdown",
   "metadata": {},
   "source": [
    "#### Before we proceed we need to clean the categories_list column data . First string before the vertical bar will be considered the primary sector."
   ]
  },
  {
   "cell_type": "code",
   "execution_count": 57,
   "metadata": {
    "collapsed": true
   },
   "outputs": [],
   "source": [
    "# function to strip additional values and retian only the first value\n",
    "def retain_first(value):\n",
    "    values = value.split('|')\n",
    "    if len(values) > 1:\n",
    "        return values[0]\n",
    "    else:\n",
    "        return value"
   ]
  },
  {
   "cell_type": "code",
   "execution_count": 58,
   "metadata": {},
   "outputs": [
    {
     "name": "stdout",
     "output_type": "stream",
     "text": [
      "Apps\n"
     ]
    }
   ],
   "source": [
    "# lets test the function \n",
    "print(retain_first('Apps|Games|Mobile'))"
   ]
  },
  {
   "cell_type": "code",
   "execution_count": 59,
   "metadata": {},
   "outputs": [
    {
     "name": "stdout",
     "output_type": "stream",
     "text": [
      "Games\n"
     ]
    }
   ],
   "source": [
    "print(retain_first('Games'))"
   ]
  },
  {
   "cell_type": "code",
   "execution_count": 60,
   "metadata": {
    "collapsed": true
   },
   "outputs": [],
   "source": [
    "master_frame['primary_sector'] = master_frame['category_list'].apply(retain_first)\n",
    "master_frame['primary_sector'] = master_frame['primary_sector'].str.lower()"
   ]
  },
  {
   "cell_type": "code",
   "execution_count": 61,
   "metadata": {},
   "outputs": [
    {
     "data": {
      "text/plain": [
       "country_code\n",
       "USA   422,510,842,796.00\n",
       "CHN    39,835,418,773.00\n",
       "GBR    20,245,627,416.00\n",
       "IND    14,391,858,718.00\n",
       "CAN     9,583,332,317.00\n",
       "FRA     7,259,536,732.00\n",
       "ISR     6,907,514,579.00\n",
       "DEU     6,346,959,822.00\n",
       "JPN     3,363,676,611.00\n",
       "Name: raised_amount_usd, dtype: float64"
      ]
     },
     "execution_count": 61,
     "metadata": {},
     "output_type": "execute_result"
    }
   ],
   "source": [
    "# Create a new data frame top9 with the list of countries with highest funding\n",
    "top9 = master_frame[master_frame['country_code'].isin(['USA', 'CHN', 'GBR', 'IND', 'CAN', 'FRA', 'ISR', 'DEU', 'JPN' ])]\n",
    "\n",
    "top9.groupby('country_code')['raised_amount_usd'].sum().sort_values(ascending=False)"
   ]
  },
  {
   "cell_type": "code",
   "execution_count": 62,
   "metadata": {},
   "outputs": [
    {
     "data": {
      "image/png": "[encoded data removed]",
      "text/plain": [
       "<matplotlib.figure.Figure at 0x7f452997cd30>"
      ]
     },
     "metadata": {},
     "output_type": "display_data"
    }
   ],
   "source": [
    "# Plotting sum across top 9 country_code \n",
    "\n",
    "plt.figure(figsize=(20, 10))\n",
    "plt.subplot(1, 2, 1)\n",
    "sns.countplot(x=\"country_code\", data=top9)\n",
    "plt.title(\"Count\")\n",
    "plt.subplot(1, 2, 2)\n",
    "sns.barplot(x=\"country_code\", y=\"raised_amount_usd\", data=top9, estimator=sum)\n",
    "plt.title(\"Sum\")\n",
    "plt.show()"
   ]
  },
  {
   "cell_type": "markdown",
   "metadata": {},
   "source": [
    "### Identify the top three English-speaking countries in the data frame top9. The countires has been short listed by manual analysis of the list provided for english as offical lanaguage list (pdf)\n",
    "\n",
    "## USA\n",
    "## GBR\n",
    "## IND"
   ]
  },
  {
   "cell_type": "code",
   "execution_count": 63,
   "metadata": {},
   "outputs": [
    {
     "data": {
      "text/plain": [
       "country_code\n",
       "USA   422,510,842,796.00\n",
       "GBR    20,245,627,416.00\n",
       "IND    14,391,858,718.00\n",
       "Name: raised_amount_usd, dtype: float64"
      ]
     },
     "execution_count": 63,
     "metadata": {},
     "output_type": "execute_result"
    }
   ],
   "source": [
    "# Let's now create a new data frame with only these 3 countires data for furthur sector wise analysis\n",
    "top3_english = top9[top9['country_code'].isin(['USA', 'GBR', 'IND'])]\n",
    "top3_english.groupby('country_code')['raised_amount_usd'].sum().sort_values(ascending=False)"
   ]
  },
  {
   "cell_type": "code",
   "execution_count": 64,
   "metadata": {},
   "outputs": [
    {
     "data": {
      "image/png": "[encoded data removed]",
      "text/plain": [
       "<matplotlib.figure.Figure at 0x7f45298e8780>"
      ]
     },
     "metadata": {},
     "output_type": "display_data"
    }
   ],
   "source": [
    "# Plotting sum across top 3 english official language country_code \n",
    "plt.figure(figsize=(20, 10))\n",
    "plt.subplot(1, 2, 1)\n",
    "sns.countplot(x=\"country_code\", data=top3_english)\n",
    "plt.title(\"Count\")\n",
    "plt.subplot(1, 2, 2)\n",
    "sns.barplot(x=\"country_code\", y=\"raised_amount_usd\", data=top3_english, estimator=sum)\n",
    "plt.title(\"Sum\")\n",
    "plt.show()"
   ]
  },
  {
   "cell_type": "code",
   "execution_count": 65,
   "metadata": {},
   "outputs": [
    {
     "data": {
      "text/html": [
       "<div>\n",
       "<style>\n",
       "    .dataframe thead tr:only-child th {\n",
       "        text-align: right;\n",
       "    }\n",
       "\n",
       "    .dataframe thead th {\n",
       "        text-align: left;\n",
       "    }\n",
       "\n",
       "    .dataframe tbody tr th {\n",
       "        vertical-align: top;\n",
       "    }\n",
       "</style>\n",
       "<table border=\"1\" class=\"dataframe\">\n",
       "  <thead>\n",
       "    <tr style=\"text-align: right;\">\n",
       "      <th></th>\n",
       "      <th>category_list</th>\n",
       "      <th>Automotive &amp; Sports</th>\n",
       "      <th>Blanks</th>\n",
       "      <th>Cleantech / Semiconductors</th>\n",
       "      <th>Entertainment</th>\n",
       "      <th>Health</th>\n",
       "      <th>Manufacturing</th>\n",
       "      <th>News, Search and Messaging</th>\n",
       "      <th>Others</th>\n",
       "      <th>Social, Finance, Analytics, Advertising</th>\n",
       "    </tr>\n",
       "  </thead>\n",
       "  <tbody>\n",
       "    <tr>\n",
       "      <th>0</th>\n",
       "      <td>NaN</td>\n",
       "      <td>0</td>\n",
       "      <td>1</td>\n",
       "      <td>0</td>\n",
       "      <td>0</td>\n",
       "      <td>0</td>\n",
       "      <td>0</td>\n",
       "      <td>0</td>\n",
       "      <td>0</td>\n",
       "      <td>0</td>\n",
       "    </tr>\n",
       "    <tr>\n",
       "      <th>1</th>\n",
       "      <td>3D</td>\n",
       "      <td>0</td>\n",
       "      <td>0</td>\n",
       "      <td>0</td>\n",
       "      <td>0</td>\n",
       "      <td>0</td>\n",
       "      <td>1</td>\n",
       "      <td>0</td>\n",
       "      <td>0</td>\n",
       "      <td>0</td>\n",
       "    </tr>\n",
       "    <tr>\n",
       "      <th>2</th>\n",
       "      <td>3D Printing</td>\n",
       "      <td>0</td>\n",
       "      <td>0</td>\n",
       "      <td>0</td>\n",
       "      <td>0</td>\n",
       "      <td>0</td>\n",
       "      <td>1</td>\n",
       "      <td>0</td>\n",
       "      <td>0</td>\n",
       "      <td>0</td>\n",
       "    </tr>\n",
       "    <tr>\n",
       "      <th>3</th>\n",
       "      <td>3D Technology</td>\n",
       "      <td>0</td>\n",
       "      <td>0</td>\n",
       "      <td>0</td>\n",
       "      <td>0</td>\n",
       "      <td>0</td>\n",
       "      <td>1</td>\n",
       "      <td>0</td>\n",
       "      <td>0</td>\n",
       "      <td>0</td>\n",
       "    </tr>\n",
       "    <tr>\n",
       "      <th>4</th>\n",
       "      <td>Accounting</td>\n",
       "      <td>0</td>\n",
       "      <td>0</td>\n",
       "      <td>0</td>\n",
       "      <td>0</td>\n",
       "      <td>0</td>\n",
       "      <td>0</td>\n",
       "      <td>0</td>\n",
       "      <td>0</td>\n",
       "      <td>1</td>\n",
       "    </tr>\n",
       "  </tbody>\n",
       "</table>\n",
       "</div>"
      ],
      "text/plain": [
       "   category_list  Automotive & Sports  Blanks  Cleantech / Semiconductors  \\\n",
       "0            NaN                    0       1                           0   \n",
       "1             3D                    0       0                           0   \n",
       "2    3D Printing                    0       0                           0   \n",
       "3  3D Technology                    0       0                           0   \n",
       "4     Accounting                    0       0                           0   \n",
       "\n",
       "   Entertainment  Health  Manufacturing  News, Search and Messaging  Others  \\\n",
       "0              0       0              0                           0       0   \n",
       "1              0       0              1                           0       0   \n",
       "2              0       0              1                           0       0   \n",
       "3              0       0              1                           0       0   \n",
       "4              0       0              0                           0       0   \n",
       "\n",
       "   Social, Finance, Analytics, Advertising  \n",
       "0                                        0  \n",
       "1                                        0  \n",
       "2                                        0  \n",
       "3                                        0  \n",
       "4                                        1  "
      ]
     },
     "execution_count": 65,
     "metadata": {},
     "output_type": "execute_result"
    }
   ],
   "source": [
    "#Let's load the mapping csv file into a dataframe and start with sector wise analysis\n",
    "mapping = pd.read_csv(\"data/mapping.csv\", encoding = \"ISO-8859-1\")\n",
    "mapping.head(5)"
   ]
  },
  {
   "cell_type": "markdown",
   "metadata": {},
   "source": [
    "### Totally there are 7 main categories excluding Others and Blank data"
   ]
  },
  {
   "cell_type": "code",
   "execution_count": 66,
   "metadata": {},
   "outputs": [
    {
     "name": "stdout",
     "output_type": "stream",
     "text": [
      "<class 'pandas.core.frame.DataFrame'>\n",
      "RangeIndex: 688 entries, 0 to 687\n",
      "Data columns (total 10 columns):\n",
      "category_list                              687 non-null object\n",
      "Automotive & Sports                        688 non-null int64\n",
      "Blanks                                     688 non-null int64\n",
      "Cleantech / Semiconductors                 688 non-null int64\n",
      "Entertainment                              688 non-null int64\n",
      "Health                                     688 non-null int64\n",
      "Manufacturing                              688 non-null int64\n",
      "News, Search and Messaging                 688 non-null int64\n",
      "Others                                     688 non-null int64\n",
      "Social, Finance, Analytics, Advertising    688 non-null int64\n",
      "dtypes: int64(9), object(1)\n",
      "memory usage: 53.8+ KB\n"
     ]
    }
   ],
   "source": [
    "mapping.info()"
   ]
  },
  {
   "cell_type": "code",
   "execution_count": 67,
   "metadata": {},
   "outputs": [
    {
     "data": {
      "text/html": [
       "<div>\n",
       "<style>\n",
       "    .dataframe thead tr:only-child th {\n",
       "        text-align: right;\n",
       "    }\n",
       "\n",
       "    .dataframe thead th {\n",
       "        text-align: left;\n",
       "    }\n",
       "\n",
       "    .dataframe tbody tr th {\n",
       "        vertical-align: top;\n",
       "    }\n",
       "</style>\n",
       "<table border=\"1\" class=\"dataframe\">\n",
       "  <thead>\n",
       "    <tr style=\"text-align: right;\">\n",
       "      <th></th>\n",
       "      <th>category_list</th>\n",
       "      <th>variable</th>\n",
       "      <th>value</th>\n",
       "    </tr>\n",
       "  </thead>\n",
       "  <tbody>\n",
       "    <tr>\n",
       "      <th>8</th>\n",
       "      <td>Adventure Travel</td>\n",
       "      <td>Automotive &amp; Sports</td>\n",
       "      <td>1</td>\n",
       "    </tr>\n",
       "    <tr>\n",
       "      <th>14</th>\n",
       "      <td>Aerospace</td>\n",
       "      <td>Automotive &amp; Sports</td>\n",
       "      <td>1</td>\n",
       "    </tr>\n",
       "    <tr>\n",
       "      <th>45</th>\n",
       "      <td>Auto</td>\n",
       "      <td>Automotive &amp; Sports</td>\n",
       "      <td>1</td>\n",
       "    </tr>\n",
       "    <tr>\n",
       "      <th>46</th>\n",
       "      <td>Automated Kiosk</td>\n",
       "      <td>Automotive &amp; Sports</td>\n",
       "      <td>1</td>\n",
       "    </tr>\n",
       "    <tr>\n",
       "      <th>47</th>\n",
       "      <td>Automotive</td>\n",
       "      <td>Automotive &amp; Sports</td>\n",
       "      <td>1</td>\n",
       "    </tr>\n",
       "    <tr>\n",
       "      <th>57</th>\n",
       "      <td>Bicycles</td>\n",
       "      <td>Automotive &amp; Sports</td>\n",
       "      <td>1</td>\n",
       "    </tr>\n",
       "    <tr>\n",
       "      <th>69</th>\n",
       "      <td>Boating Industry</td>\n",
       "      <td>Automotive &amp; Sports</td>\n",
       "      <td>1</td>\n",
       "    </tr>\n",
       "    <tr>\n",
       "      <th>87</th>\n",
       "      <td>CAD</td>\n",
       "      <td>Automotive &amp; Sports</td>\n",
       "      <td>1</td>\n",
       "    </tr>\n",
       "    <tr>\n",
       "      <th>93</th>\n",
       "      <td>Cars</td>\n",
       "      <td>Automotive &amp; Sports</td>\n",
       "      <td>1</td>\n",
       "    </tr>\n",
       "    <tr>\n",
       "      <th>188</th>\n",
       "      <td>Design</td>\n",
       "      <td>Automotive &amp; Sports</td>\n",
       "      <td>1</td>\n",
       "    </tr>\n",
       "  </tbody>\n",
       "</table>\n",
       "</div>"
      ],
      "text/plain": [
       "        category_list             variable  value\n",
       "8    Adventure Travel  Automotive & Sports      1\n",
       "14          Aerospace  Automotive & Sports      1\n",
       "45               Auto  Automotive & Sports      1\n",
       "46    Automated Kiosk  Automotive & Sports      1\n",
       "47         Automotive  Automotive & Sports      1\n",
       "57           Bicycles  Automotive & Sports      1\n",
       "69   Boating Industry  Automotive & Sports      1\n",
       "87                CAD  Automotive & Sports      1\n",
       "93               Cars  Automotive & Sports      1\n",
       "188            Design  Automotive & Sports      1"
      ]
     },
     "execution_count": 67,
     "metadata": {},
     "output_type": "execute_result"
    }
   ],
   "source": [
    "mapping = pd.melt(mapping,id_vars=[\"category_list\"])\n",
    "mapping = mapping[mapping.value != 0]\n",
    "mapping.head(10)"
   ]
  },
  {
   "cell_type": "code",
   "execution_count": 68,
   "metadata": {},
   "outputs": [
    {
     "name": "stdout",
     "output_type": "stream",
     "text": [
      "<class 'pandas.core.frame.DataFrame'>\n",
      "Int64Index: 688 entries, 8 to 6167\n",
      "Data columns (total 3 columns):\n",
      "category_list    687 non-null object\n",
      "variable         688 non-null object\n",
      "value            688 non-null int64\n",
      "dtypes: int64(1), object(2)\n",
      "memory usage: 21.5+ KB\n"
     ]
    }
   ],
   "source": [
    "mapping.info()"
   ]
  },
  {
   "cell_type": "code",
   "execution_count": 69,
   "metadata": {
    "collapsed": true
   },
   "outputs": [],
   "source": [
    "mapping = mapping.drop('value', axis=1)\n",
    "mapping.rename(columns={'variable':'main_sector','category_list':'primary_sector'}, inplace=True)\n",
    "mapping['primary_sector'] = mapping['primary_sector'].str.lower()"
   ]
  },
  {
   "cell_type": "code",
   "execution_count": 70,
   "metadata": {},
   "outputs": [
    {
     "data": {
      "text/plain": [
       "39018"
      ]
     },
     "execution_count": 70,
     "metadata": {},
     "output_type": "execute_result"
    }
   ],
   "source": [
    "len(top3_english)"
   ]
  },
  {
   "cell_type": "code",
   "execution_count": 71,
   "metadata": {},
   "outputs": [
    {
     "data": {
      "text/html": [
       "<div>\n",
       "<style>\n",
       "    .dataframe thead tr:only-child th {\n",
       "        text-align: right;\n",
       "    }\n",
       "\n",
       "    .dataframe thead th {\n",
       "        text-align: left;\n",
       "    }\n",
       "\n",
       "    .dataframe tbody tr th {\n",
       "        vertical-align: top;\n",
       "    }\n",
       "</style>\n",
       "<table border=\"1\" class=\"dataframe\">\n",
       "  <thead>\n",
       "    <tr style=\"text-align: right;\">\n",
       "      <th></th>\n",
       "      <th>funding_round_permalink</th>\n",
       "      <th>funding_round_type</th>\n",
       "      <th>funded_at</th>\n",
       "      <th>raised_amount_usd</th>\n",
       "      <th>permalink</th>\n",
       "      <th>name</th>\n",
       "      <th>category_list</th>\n",
       "      <th>status</th>\n",
       "      <th>country_code</th>\n",
       "      <th>primary_sector</th>\n",
       "      <th>main_sector</th>\n",
       "      <th>_merge</th>\n",
       "    </tr>\n",
       "  </thead>\n",
       "  <tbody>\n",
       "    <tr>\n",
       "      <th>0</th>\n",
       "      <td>/funding-round/9a01d05418af9f794eebff7ace91f638</td>\n",
       "      <td>venture</td>\n",
       "      <td>05-01-2015</td>\n",
       "      <td>10,000,000.00</td>\n",
       "      <td>/organization/-fame</td>\n",
       "      <td>#fame</td>\n",
       "      <td>Media</td>\n",
       "      <td>operating</td>\n",
       "      <td>IND</td>\n",
       "      <td>media</td>\n",
       "      <td>Entertainment</td>\n",
       "      <td>both</td>\n",
       "    </tr>\n",
       "    <tr>\n",
       "      <th>1</th>\n",
       "      <td>/funding-round/3bb2ee4a2d89251a10aaa735b1180e44</td>\n",
       "      <td>venture</td>\n",
       "      <td>09-11-2015</td>\n",
       "      <td>20,000,000.00</td>\n",
       "      <td>/organization/0xdata</td>\n",
       "      <td>H2O.ai</td>\n",
       "      <td>Analytics</td>\n",
       "      <td>operating</td>\n",
       "      <td>USA</td>\n",
       "      <td>analytics</td>\n",
       "      <td>NaN</td>\n",
       "      <td>left_only</td>\n",
       "    </tr>\n",
       "    <tr>\n",
       "      <th>2</th>\n",
       "      <td>/funding-round/ae2a174c06517c2394aed45006322a7e</td>\n",
       "      <td>venture</td>\n",
       "      <td>03-01-2013</td>\n",
       "      <td>1,700,000.00</td>\n",
       "      <td>/organization/0xdata</td>\n",
       "      <td>H2O.ai</td>\n",
       "      <td>Analytics</td>\n",
       "      <td>operating</td>\n",
       "      <td>USA</td>\n",
       "      <td>analytics</td>\n",
       "      <td>NaN</td>\n",
       "      <td>left_only</td>\n",
       "    </tr>\n",
       "    <tr>\n",
       "      <th>3</th>\n",
       "      <td>/funding-round/e1cfcbe1bdf4c70277c5f29a3482f24e</td>\n",
       "      <td>venture</td>\n",
       "      <td>19-07-2014</td>\n",
       "      <td>8,900,000.00</td>\n",
       "      <td>/organization/0xdata</td>\n",
       "      <td>H2O.ai</td>\n",
       "      <td>Analytics</td>\n",
       "      <td>operating</td>\n",
       "      <td>USA</td>\n",
       "      <td>analytics</td>\n",
       "      <td>NaN</td>\n",
       "      <td>left_only</td>\n",
       "    </tr>\n",
       "    <tr>\n",
       "      <th>4</th>\n",
       "      <td>/funding-round/b952cbaf401f310927430c97b68162ea</td>\n",
       "      <td>venture</td>\n",
       "      <td>17-03-2015</td>\n",
       "      <td>5,000,000.00</td>\n",
       "      <td>/organization/1-mainstream</td>\n",
       "      <td>1 Mainstream</td>\n",
       "      <td>Apps|Cable|Distribution|Software</td>\n",
       "      <td>acquired</td>\n",
       "      <td>USA</td>\n",
       "      <td>apps</td>\n",
       "      <td>News, Search and Messaging</td>\n",
       "      <td>both</td>\n",
       "    </tr>\n",
       "  </tbody>\n",
       "</table>\n",
       "</div>"
      ],
      "text/plain": [
       "                           funding_round_permalink funding_round_type  \\\n",
       "0  /funding-round/9a01d05418af9f794eebff7ace91f638            venture   \n",
       "1  /funding-round/3bb2ee4a2d89251a10aaa735b1180e44            venture   \n",
       "2  /funding-round/ae2a174c06517c2394aed45006322a7e            venture   \n",
       "3  /funding-round/e1cfcbe1bdf4c70277c5f29a3482f24e            venture   \n",
       "4  /funding-round/b952cbaf401f310927430c97b68162ea            venture   \n",
       "\n",
       "    funded_at  raised_amount_usd                   permalink          name  \\\n",
       "0  05-01-2015      10,000,000.00         /organization/-fame         #fame   \n",
       "1  09-11-2015      20,000,000.00        /organization/0xdata        H2O.ai   \n",
       "2  03-01-2013       1,700,000.00        /organization/0xdata        H2O.ai   \n",
       "3  19-07-2014       8,900,000.00        /organization/0xdata        H2O.ai   \n",
       "4  17-03-2015       5,000,000.00  /organization/1-mainstream  1 Mainstream   \n",
       "\n",
       "                      category_list     status country_code primary_sector  \\\n",
       "0                             Media  operating          IND          media   \n",
       "1                         Analytics  operating          USA      analytics   \n",
       "2                         Analytics  operating          USA      analytics   \n",
       "3                         Analytics  operating          USA      analytics   \n",
       "4  Apps|Cable|Distribution|Software   acquired          USA           apps   \n",
       "\n",
       "                  main_sector     _merge  \n",
       "0               Entertainment       both  \n",
       "1                         NaN  left_only  \n",
       "2                         NaN  left_only  \n",
       "3                         NaN  left_only  \n",
       "4  News, Search and Messaging       both  "
      ]
     },
     "execution_count": 71,
     "metadata": {},
     "output_type": "execute_result"
    }
   ],
   "source": [
    "top3_english = pd.merge(top3_english, mapping, how='left', on='primary_sector', indicator=True)\n",
    "top3_english.head()"
   ]
  },
  {
   "cell_type": "code",
   "execution_count": 72,
   "metadata": {},
   "outputs": [
    {
     "data": {
      "text/plain": [
       "39018"
      ]
     },
     "execution_count": 72,
     "metadata": {},
     "output_type": "execute_result"
    }
   ],
   "source": [
    "# Assert we have not added or removed any rows\n",
    "len(top3_english)"
   ]
  },
  {
   "cell_type": "code",
   "execution_count": 73,
   "metadata": {},
   "outputs": [
    {
     "data": {
      "text/html": [
       "<div>\n",
       "<style>\n",
       "    .dataframe thead tr:only-child th {\n",
       "        text-align: right;\n",
       "    }\n",
       "\n",
       "    .dataframe thead th {\n",
       "        text-align: left;\n",
       "    }\n",
       "\n",
       "    .dataframe tbody tr th {\n",
       "        vertical-align: top;\n",
       "    }\n",
       "</style>\n",
       "<table border=\"1\" class=\"dataframe\">\n",
       "  <thead>\n",
       "    <tr style=\"text-align: right;\">\n",
       "      <th></th>\n",
       "      <th>funding_round_permalink</th>\n",
       "      <th>funding_round_type</th>\n",
       "      <th>funded_at</th>\n",
       "      <th>raised_amount_usd</th>\n",
       "      <th>permalink</th>\n",
       "      <th>name</th>\n",
       "      <th>category_list</th>\n",
       "      <th>status</th>\n",
       "      <th>country_code</th>\n",
       "      <th>primary_sector</th>\n",
       "      <th>main_sector</th>\n",
       "      <th>_merge</th>\n",
       "    </tr>\n",
       "  </thead>\n",
       "  <tbody>\n",
       "    <tr>\n",
       "      <th>1</th>\n",
       "      <td>/funding-round/3bb2ee4a2d89251a10aaa735b1180e44</td>\n",
       "      <td>venture</td>\n",
       "      <td>09-11-2015</td>\n",
       "      <td>20,000,000.00</td>\n",
       "      <td>/organization/0xdata</td>\n",
       "      <td>H2O.ai</td>\n",
       "      <td>Analytics</td>\n",
       "      <td>operating</td>\n",
       "      <td>USA</td>\n",
       "      <td>analytics</td>\n",
       "      <td>NaN</td>\n",
       "      <td>left_only</td>\n",
       "    </tr>\n",
       "    <tr>\n",
       "      <th>2</th>\n",
       "      <td>/funding-round/ae2a174c06517c2394aed45006322a7e</td>\n",
       "      <td>venture</td>\n",
       "      <td>03-01-2013</td>\n",
       "      <td>1,700,000.00</td>\n",
       "      <td>/organization/0xdata</td>\n",
       "      <td>H2O.ai</td>\n",
       "      <td>Analytics</td>\n",
       "      <td>operating</td>\n",
       "      <td>USA</td>\n",
       "      <td>analytics</td>\n",
       "      <td>NaN</td>\n",
       "      <td>left_only</td>\n",
       "    </tr>\n",
       "    <tr>\n",
       "      <th>3</th>\n",
       "      <td>/funding-round/e1cfcbe1bdf4c70277c5f29a3482f24e</td>\n",
       "      <td>venture</td>\n",
       "      <td>19-07-2014</td>\n",
       "      <td>8,900,000.00</td>\n",
       "      <td>/organization/0xdata</td>\n",
       "      <td>H2O.ai</td>\n",
       "      <td>Analytics</td>\n",
       "      <td>operating</td>\n",
       "      <td>USA</td>\n",
       "      <td>analytics</td>\n",
       "      <td>NaN</td>\n",
       "      <td>left_only</td>\n",
       "    </tr>\n",
       "    <tr>\n",
       "      <th>12</th>\n",
       "      <td>/funding-round/b5facb0d9dea2f0352b5834892c88c53</td>\n",
       "      <td>venture</td>\n",
       "      <td>02-11-2011</td>\n",
       "      <td>500,000.00</td>\n",
       "      <td>/organization/100plus</td>\n",
       "      <td>100Plus</td>\n",
       "      <td>Analytics</td>\n",
       "      <td>acquired</td>\n",
       "      <td>USA</td>\n",
       "      <td>analytics</td>\n",
       "      <td>NaN</td>\n",
       "      <td>left_only</td>\n",
       "    </tr>\n",
       "    <tr>\n",
       "      <th>43</th>\n",
       "      <td>/funding-round/32936e588a134502712877150198a0b3</td>\n",
       "      <td>venture</td>\n",
       "      <td>13-08-2015</td>\n",
       "      <td>2,500,000.00</td>\n",
       "      <td>/organization/1world-online</td>\n",
       "      <td>1World Online</td>\n",
       "      <td>Analytics|Big Data|Enterprise Software|Market ...</td>\n",
       "      <td>operating</td>\n",
       "      <td>USA</td>\n",
       "      <td>analytics</td>\n",
       "      <td>NaN</td>\n",
       "      <td>left_only</td>\n",
       "    </tr>\n",
       "  </tbody>\n",
       "</table>\n",
       "</div>"
      ],
      "text/plain": [
       "                            funding_round_permalink funding_round_type  \\\n",
       "1   /funding-round/3bb2ee4a2d89251a10aaa735b1180e44            venture   \n",
       "2   /funding-round/ae2a174c06517c2394aed45006322a7e            venture   \n",
       "3   /funding-round/e1cfcbe1bdf4c70277c5f29a3482f24e            venture   \n",
       "12  /funding-round/b5facb0d9dea2f0352b5834892c88c53            venture   \n",
       "43  /funding-round/32936e588a134502712877150198a0b3            venture   \n",
       "\n",
       "     funded_at  raised_amount_usd                    permalink           name  \\\n",
       "1   09-11-2015      20,000,000.00         /organization/0xdata         H2O.ai   \n",
       "2   03-01-2013       1,700,000.00         /organization/0xdata         H2O.ai   \n",
       "3   19-07-2014       8,900,000.00         /organization/0xdata         H2O.ai   \n",
       "12  02-11-2011         500,000.00        /organization/100plus        100Plus   \n",
       "43  13-08-2015       2,500,000.00  /organization/1world-online  1World Online   \n",
       "\n",
       "                                        category_list     status country_code  \\\n",
       "1                                           Analytics  operating          USA   \n",
       "2                                           Analytics  operating          USA   \n",
       "3                                           Analytics  operating          USA   \n",
       "12                                          Analytics   acquired          USA   \n",
       "43  Analytics|Big Data|Enterprise Software|Market ...  operating          USA   \n",
       "\n",
       "   primary_sector main_sector     _merge  \n",
       "1       analytics         NaN  left_only  \n",
       "2       analytics         NaN  left_only  \n",
       "3       analytics         NaN  left_only  \n",
       "12      analytics         NaN  left_only  \n",
       "43      analytics         NaN  left_only  "
      ]
     },
     "execution_count": 73,
     "metadata": {},
     "output_type": "execute_result"
    }
   ],
   "source": [
    "left_only = top3_english[top3_english['_merge'] != 'both']\n",
    "left_only.head()"
   ]
  },
  {
   "cell_type": "code",
   "execution_count": 74,
   "metadata": {},
   "outputs": [
    {
     "data": {
      "text/plain": [
       "array(['adaptive equipment', 'alternative medicine', 'analytics',\n",
       "       'big data analytics', 'biotechnology and semiconductor',\n",
       "       'business analytics', 'cannabis', 'career management',\n",
       "       'cloud management', 'contact management',\n",
       "       'digital rights management', 'digital signage',\n",
       "       'document management', 'educational games', 'energy management',\n",
       "       'event management', 'finance', 'finance technology',\n",
       "       'financial exchanges', 'financial services', 'fleet management',\n",
       "       'governance', 'greentech', 'identity management',\n",
       "       'innovation management', 'intellectual asset management',\n",
       "       'investment management', 'it management', 'journalism',\n",
       "       'knowledge management', 'lead management', 'mobile analytics',\n",
       "       'nanotechnology', 'natural gas uses', 'natural language processing',\n",
       "       'navigation', 'personal finance', 'personalization',\n",
       "       'product search', 'professional networking',\n",
       "       'professional services', 'project management',\n",
       "       'property management', 'racing', 'rapidly expanding', 'retirement',\n",
       "       'risk management', 'specialty retail', 'supply chain management',\n",
       "       'task management', 'undefined', 'waste management'], dtype=object)"
      ]
     },
     "execution_count": 74,
     "metadata": {},
     "output_type": "execute_result"
    }
   ],
   "source": [
    "# Lets determine the unique primary sector name\n",
    "left_only.primary_sector.sort_values(ascending=True).unique()"
   ]
  },
  {
   "cell_type": "code",
   "execution_count": 75,
   "metadata": {},
   "outputs": [
    {
     "data": {
      "text/plain": [
       "1847                 0notechnology\n",
       "1848    0tural language processing\n",
       "1849              0tural resources\n",
       "4602                     0vigation\n",
       "3441                            3d\n",
       "3442                   3d printing\n",
       "3443                 3d technology\n",
       "5526                      a0lytics\n",
       "5508                    accounting\n",
       "2757              active lifestyle\n",
       "5510                  ad targeting\n",
       "3447            advanced materials\n",
       "8                 adventure travel\n",
       "5513                   advertising\n",
       "5514         advertising exchanges\n",
       "5515          advertising networks\n",
       "5516         advertising platforms\n",
       "4829                        advice\n",
       "14                       aerospace\n",
       "3455                   agriculture\n",
       "1392         air pollution control\n",
       "4833                    algorithms\n",
       "4834                   all markets\n",
       "4835                  all students\n",
       "2772           alter0tive medicine\n",
       "4837                        alumni\n",
       "5527                       android\n",
       "4840                        angels\n",
       "2777                   animal feed\n",
       "5530    anything capital intensive\n",
       "                   ...            \n",
       "5475        user experience design\n",
       "5476                user interface\n",
       "5477                     utilities\n",
       "5478       vending and concessions\n",
       "6167               venture capital\n",
       "3416                     veteri0ry\n",
       "2729                         video\n",
       "2730            video conferencing\n",
       "2731                   video games\n",
       "2732               video on demand\n",
       "2733               video streaming\n",
       "2734            virtual workforces\n",
       "2735                          voip\n",
       "2048               waste ma0gement\n",
       "5489                         watch\n",
       "2050                         water\n",
       "2051            water purification\n",
       "2052                     wearables\n",
       "4805                  web browsers\n",
       "4806                    web design\n",
       "5495               web development\n",
       "5496                   web hosting\n",
       "5497                     web tools\n",
       "2746                      weddings\n",
       "5499                     wholesale\n",
       "2748              wine and spirits\n",
       "2749                      wireless\n",
       "5502                         women\n",
       "5503                  young adults\n",
       "688                            NaN\n",
       "Name: primary_sector, Length: 688, dtype: object"
      ]
     },
     "execution_count": 75,
     "metadata": {},
     "output_type": "execute_result"
    }
   ],
   "source": [
    "mapping.primary_sector.sort_values(ascending=True)"
   ]
  },
  {
   "cell_type": "markdown",
   "metadata": {},
   "source": [
    "### From visual examination we can see that na is misspelt as 0. Eg: ma0gement, 0no, 0tural"
   ]
  },
  {
   "cell_type": "code",
   "execution_count": 76,
   "metadata": {},
   "outputs": [],
   "source": [
    "# function to replace 0 with na\n",
    "import re\n",
    "mapping['primary_sector'] = mapping.primary_sector.apply(lambda x: re.sub('[0]', 'na', str(x)))"
   ]
  },
  {
   "cell_type": "code",
   "execution_count": 77,
   "metadata": {},
   "outputs": [
    {
     "data": {
      "text/plain": [
       "array(['adaptive equipment', 'biotechnology and semiconductor',\n",
       "       'enterprise 2.0', 'greentech', 'natural gas uses', 'product search',\n",
       "       'racing', 'rapidly expanding', 'retirement', 'specialty retail',\n",
       "       'undefined'], dtype=object)"
      ]
     },
     "execution_count": 77,
     "metadata": {},
     "output_type": "execute_result"
    }
   ],
   "source": [
    "top3_english = top9[top9['country_code'].isin(['USA', 'GBR', 'IND'])]\n",
    "top3_english = pd.merge(top3_english, mapping, how='left', on='primary_sector', indicator=True)\n",
    "left_only = top3_english[top3_english['_merge'] != 'both']\n",
    "left_only.primary_sector.sort_values(ascending=True).unique()"
   ]
  },
  {
   "cell_type": "code",
   "execution_count": 78,
   "metadata": {},
   "outputs": [
    {
     "data": {
      "text/plain": [
       "3441                                    3d\n",
       "3442                           3d printing\n",
       "3443                         3d technology\n",
       "5508                            accounting\n",
       "2757                      active lifestyle\n",
       "5510                          ad targeting\n",
       "3447                    advanced materials\n",
       "8                         adventure travel\n",
       "5513                           advertising\n",
       "5514                 advertising exchanges\n",
       "5515                  advertising networks\n",
       "5516                 advertising platforms\n",
       "4829                                advice\n",
       "14                               aerospace\n",
       "3455                           agriculture\n",
       "1392                 air pollution control\n",
       "4833                            algorithms\n",
       "4834                           all markets\n",
       "4835                          all students\n",
       "2772                  alternative medicine\n",
       "4837                                alumni\n",
       "5526                             analytics\n",
       "5527                               android\n",
       "4840                                angels\n",
       "2777                           animal feed\n",
       "5530            anything capital intensive\n",
       "4155                         app discovery\n",
       "4156                         app marketing\n",
       "4157                            app stores\n",
       "4158    application performance monitoring\n",
       "                       ...                \n",
       "5474                             usability\n",
       "5475                user experience design\n",
       "5476                        user interface\n",
       "5477                             utilities\n",
       "5478               vending and concessions\n",
       "6167                       venture capital\n",
       "3416                            veterinary\n",
       "2729                                 video\n",
       "2730                    video conferencing\n",
       "2731                           video games\n",
       "2732                       video on demand\n",
       "2733                       video streaming\n",
       "2734                    virtual workforces\n",
       "2735                                  voip\n",
       "2048                      waste management\n",
       "5489                                 watch\n",
       "2050                                 water\n",
       "2051                    water purification\n",
       "2052                             wearables\n",
       "4805                          web browsers\n",
       "4806                            web design\n",
       "5495                       web development\n",
       "5496                           web hosting\n",
       "5497                             web tools\n",
       "2746                              weddings\n",
       "5499                             wholesale\n",
       "2748                      wine and spirits\n",
       "2749                              wireless\n",
       "5502                                 women\n",
       "5503                          young adults\n",
       "Name: primary_sector, Length: 688, dtype: object"
      ]
     },
     "execution_count": 78,
     "metadata": {},
     "output_type": "execute_result"
    }
   ],
   "source": [
    "mapping.primary_sector.sort_values(ascending=True)"
   ]
  },
  {
   "cell_type": "code",
   "execution_count": 79,
   "metadata": {},
   "outputs": [
    {
     "data": {
      "text/plain": [
       "230"
      ]
     },
     "execution_count": 79,
     "metadata": {},
     "output_type": "execute_result"
    }
   ],
   "source": [
    "len(left_only)"
   ]
  },
  {
   "cell_type": "code",
   "execution_count": 80,
   "metadata": {},
   "outputs": [
    {
     "data": {
      "text/html": [
       "<div>\n",
       "<style>\n",
       "    .dataframe thead tr:only-child th {\n",
       "        text-align: right;\n",
       "    }\n",
       "\n",
       "    .dataframe thead th {\n",
       "        text-align: left;\n",
       "    }\n",
       "\n",
       "    .dataframe tbody tr th {\n",
       "        vertical-align: top;\n",
       "    }\n",
       "</style>\n",
       "<table border=\"1\" class=\"dataframe\">\n",
       "  <thead>\n",
       "    <tr style=\"text-align: right;\">\n",
       "      <th></th>\n",
       "      <th>funding_round_permalink</th>\n",
       "      <th>funding_round_type</th>\n",
       "      <th>funded_at</th>\n",
       "      <th>raised_amount_usd</th>\n",
       "      <th>permalink</th>\n",
       "      <th>name</th>\n",
       "      <th>category_list</th>\n",
       "      <th>status</th>\n",
       "      <th>country_code</th>\n",
       "      <th>primary_sector</th>\n",
       "      <th>main_sector</th>\n",
       "    </tr>\n",
       "  </thead>\n",
       "  <tbody>\n",
       "    <tr>\n",
       "      <th>0</th>\n",
       "      <td>/funding-round/9a01d05418af9f794eebff7ace91f638</td>\n",
       "      <td>venture</td>\n",
       "      <td>05-01-2015</td>\n",
       "      <td>10,000,000.00</td>\n",
       "      <td>/organization/-fame</td>\n",
       "      <td>#fame</td>\n",
       "      <td>Media</td>\n",
       "      <td>operating</td>\n",
       "      <td>IND</td>\n",
       "      <td>media</td>\n",
       "      <td>Entertainment</td>\n",
       "    </tr>\n",
       "    <tr>\n",
       "      <th>1</th>\n",
       "      <td>/funding-round/3bb2ee4a2d89251a10aaa735b1180e44</td>\n",
       "      <td>venture</td>\n",
       "      <td>09-11-2015</td>\n",
       "      <td>20,000,000.00</td>\n",
       "      <td>/organization/0xdata</td>\n",
       "      <td>H2O.ai</td>\n",
       "      <td>Analytics</td>\n",
       "      <td>operating</td>\n",
       "      <td>USA</td>\n",
       "      <td>analytics</td>\n",
       "      <td>Social, Finance, Analytics, Advertising</td>\n",
       "    </tr>\n",
       "    <tr>\n",
       "      <th>2</th>\n",
       "      <td>/funding-round/ae2a174c06517c2394aed45006322a7e</td>\n",
       "      <td>venture</td>\n",
       "      <td>03-01-2013</td>\n",
       "      <td>1,700,000.00</td>\n",
       "      <td>/organization/0xdata</td>\n",
       "      <td>H2O.ai</td>\n",
       "      <td>Analytics</td>\n",
       "      <td>operating</td>\n",
       "      <td>USA</td>\n",
       "      <td>analytics</td>\n",
       "      <td>Social, Finance, Analytics, Advertising</td>\n",
       "    </tr>\n",
       "    <tr>\n",
       "      <th>3</th>\n",
       "      <td>/funding-round/e1cfcbe1bdf4c70277c5f29a3482f24e</td>\n",
       "      <td>venture</td>\n",
       "      <td>19-07-2014</td>\n",
       "      <td>8,900,000.00</td>\n",
       "      <td>/organization/0xdata</td>\n",
       "      <td>H2O.ai</td>\n",
       "      <td>Analytics</td>\n",
       "      <td>operating</td>\n",
       "      <td>USA</td>\n",
       "      <td>analytics</td>\n",
       "      <td>Social, Finance, Analytics, Advertising</td>\n",
       "    </tr>\n",
       "    <tr>\n",
       "      <th>4</th>\n",
       "      <td>/funding-round/b952cbaf401f310927430c97b68162ea</td>\n",
       "      <td>venture</td>\n",
       "      <td>17-03-2015</td>\n",
       "      <td>5,000,000.00</td>\n",
       "      <td>/organization/1-mainstream</td>\n",
       "      <td>1 Mainstream</td>\n",
       "      <td>Apps|Cable|Distribution|Software</td>\n",
       "      <td>acquired</td>\n",
       "      <td>USA</td>\n",
       "      <td>apps</td>\n",
       "      <td>News, Search and Messaging</td>\n",
       "    </tr>\n",
       "  </tbody>\n",
       "</table>\n",
       "</div>"
      ],
      "text/plain": [
       "                           funding_round_permalink funding_round_type  \\\n",
       "0  /funding-round/9a01d05418af9f794eebff7ace91f638            venture   \n",
       "1  /funding-round/3bb2ee4a2d89251a10aaa735b1180e44            venture   \n",
       "2  /funding-round/ae2a174c06517c2394aed45006322a7e            venture   \n",
       "3  /funding-round/e1cfcbe1bdf4c70277c5f29a3482f24e            venture   \n",
       "4  /funding-round/b952cbaf401f310927430c97b68162ea            venture   \n",
       "\n",
       "    funded_at  raised_amount_usd                   permalink          name  \\\n",
       "0  05-01-2015      10,000,000.00         /organization/-fame         #fame   \n",
       "1  09-11-2015      20,000,000.00        /organization/0xdata        H2O.ai   \n",
       "2  03-01-2013       1,700,000.00        /organization/0xdata        H2O.ai   \n",
       "3  19-07-2014       8,900,000.00        /organization/0xdata        H2O.ai   \n",
       "4  17-03-2015       5,000,000.00  /organization/1-mainstream  1 Mainstream   \n",
       "\n",
       "                      category_list     status country_code primary_sector  \\\n",
       "0                             Media  operating          IND          media   \n",
       "1                         Analytics  operating          USA      analytics   \n",
       "2                         Analytics  operating          USA      analytics   \n",
       "3                         Analytics  operating          USA      analytics   \n",
       "4  Apps|Cable|Distribution|Software   acquired          USA           apps   \n",
       "\n",
       "                               main_sector  \n",
       "0                            Entertainment  \n",
       "1  Social, Finance, Analytics, Advertising  \n",
       "2  Social, Finance, Analytics, Advertising  \n",
       "3  Social, Finance, Analytics, Advertising  \n",
       "4               News, Search and Messaging  "
      ]
     },
     "execution_count": 80,
     "metadata": {},
     "output_type": "execute_result"
    }
   ],
   "source": [
    "# we will ignore these as we not able to map then \n",
    "# since we did a left join, we can remove all rows that does not have 'both' indicator.\n",
    "top3_english = top3_english[top3_english['_merge'] == 'both']\n",
    "top3_english = top3_english.drop('_merge', axis=1)\n",
    "top3_english.head()"
   ]
  },
  {
   "cell_type": "markdown",
   "metadata": {},
   "source": [
    "## Merged dataframe has two additioanl columns - primary_sector and main_sector "
   ]
  },
  {
   "cell_type": "code",
   "execution_count": 81,
   "metadata": {},
   "outputs": [
    {
     "name": "stdout",
     "output_type": "stream",
     "text": [
      "<class 'pandas.core.frame.DataFrame'>\n",
      "Int64Index: 38788 entries, 0 to 39017\n",
      "Data columns (total 11 columns):\n",
      "funding_round_permalink    38788 non-null object\n",
      "funding_round_type         38788 non-null object\n",
      "funded_at                  38788 non-null object\n",
      "raised_amount_usd          38788 non-null float64\n",
      "permalink                  38788 non-null object\n",
      "name                       38788 non-null object\n",
      "category_list              38788 non-null object\n",
      "status                     38788 non-null object\n",
      "country_code               38788 non-null object\n",
      "primary_sector             38788 non-null object\n",
      "main_sector                38788 non-null object\n",
      "dtypes: float64(1), object(10)\n",
      "memory usage: 3.6+ MB\n"
     ]
    }
   ],
   "source": [
    "top3_english.info()"
   ]
  },
  {
   "cell_type": "code",
   "execution_count": 82,
   "metadata": {
    "collapsed": true
   },
   "outputs": [],
   "source": [
    "# lets drop all rows whoes investment is not between 5 and 15 million\n",
    "top3_english = top3_english.drop(top3_english[(top3_english.raised_amount_usd < 5000000)].index)\n",
    "top3_english = top3_english.drop(top3_english[(top3_english.raised_amount_usd > 15000000)].index)\n",
    "\n",
    "d1 = top3_english[top3_english['country_code'] == 'USA']\n",
    "d2 = top3_english[top3_english['country_code'] == 'GBR']\n",
    "d3 = top3_english[top3_english['country_code'] == 'IND']"
   ]
  },
  {
   "cell_type": "code",
   "execution_count": 83,
   "metadata": {},
   "outputs": [
    {
     "data": {
      "text/plain": [
       "12063"
      ]
     },
     "execution_count": 83,
     "metadata": {},
     "output_type": "execute_result"
    }
   ],
   "source": [
    "len(d1)"
   ]
  },
  {
   "cell_type": "code",
   "execution_count": 84,
   "metadata": {},
   "outputs": [
    {
     "data": {
      "text/plain": [
       "621"
      ]
     },
     "execution_count": 84,
     "metadata": {},
     "output_type": "execute_result"
    }
   ],
   "source": [
    "len(d2)"
   ]
  },
  {
   "cell_type": "code",
   "execution_count": 85,
   "metadata": {},
   "outputs": [
    {
     "data": {
      "text/plain": [
       "328"
      ]
     },
     "execution_count": 85,
     "metadata": {},
     "output_type": "execute_result"
    }
   ],
   "source": [
    "len(d3)"
   ]
  },
  {
   "cell_type": "code",
   "execution_count": 86,
   "metadata": {},
   "outputs": [
    {
     "data": {
      "text/plain": [
       "12063"
      ]
     },
     "execution_count": 86,
     "metadata": {},
     "output_type": "execute_result"
    }
   ],
   "source": [
    "d1['raised_amount_usd'].count()"
   ]
  },
  {
   "cell_type": "code",
   "execution_count": 87,
   "metadata": {},
   "outputs": [
    {
     "data": {
      "text/plain": [
       "107757097294.0"
      ]
     },
     "execution_count": 87,
     "metadata": {},
     "output_type": "execute_result"
    }
   ],
   "source": [
    "d1['raised_amount_usd'].sum()"
   ]
  },
  {
   "cell_type": "code",
   "execution_count": 88,
   "metadata": {},
   "outputs": [
    {
     "data": {
      "text/plain": [
       "8300000.0"
      ]
     },
     "execution_count": 88,
     "metadata": {},
     "output_type": "execute_result"
    }
   ],
   "source": [
    "d1['raised_amount_usd'].median()"
   ]
  },
  {
   "cell_type": "code",
   "execution_count": 89,
   "metadata": {},
   "outputs": [
    {
     "data": {
      "text/plain": [
       "8932860.589737212"
      ]
     },
     "execution_count": 89,
     "metadata": {},
     "output_type": "execute_result"
    }
   ],
   "source": [
    "d1['raised_amount_usd'].mean()"
   ]
  },
  {
   "cell_type": "code",
   "execution_count": 90,
   "metadata": {},
   "outputs": [
    {
     "data": {
      "text/html": [
       "<div>\n",
       "<style>\n",
       "    .dataframe thead tr:only-child th {\n",
       "        text-align: right;\n",
       "    }\n",
       "\n",
       "    .dataframe thead th {\n",
       "        text-align: left;\n",
       "    }\n",
       "\n",
       "    .dataframe tbody tr th {\n",
       "        vertical-align: top;\n",
       "    }\n",
       "</style>\n",
       "<table border=\"1\" class=\"dataframe\">\n",
       "  <thead>\n",
       "    <tr style=\"text-align: right;\">\n",
       "      <th></th>\n",
       "      <th>count</th>\n",
       "      <th>sum</th>\n",
       "    </tr>\n",
       "    <tr>\n",
       "      <th>main_sector</th>\n",
       "      <th></th>\n",
       "      <th></th>\n",
       "    </tr>\n",
       "  </thead>\n",
       "  <tbody>\n",
       "    <tr>\n",
       "      <th>Automotive &amp; Sports</th>\n",
       "      <td>167</td>\n",
       "      <td>1,454,104,361.00</td>\n",
       "    </tr>\n",
       "    <tr>\n",
       "      <th>Cleantech / Semiconductors</th>\n",
       "      <td>2350</td>\n",
       "      <td>21,633,430,822.00</td>\n",
       "    </tr>\n",
       "    <tr>\n",
       "      <th>Entertainment</th>\n",
       "      <td>591</td>\n",
       "      <td>5,099,197,982.00</td>\n",
       "    </tr>\n",
       "    <tr>\n",
       "      <th>Health</th>\n",
       "      <td>909</td>\n",
       "      <td>8,211,859,357.00</td>\n",
       "    </tr>\n",
       "    <tr>\n",
       "      <th>Manufacturing</th>\n",
       "      <td>799</td>\n",
       "      <td>7,258,553,378.00</td>\n",
       "    </tr>\n",
       "    <tr>\n",
       "      <th>News, Search and Messaging</th>\n",
       "      <td>1583</td>\n",
       "      <td>13,971,567,428.00</td>\n",
       "    </tr>\n",
       "    <tr>\n",
       "      <th>Others</th>\n",
       "      <td>2950</td>\n",
       "      <td>26,321,007,002.00</td>\n",
       "    </tr>\n",
       "    <tr>\n",
       "      <th>Social, Finance, Analytics, Advertising</th>\n",
       "      <td>2714</td>\n",
       "      <td>23,807,376,964.00</td>\n",
       "    </tr>\n",
       "  </tbody>\n",
       "</table>\n",
       "</div>"
      ],
      "text/plain": [
       "                                         count               sum\n",
       "main_sector                                                     \n",
       "Automotive & Sports                        167  1,454,104,361.00\n",
       "Cleantech / Semiconductors                2350 21,633,430,822.00\n",
       "Entertainment                              591  5,099,197,982.00\n",
       "Health                                     909  8,211,859,357.00\n",
       "Manufacturing                              799  7,258,553,378.00\n",
       "News, Search and Messaging                1583 13,971,567,428.00\n",
       "Others                                    2950 26,321,007,002.00\n",
       "Social, Finance, Analytics, Advertising   2714 23,807,376,964.00"
      ]
     },
     "execution_count": 90,
     "metadata": {},
     "output_type": "execute_result"
    }
   ],
   "source": [
    "# USA\n",
    "d1.pivot_table(values = 'raised_amount_usd',index = ['main_sector'], aggfunc = {'sum','count'})"
   ]
  },
  {
   "cell_type": "code",
   "execution_count": 91,
   "metadata": {},
   "outputs": [
    {
     "data": {
      "text/plain": [
       "main_sector\n",
       "Others                                     2950\n",
       "Social, Finance, Analytics, Advertising    2714\n",
       "Cleantech / Semiconductors                 2350\n",
       "News, Search and Messaging                 1583\n",
       "Health                                      909\n",
       "Manufacturing                               799\n",
       "Entertainment                               591\n",
       "Automotive & Sports                         167\n",
       "Name: raised_amount_usd, dtype: int64"
      ]
     },
     "execution_count": 91,
     "metadata": {},
     "output_type": "execute_result"
    }
   ],
   "source": [
    "d1.groupby('main_sector')['raised_amount_usd'].count().sort_values(ascending=False)"
   ]
  },
  {
   "cell_type": "code",
   "execution_count": 92,
   "metadata": {},
   "outputs": [
    {
     "data": {
      "text/plain": [
       "permalink\n",
       "/organization/virtustream           64,300,000.00\n",
       "/organization/capella               54,968,051.00\n",
       "/organization/airtight-networks     54,201,907.00\n",
       "/organization/decarta               52,100,000.00\n",
       "/organization/black-duck-software   51,000,000.00\n",
       "Name: raised_amount_usd, dtype: float64"
      ]
     },
     "execution_count": 92,
     "metadata": {},
     "output_type": "execute_result"
    }
   ],
   "source": [
    "d1[d1['main_sector'] == \"Others\" ].groupby('permalink')['raised_amount_usd'].sum().sort_values(ascending=False).head(5)"
   ]
  },
  {
   "cell_type": "code",
   "execution_count": 93,
   "metadata": {},
   "outputs": [
    {
     "data": {
      "text/plain": [
       "permalink\n",
       "/organization/shotspotter   67,933,006.00\n",
       "/organization/demandbase    63,000,000.00\n",
       "/organization/intacct       61,800,000.00\n",
       "/organization/netbase       60,600,000.00\n",
       "/organization/lotame        59,700,000.00\n",
       "Name: raised_amount_usd, dtype: float64"
      ]
     },
     "execution_count": 93,
     "metadata": {},
     "output_type": "execute_result"
    }
   ],
   "source": [
    "d1[d1['main_sector'] == \"Social, Finance, Analytics, Advertising\" ].groupby('permalink')['raised_amount_usd'].sum().sort_values(ascending=False).head(5)"
   ]
  },
  {
   "cell_type": "code",
   "execution_count": 94,
   "metadata": {},
   "outputs": [
    {
     "data": {
      "text/plain": [
       "621"
      ]
     },
     "execution_count": 94,
     "metadata": {},
     "output_type": "execute_result"
    }
   ],
   "source": [
    "d2['raised_amount_usd'].count()"
   ]
  },
  {
   "cell_type": "code",
   "execution_count": 95,
   "metadata": {},
   "outputs": [
    {
     "data": {
      "text/plain": [
       "5379078691.0"
      ]
     },
     "execution_count": 95,
     "metadata": {},
     "output_type": "execute_result"
    }
   ],
   "source": [
    "d2['raised_amount_usd'].sum()"
   ]
  },
  {
   "cell_type": "code",
   "execution_count": 96,
   "metadata": {},
   "outputs": [
    {
     "data": {
      "text/plain": [
       "8661962.465378422"
      ]
     },
     "execution_count": 96,
     "metadata": {},
     "output_type": "execute_result"
    }
   ],
   "source": [
    "d2['raised_amount_usd'].mean()"
   ]
  },
  {
   "cell_type": "code",
   "execution_count": 97,
   "metadata": {},
   "outputs": [
    {
     "data": {
      "text/plain": [
       "8000000.0"
      ]
     },
     "execution_count": 97,
     "metadata": {},
     "output_type": "execute_result"
    }
   ],
   "source": [
    "d2['raised_amount_usd'].median()"
   ]
  },
  {
   "cell_type": "code",
   "execution_count": 98,
   "metadata": {},
   "outputs": [
    {
     "data": {
      "text/html": [
       "<div>\n",
       "<style>\n",
       "    .dataframe thead tr:only-child th {\n",
       "        text-align: right;\n",
       "    }\n",
       "\n",
       "    .dataframe thead th {\n",
       "        text-align: left;\n",
       "    }\n",
       "\n",
       "    .dataframe tbody tr th {\n",
       "        vertical-align: top;\n",
       "    }\n",
       "</style>\n",
       "<table border=\"1\" class=\"dataframe\">\n",
       "  <thead>\n",
       "    <tr style=\"text-align: right;\">\n",
       "      <th></th>\n",
       "      <th>count</th>\n",
       "      <th>sum</th>\n",
       "    </tr>\n",
       "    <tr>\n",
       "      <th>main_sector</th>\n",
       "      <th></th>\n",
       "      <th></th>\n",
       "    </tr>\n",
       "  </thead>\n",
       "  <tbody>\n",
       "    <tr>\n",
       "      <th>Automotive &amp; Sports</th>\n",
       "      <td>16</td>\n",
       "      <td>167,051,565.00</td>\n",
       "    </tr>\n",
       "    <tr>\n",
       "      <th>Cleantech / Semiconductors</th>\n",
       "      <td>130</td>\n",
       "      <td>1,163,990,056.00</td>\n",
       "    </tr>\n",
       "    <tr>\n",
       "      <th>Entertainment</th>\n",
       "      <td>56</td>\n",
       "      <td>482,784,687.00</td>\n",
       "    </tr>\n",
       "    <tr>\n",
       "      <th>Health</th>\n",
       "      <td>24</td>\n",
       "      <td>214,537,510.00</td>\n",
       "    </tr>\n",
       "    <tr>\n",
       "      <th>Manufacturing</th>\n",
       "      <td>42</td>\n",
       "      <td>361,940,335.00</td>\n",
       "    </tr>\n",
       "    <tr>\n",
       "      <th>News, Search and Messaging</th>\n",
       "      <td>73</td>\n",
       "      <td>615,746,235.00</td>\n",
       "    </tr>\n",
       "    <tr>\n",
       "      <th>Others</th>\n",
       "      <td>147</td>\n",
       "      <td>1,283,624,289.00</td>\n",
       "    </tr>\n",
       "    <tr>\n",
       "      <th>Social, Finance, Analytics, Advertising</th>\n",
       "      <td>133</td>\n",
       "      <td>1,089,404,014.00</td>\n",
       "    </tr>\n",
       "  </tbody>\n",
       "</table>\n",
       "</div>"
      ],
      "text/plain": [
       "                                         count              sum\n",
       "main_sector                                                    \n",
       "Automotive & Sports                         16   167,051,565.00\n",
       "Cleantech / Semiconductors                 130 1,163,990,056.00\n",
       "Entertainment                               56   482,784,687.00\n",
       "Health                                      24   214,537,510.00\n",
       "Manufacturing                               42   361,940,335.00\n",
       "News, Search and Messaging                  73   615,746,235.00\n",
       "Others                                     147 1,283,624,289.00\n",
       "Social, Finance, Analytics, Advertising    133 1,089,404,014.00"
      ]
     },
     "execution_count": 98,
     "metadata": {},
     "output_type": "execute_result"
    }
   ],
   "source": [
    "# GBR\n",
    "d2.pivot_table(values = 'raised_amount_usd',index = ['main_sector'], aggfunc = {'sum','count'})"
   ]
  },
  {
   "cell_type": "code",
   "execution_count": 99,
   "metadata": {},
   "outputs": [
    {
     "data": {
      "text/plain": [
       "main_sector\n",
       "Others                                     147\n",
       "Social, Finance, Analytics, Advertising    133\n",
       "Cleantech / Semiconductors                 130\n",
       "News, Search and Messaging                  73\n",
       "Entertainment                               56\n",
       "Manufacturing                               42\n",
       "Health                                      24\n",
       "Automotive & Sports                         16\n",
       "Name: raised_amount_usd, dtype: int64"
      ]
     },
     "execution_count": 99,
     "metadata": {},
     "output_type": "execute_result"
    }
   ],
   "source": [
    "d2.groupby('main_sector')['raised_amount_usd'].count().sort_values(ascending=False)"
   ]
  },
  {
   "cell_type": "code",
   "execution_count": 100,
   "metadata": {},
   "outputs": [
    {
     "data": {
      "text/plain": [
       "permalink\n",
       "/organization/electric-cloud   37,000,000.00\n",
       "/organization/sensage          36,250,000.00\n",
       "/organization/enigmatic        32,500,000.00\n",
       "Name: raised_amount_usd, dtype: float64"
      ]
     },
     "execution_count": 100,
     "metadata": {},
     "output_type": "execute_result"
    }
   ],
   "source": [
    "d2[d2['main_sector'] == \"Others\" ].groupby('permalink')['raised_amount_usd'].sum().sort_values(ascending=False).head(3)"
   ]
  },
  {
   "cell_type": "code",
   "execution_count": 101,
   "metadata": {},
   "outputs": [
    {
     "data": {
      "text/plain": [
       "permalink\n",
       "/organization/celltick-technologies   37,500,000.00\n",
       "/organization/mythings                34,000,000.00\n",
       "/organization/zopa                    32,900,000.00\n",
       "/organization/imagini                 28,550,000.00\n",
       "/organization/marketinvoice           25,553,007.00\n",
       "Name: raised_amount_usd, dtype: float64"
      ]
     },
     "execution_count": 101,
     "metadata": {},
     "output_type": "execute_result"
    }
   ],
   "source": [
    "d2[d2['main_sector'] == \"Social, Finance, Analytics, Advertising\" ].groupby('permalink')['raised_amount_usd'].sum().sort_values(ascending=False).head(5)"
   ]
  },
  {
   "cell_type": "code",
   "execution_count": 102,
   "metadata": {},
   "outputs": [
    {
     "data": {
      "text/plain": [
       "328"
      ]
     },
     "execution_count": 102,
     "metadata": {},
     "output_type": "execute_result"
    }
   ],
   "source": [
    "d3['raised_amount_usd'].count()"
   ]
  },
  {
   "cell_type": "code",
   "execution_count": 103,
   "metadata": {},
   "outputs": [
    {
     "data": {
      "text/plain": [
       "2949543602.0"
      ]
     },
     "execution_count": 103,
     "metadata": {},
     "output_type": "execute_result"
    }
   ],
   "source": [
    "d3['raised_amount_usd'].sum()"
   ]
  },
  {
   "cell_type": "code",
   "execution_count": 104,
   "metadata": {},
   "outputs": [
    {
     "data": {
      "text/plain": [
       "8992510.981707318"
      ]
     },
     "execution_count": 104,
     "metadata": {},
     "output_type": "execute_result"
    }
   ],
   "source": [
    "d3['raised_amount_usd'].mean()"
   ]
  },
  {
   "cell_type": "code",
   "execution_count": 105,
   "metadata": {},
   "outputs": [
    {
     "data": {
      "text/plain": [
       "8700000.0"
      ]
     },
     "execution_count": 105,
     "metadata": {},
     "output_type": "execute_result"
    }
   ],
   "source": [
    "d3['raised_amount_usd'].median()"
   ]
  },
  {
   "cell_type": "code",
   "execution_count": 106,
   "metadata": {},
   "outputs": [
    {
     "data": {
      "text/html": [
       "<div>\n",
       "<style>\n",
       "    .dataframe thead tr:only-child th {\n",
       "        text-align: right;\n",
       "    }\n",
       "\n",
       "    .dataframe thead th {\n",
       "        text-align: left;\n",
       "    }\n",
       "\n",
       "    .dataframe tbody tr th {\n",
       "        vertical-align: top;\n",
       "    }\n",
       "</style>\n",
       "<table border=\"1\" class=\"dataframe\">\n",
       "  <thead>\n",
       "    <tr style=\"text-align: right;\">\n",
       "      <th></th>\n",
       "      <th>count</th>\n",
       "      <th>sum</th>\n",
       "    </tr>\n",
       "    <tr>\n",
       "      <th>main_sector</th>\n",
       "      <th></th>\n",
       "      <th></th>\n",
       "    </tr>\n",
       "  </thead>\n",
       "  <tbody>\n",
       "    <tr>\n",
       "      <th>Automotive &amp; Sports</th>\n",
       "      <td>13</td>\n",
       "      <td>136,900,000.00</td>\n",
       "    </tr>\n",
       "    <tr>\n",
       "      <th>Cleantech / Semiconductors</th>\n",
       "      <td>20</td>\n",
       "      <td>165,380,000.00</td>\n",
       "    </tr>\n",
       "    <tr>\n",
       "      <th>Entertainment</th>\n",
       "      <td>33</td>\n",
       "      <td>280,830,000.00</td>\n",
       "    </tr>\n",
       "    <tr>\n",
       "      <th>Health</th>\n",
       "      <td>19</td>\n",
       "      <td>167,740,000.00</td>\n",
       "    </tr>\n",
       "    <tr>\n",
       "      <th>Manufacturing</th>\n",
       "      <td>21</td>\n",
       "      <td>200,900,000.00</td>\n",
       "    </tr>\n",
       "    <tr>\n",
       "      <th>News, Search and Messaging</th>\n",
       "      <td>52</td>\n",
       "      <td>433,834,545.00</td>\n",
       "    </tr>\n",
       "    <tr>\n",
       "      <th>Others</th>\n",
       "      <td>110</td>\n",
       "      <td>1,013,409,507.00</td>\n",
       "    </tr>\n",
       "    <tr>\n",
       "      <th>Social, Finance, Analytics, Advertising</th>\n",
       "      <td>60</td>\n",
       "      <td>550,549,550.00</td>\n",
       "    </tr>\n",
       "  </tbody>\n",
       "</table>\n",
       "</div>"
      ],
      "text/plain": [
       "                                         count              sum\n",
       "main_sector                                                    \n",
       "Automotive & Sports                         13   136,900,000.00\n",
       "Cleantech / Semiconductors                  20   165,380,000.00\n",
       "Entertainment                               33   280,830,000.00\n",
       "Health                                      19   167,740,000.00\n",
       "Manufacturing                               21   200,900,000.00\n",
       "News, Search and Messaging                  52   433,834,545.00\n",
       "Others                                     110 1,013,409,507.00\n",
       "Social, Finance, Analytics, Advertising     60   550,549,550.00"
      ]
     },
     "execution_count": 106,
     "metadata": {},
     "output_type": "execute_result"
    }
   ],
   "source": [
    "# IND\n",
    "d3.pivot_table(values = 'raised_amount_usd',index = ['main_sector'], aggfunc = {'sum','count'})"
   ]
  },
  {
   "cell_type": "code",
   "execution_count": 107,
   "metadata": {},
   "outputs": [
    {
     "data": {
      "text/plain": [
       "main_sector\n",
       "Others                                     110\n",
       "Social, Finance, Analytics, Advertising     60\n",
       "News, Search and Messaging                  52\n",
       "Entertainment                               33\n",
       "Manufacturing                               21\n",
       "Cleantech / Semiconductors                  20\n",
       "Health                                      19\n",
       "Automotive & Sports                         13\n",
       "Name: raised_amount_usd, dtype: int64"
      ]
     },
     "execution_count": 107,
     "metadata": {},
     "output_type": "execute_result"
    }
   ],
   "source": [
    "d3.groupby('main_sector')['raised_amount_usd'].count().sort_values(ascending=False)"
   ]
  },
  {
   "cell_type": "code",
   "execution_count": 108,
   "metadata": {},
   "outputs": [
    {
     "data": {
      "text/plain": [
       "permalink\n",
       "/organization/firstcry-com                                                             39,000,000.00\n",
       "/organization/myntra                                                                   38,000,000.00\n",
       "/organization/commonfloor                                                              32,900,000.00\n",
       "/organization/pepperfry-com                                                            28,000,000.00\n",
       "/organization/itzcash-card-ltd                                                         25,000,000.00\n",
       "/organization/nxtgen-data-center-cloud-services                                        22,300,000.00\n",
       "/organization/maharana-infrastructure-and-professional-services-private-limited-mips   21,600,000.00\n",
       "/organization/caratlane                                                                21,000,000.00\n",
       "/organization/comat-technologies                                                       21,000,000.00\n",
       "/organization/limeroad                                                                 20,000,000.00\n",
       "Name: raised_amount_usd, dtype: float64"
      ]
     },
     "execution_count": 108,
     "metadata": {},
     "output_type": "execute_result"
    }
   ],
   "source": [
    "d3[d3['main_sector'] == \"Others\" ].groupby('permalink')['raised_amount_usd'].sum().sort_values(ascending=False).head(10)"
   ]
  },
  {
   "cell_type": "code",
   "execution_count": 109,
   "metadata": {},
   "outputs": [
    {
     "data": {
      "text/plain": [
       "permalink\n",
       "/organization/manthan-systems                                50,700,000.00\n",
       "/organization/komli-media                                    28,000,000.00\n",
       "/organization/shopclues-com                                  25,000,000.00\n",
       "/organization/intarvo                                        21,900,000.00\n",
       "/organization/grameen-financial-services                     21,556,050.00\n",
       "/organization/bankbazaar                                     19,000,000.00\n",
       "/organization/microland                                      18,300,000.00\n",
       "/organization/eka-software-solutions                         16,000,000.00\n",
       "/organization/qyuki                                          15,400,000.00\n",
       "/organization/financial-information-network-operations-pvt   15,000,000.00\n",
       "Name: raised_amount_usd, dtype: float64"
      ]
     },
     "execution_count": 109,
     "metadata": {},
     "output_type": "execute_result"
    }
   ],
   "source": [
    "d3[d3['main_sector'] == \"Social, Finance, Analytics, Advertising\" ].groupby('permalink')['raised_amount_usd'].sum().sort_values(ascending=False).head(10)"
   ]
  },
  {
   "cell_type": "markdown",
   "metadata": {},
   "source": [
    "# USA"
   ]
  },
  {
   "cell_type": "code",
   "execution_count": 110,
   "metadata": {},
   "outputs": [
    {
     "data": {
      "image/png": "[encoded data removed]",
      "text/plain": [
       "<matplotlib.figure.Figure at 0x7f4529be4d30>"
      ]
     },
     "metadata": {},
     "output_type": "display_data"
    }
   ],
   "source": [
    "plt.figure(figsize=(20, 10))\n",
    "plt.subplot(1, 2, 1)\n",
    "sns.countplot(y=\"main_sector\", data=d1)\n",
    "plt.title(\"Count\")\n",
    "plt.subplot(1, 2, 2)\n",
    "sns.barplot(y=\"main_sector\", x=\"raised_amount_usd\", data=d1, estimator=sum)\n",
    "plt.title(\"Sum\")\n",
    "plt.show()"
   ]
  },
  {
   "cell_type": "markdown",
   "metadata": {},
   "source": [
    "# Great Britian"
   ]
  },
  {
   "cell_type": "code",
   "execution_count": 111,
   "metadata": {},
   "outputs": [
    {
     "data": {
      "image/png": "[encoded data removed]",
      "text/plain": [
       "<matplotlib.figure.Figure at 0x7f4529815d68>"
      ]
     },
     "metadata": {},
     "output_type": "display_data"
    }
   ],
   "source": [
    "plt.figure(figsize=(20, 10))\n",
    "plt.subplot(1, 2, 1)\n",
    "sns.countplot(y=\"main_sector\", data=d2)\n",
    "plt.title(\"Count\")\n",
    "plt.subplot(1, 2, 2)\n",
    "sns.barplot(y=\"main_sector\", x=\"raised_amount_usd\", data=d2, estimator=sum)\n",
    "plt.title(\"Sum\")\n",
    "plt.show()"
   ]
  },
  {
   "cell_type": "markdown",
   "metadata": {},
   "source": [
    "# India"
   ]
  },
  {
   "cell_type": "code",
   "execution_count": 112,
   "metadata": {},
   "outputs": [
    {
     "data": {
      "image/png": "[encoded data removed]",
      "text/plain": [
       "<matplotlib.figure.Figure at 0x7f45295a8e48>"
      ]
     },
     "metadata": {},
     "output_type": "display_data"
    }
   ],
   "source": [
    "plt.figure(figsize=(20, 10))\n",
    "plt.subplot(1, 2, 1)\n",
    "sns.countplot(y=\"main_sector\", data=d3)\n",
    "plt.title(\"Count\")\n",
    "plt.subplot(1, 2, 2)\n",
    "sns.barplot(y=\"main_sector\", x=\"raised_amount_usd\", data=d3, estimator=sum)\n",
    "plt.title(\"Sum\")\n",
    "plt.show()"
   ]
  },
  {
   "cell_type": "code",
   "execution_count": 113,
   "metadata": {},
   "outputs": [
    {
     "data": {
      "image/png": "[encoded data removed]",
      "text/plain": [
       "<matplotlib.figure.Figure at 0x7f4529be4ba8>"
      ]
     },
     "metadata": {},
     "output_type": "display_data"
    }
   ],
   "source": [
    "# specify hue=\"categorical_variable\"\n",
    "plt.figure(figsize=(30, 20))\n",
    "sns.barplot(y='country_code', x='raised_amount_usd', hue=\"main_sector\", data=top3_english, estimator=np.sum)\n",
    "plt.show()"
   ]
  },
  {
   "cell_type": "code",
   "execution_count": 114,
   "metadata": {},
   "outputs": [
    {
     "data": {
      "image/png": "[encoded data removed]",
      "text/plain": [
       "<matplotlib.figure.Figure at 0x7f452940a518>"
      ]
     },
     "metadata": {},
     "output_type": "display_data"
    }
   ],
   "source": [
    "plt.figure(figsize=(25, 20))\n",
    "sns.barplot(y='main_sector', x='raised_amount_usd', hue=\"country_code\", data=top3_english, estimator=np.sum)\n",
    "plt.show()"
   ]
  },
  {
   "cell_type": "code",
   "execution_count": null,
   "metadata": {
    "collapsed": true
   },
   "outputs": [],
   "source": []
  }
 ],
 "metadata": {
  "kernelspec": {
   "display_name": "Python 3",
   "language": "python",
   "name": "python3"
  },
  "language_info": {
   "codemirror_mode": {
    "name": "ipython",
    "version": 3
   },
   "file_extension": ".py",
   "mimetype": "text/x-python",
   "name": "python",
   "nbconvert_exporter": "python",
   "pygments_lexer": "ipython3",
   "version": "3.6.3"
  }
 },
 "nbformat": 4,
 "nbformat_minor": 2
}
